{
 "cells": [
  {
   "cell_type": "markdown",
   "metadata": {},
   "source": [
    "## Importing the relevant packages"
   ]
  },
  {
   "cell_type": "code",
   "execution_count": 9,
   "metadata": {},
   "outputs": [],
   "source": [
    "import pandas as pd\n",
    "import numpy as np\n",
    "import matplotlib.pyplot as plt\n",
    "import statsmodels.graphics.tsaplots as sgt\n",
    "import statsmodels.tsa.stattools as sts\n",
    "from statsmodels.tsa.arima_model import ARMA\n",
    "from scipy.stats.distributions import chi2 \n",
    "import seaborn as sns\n",
    "sns.set()"
   ]
  },
  {
   "cell_type": "markdown",
   "metadata": {},
   "source": [
    " "
   ]
  },
  {
   "cell_type": "markdown",
   "metadata": {},
   "source": [
    "## Importing the Data and Pre-processing "
   ]
  },
  {
   "cell_type": "code",
   "execution_count": 10,
   "metadata": {},
   "outputs": [],
   "source": [
    "raw_csv_data = pd.read_csv(\"Index2018.csv\") \n",
    "df_comp=raw_csv_data.copy()\n",
    "df_comp.date = pd.to_datetime(df_comp.date, dayfirst = True)\n",
    "df_comp.set_index(\"date\", inplace=True)\n",
    "df_comp=df_comp.asfreq('b')\n",
    "df_comp=df_comp.fillna(method='ffill')"
   ]
  },
  {
   "cell_type": "code",
   "execution_count": 11,
   "metadata": {},
   "outputs": [],
   "source": [
    "df_comp['market_value']=df_comp.ftse"
   ]
  },
  {
   "cell_type": "code",
   "execution_count": 12,
   "metadata": {},
   "outputs": [],
   "source": [
    "del df_comp['spx']\n",
    "del df_comp['dax']\n",
    "del df_comp['ftse']\n",
    "del df_comp['nikkei']\n",
    "size = int(len(df_comp)*0.8)\n",
    "df, df_test = df_comp.iloc[:size], df_comp.iloc[size:]"
   ]
  },
  {
   "cell_type": "code",
   "execution_count": 13,
   "metadata": {},
   "outputs": [],
   "source": [
    "import warnings\n",
    "warnings.filterwarnings(\"ignore\")"
   ]
  },
  {
   "cell_type": "markdown",
   "metadata": {},
   "source": [
    " "
   ]
  },
  {
   "cell_type": "markdown",
   "metadata": {},
   "source": [
    "## The LLR Test"
   ]
  },
  {
   "cell_type": "code",
   "execution_count": 14,
   "metadata": {},
   "outputs": [],
   "source": [
    "def LLR_test(mod_1, mod_2, DF = 1):\n",
    "    L1 = mod_1.fit().llf\n",
    "    L2 = mod_2.fit().llf\n",
    "    LR = (2*(L2-L1))    \n",
    "    p = chi2.sf(LR, DF).round(3)\n",
    "    return p"
   ]
  },
  {
   "cell_type": "markdown",
   "metadata": {},
   "source": [
    "## Creating Returns"
   ]
  },
  {
   "cell_type": "code",
   "execution_count": 15,
   "metadata": {
    "scrolled": true
   },
   "outputs": [],
   "source": [
    "df['returns'] = df.market_value.pct_change(1)*100"
   ]
  },
  {
   "cell_type": "markdown",
   "metadata": {},
   "source": [
    "## ARMA(1,1)"
   ]
  },
  {
   "cell_type": "code",
   "execution_count": 16,
   "metadata": {},
   "outputs": [
    {
     "data": {
      "text/html": [
       "<table class=\"simpletable\">\n",
       "<caption>ARMA Model Results</caption>\n",
       "<tr>\n",
       "  <th>Dep. Variable:</th>      <td>returns</td>     <th>  No. Observations:  </th>   <td>5020</td>   \n",
       "</tr>\n",
       "<tr>\n",
       "  <th>Model:</th>            <td>ARMA(1, 1)</td>    <th>  Log Likelihood     </th> <td>-7916.500</td>\n",
       "</tr>\n",
       "<tr>\n",
       "  <th>Method:</th>             <td>css-mle</td>     <th>  S.D. of innovations</th>   <td>1.171</td>  \n",
       "</tr>\n",
       "<tr>\n",
       "  <th>Date:</th>          <td>Sun, 12 Apr 2020</td> <th>  AIC                </th> <td>15841.000</td>\n",
       "</tr>\n",
       "<tr>\n",
       "  <th>Time:</th>              <td>13:49:31</td>     <th>  BIC                </th> <td>15867.085</td>\n",
       "</tr>\n",
       "<tr>\n",
       "  <th>Sample:</th>           <td>01-10-1994</td>    <th>  HQIC               </th> <td>15850.140</td>\n",
       "</tr>\n",
       "<tr>\n",
       "  <th></th>                 <td>- 04-05-2013</td>   <th>                     </th>     <td> </td>    \n",
       "</tr>\n",
       "</table>\n",
       "<table class=\"simpletable\">\n",
       "<tr>\n",
       "        <td></td>           <th>coef</th>     <th>std err</th>      <th>z</th>      <th>P>|z|</th>  <th>[0.025</th>    <th>0.975]</th>  \n",
       "</tr>\n",
       "<tr>\n",
       "  <th>const</th>         <td>    0.0189</td> <td>    0.013</td> <td>    1.446</td> <td> 0.148</td> <td>   -0.007</td> <td>    0.045</td>\n",
       "</tr>\n",
       "<tr>\n",
       "  <th>ar.L1.returns</th> <td>    0.7649</td> <td>    0.067</td> <td>   11.349</td> <td> 0.000</td> <td>    0.633</td> <td>    0.897</td>\n",
       "</tr>\n",
       "<tr>\n",
       "  <th>ma.L1.returns</th> <td>   -0.8141</td> <td>    0.061</td> <td>  -13.406</td> <td> 0.000</td> <td>   -0.933</td> <td>   -0.695</td>\n",
       "</tr>\n",
       "</table>\n",
       "<table class=\"simpletable\">\n",
       "<caption>Roots</caption>\n",
       "<tr>\n",
       "    <td></td>   <th>            Real</th>  <th>         Imaginary</th> <th>         Modulus</th>  <th>        Frequency</th>\n",
       "</tr>\n",
       "<tr>\n",
       "  <th>AR.1</th> <td>           1.3074</td> <td>          +0.0000j</td> <td>           1.3074</td> <td>           0.0000</td>\n",
       "</tr>\n",
       "<tr>\n",
       "  <th>MA.1</th> <td>           1.2284</td> <td>          +0.0000j</td> <td>           1.2284</td> <td>           0.0000</td>\n",
       "</tr>\n",
       "</table>"
      ],
      "text/plain": [
       "<class 'statsmodels.iolib.summary.Summary'>\n",
       "\"\"\"\n",
       "                              ARMA Model Results                              \n",
       "==============================================================================\n",
       "Dep. Variable:                returns   No. Observations:                 5020\n",
       "Model:                     ARMA(1, 1)   Log Likelihood               -7916.500\n",
       "Method:                       css-mle   S.D. of innovations              1.171\n",
       "Date:                Sun, 12 Apr 2020   AIC                          15841.000\n",
       "Time:                        13:49:31   BIC                          15867.085\n",
       "Sample:                    01-10-1994   HQIC                         15850.140\n",
       "                         - 04-05-2013                                         \n",
       "=================================================================================\n",
       "                    coef    std err          z      P>|z|      [0.025      0.975]\n",
       "---------------------------------------------------------------------------------\n",
       "const             0.0189      0.013      1.446      0.148      -0.007       0.045\n",
       "ar.L1.returns     0.7649      0.067     11.349      0.000       0.633       0.897\n",
       "ma.L1.returns    -0.8141      0.061    -13.406      0.000      -0.933      -0.695\n",
       "                                    Roots                                    \n",
       "=============================================================================\n",
       "                  Real          Imaginary           Modulus         Frequency\n",
       "-----------------------------------------------------------------------------\n",
       "AR.1            1.3074           +0.0000j            1.3074            0.0000\n",
       "MA.1            1.2284           +0.0000j            1.2284            0.0000\n",
       "-----------------------------------------------------------------------------\n",
       "\"\"\""
      ]
     },
     "execution_count": 16,
     "metadata": {},
     "output_type": "execute_result"
    }
   ],
   "source": [
    "model_ret_ar_ma_1 = ARMA(df.returns[1:], order = (1,1))\n",
    "results_ret_ar_ma_1 = model_ret_ar_ma_1.fit()\n",
    "results_ret_ar_ma_1.summary()"
   ]
  },
  {
   "cell_type": "code",
   "execution_count": 17,
   "metadata": {
    "scrolled": true
   },
   "outputs": [],
   "source": [
    "model_ret_ar_1 = ARMA(df.returns[1:], order = (1,0))\n",
    "model_ret_ma_1 = ARMA(df.returns[1:], order = (0,1))\n"
   ]
  },
  {
   "cell_type": "code",
   "execution_count": 19,
   "metadata": {},
   "outputs": [
    {
     "name": "stdout",
     "output_type": "stream",
     "text": [
      "\n",
      " ARMA vs AR : 0.0\n",
      "\n",
      " ARMA vs MA : 0.0\n"
     ]
    }
   ],
   "source": [
    "print(\"\\n ARMA vs AR : \" + str(LLR_test(model_ret_ar_1, model_ret_ar_ma_1)))\n",
    "print(\"\\n ARMA vs MA : \" + str(LLR_test(model_ret_ma_1, model_ret_ar_ma_1)))\n"
   ]
  },
  {
   "cell_type": "markdown",
   "metadata": {},
   "source": [
    "## Higher-Lag ARMA Models"
   ]
  },
  {
   "cell_type": "code",
   "execution_count": 21,
   "metadata": {},
   "outputs": [
    {
     "data": {
      "text/html": [
       "<table class=\"simpletable\">\n",
       "<caption>ARMA Model Results</caption>\n",
       "<tr>\n",
       "  <th>Dep. Variable:</th>      <td>returns</td>     <th>  No. Observations:  </th>   <td>5020</td>   \n",
       "</tr>\n",
       "<tr>\n",
       "  <th>Model:</th>            <td>ARMA(3, 3)</td>    <th>  Log Likelihood     </th> <td>-7893.515</td>\n",
       "</tr>\n",
       "<tr>\n",
       "  <th>Method:</th>             <td>css-mle</td>     <th>  S.D. of innovations</th>   <td>1.166</td>  \n",
       "</tr>\n",
       "<tr>\n",
       "  <th>Date:</th>          <td>Sun, 12 Apr 2020</td> <th>  AIC                </th> <td>15803.030</td>\n",
       "</tr>\n",
       "<tr>\n",
       "  <th>Time:</th>              <td>14:27:52</td>     <th>  BIC                </th> <td>15855.199</td>\n",
       "</tr>\n",
       "<tr>\n",
       "  <th>Sample:</th>           <td>01-10-1994</td>    <th>  HQIC               </th> <td>15821.310</td>\n",
       "</tr>\n",
       "<tr>\n",
       "  <th></th>                 <td>- 04-05-2013</td>   <th>                     </th>     <td> </td>    \n",
       "</tr>\n",
       "</table>\n",
       "<table class=\"simpletable\">\n",
       "<tr>\n",
       "        <td></td>           <th>coef</th>     <th>std err</th>      <th>z</th>      <th>P>|z|</th>  <th>[0.025</th>    <th>0.975]</th>  \n",
       "</tr>\n",
       "<tr>\n",
       "  <th>const</th>         <td>    0.0189</td> <td>    0.014</td> <td>    1.395</td> <td> 0.163</td> <td>   -0.008</td> <td>    0.045</td>\n",
       "</tr>\n",
       "<tr>\n",
       "  <th>ar.L1.returns</th> <td>   -0.1898</td> <td>    0.104</td> <td>   -1.827</td> <td> 0.068</td> <td>   -0.393</td> <td>    0.014</td>\n",
       "</tr>\n",
       "<tr>\n",
       "  <th>ar.L2.returns</th> <td>   -0.2942</td> <td>    0.087</td> <td>   -3.389</td> <td> 0.001</td> <td>   -0.464</td> <td>   -0.124</td>\n",
       "</tr>\n",
       "<tr>\n",
       "  <th>ar.L3.returns</th> <td>    0.4459</td> <td>    0.138</td> <td>    3.225</td> <td> 0.001</td> <td>    0.175</td> <td>    0.717</td>\n",
       "</tr>\n",
       "<tr>\n",
       "  <th>ma.L1.returns</th> <td>    0.1707</td> <td>    0.099</td> <td>    1.726</td> <td> 0.084</td> <td>   -0.023</td> <td>    0.365</td>\n",
       "</tr>\n",
       "<tr>\n",
       "  <th>ma.L2.returns</th> <td>    0.2277</td> <td>    0.084</td> <td>    2.701</td> <td> 0.007</td> <td>    0.062</td> <td>    0.393</td>\n",
       "</tr>\n",
       "<tr>\n",
       "  <th>ma.L3.returns</th> <td>   -0.5432</td> <td>    0.127</td> <td>   -4.270</td> <td> 0.000</td> <td>   -0.793</td> <td>   -0.294</td>\n",
       "</tr>\n",
       "</table>\n",
       "<table class=\"simpletable\">\n",
       "<caption>Roots</caption>\n",
       "<tr>\n",
       "    <td></td>   <th>            Real</th>  <th>         Imaginary</th> <th>         Modulus</th>  <th>        Frequency</th>\n",
       "</tr>\n",
       "<tr>\n",
       "  <th>AR.1</th> <td>          -0.5168</td> <td>          -1.0283j</td> <td>           1.1508</td> <td>          -0.3241</td>\n",
       "</tr>\n",
       "<tr>\n",
       "  <th>AR.2</th> <td>          -0.5168</td> <td>          +1.0283j</td> <td>           1.1508</td> <td>           0.3241</td>\n",
       "</tr>\n",
       "<tr>\n",
       "  <th>AR.3</th> <td>           1.6932</td> <td>          -0.0000j</td> <td>           1.6932</td> <td>          -0.0000</td>\n",
       "</tr>\n",
       "<tr>\n",
       "  <th>MA.1</th> <td>          -0.5286</td> <td>          -0.9835j</td> <td>           1.1166</td> <td>          -0.3285</td>\n",
       "</tr>\n",
       "<tr>\n",
       "  <th>MA.2</th> <td>          -0.5286</td> <td>          +0.9835j</td> <td>           1.1166</td> <td>           0.3285</td>\n",
       "</tr>\n",
       "<tr>\n",
       "  <th>MA.3</th> <td>           1.4764</td> <td>          -0.0000j</td> <td>           1.4764</td> <td>          -0.0000</td>\n",
       "</tr>\n",
       "</table>"
      ],
      "text/plain": [
       "<class 'statsmodels.iolib.summary.Summary'>\n",
       "\"\"\"\n",
       "                              ARMA Model Results                              \n",
       "==============================================================================\n",
       "Dep. Variable:                returns   No. Observations:                 5020\n",
       "Model:                     ARMA(3, 3)   Log Likelihood               -7893.515\n",
       "Method:                       css-mle   S.D. of innovations              1.166\n",
       "Date:                Sun, 12 Apr 2020   AIC                          15803.030\n",
       "Time:                        14:27:52   BIC                          15855.199\n",
       "Sample:                    01-10-1994   HQIC                         15821.310\n",
       "                         - 04-05-2013                                         \n",
       "=================================================================================\n",
       "                    coef    std err          z      P>|z|      [0.025      0.975]\n",
       "---------------------------------------------------------------------------------\n",
       "const             0.0189      0.014      1.395      0.163      -0.008       0.045\n",
       "ar.L1.returns    -0.1898      0.104     -1.827      0.068      -0.393       0.014\n",
       "ar.L2.returns    -0.2942      0.087     -3.389      0.001      -0.464      -0.124\n",
       "ar.L3.returns     0.4459      0.138      3.225      0.001       0.175       0.717\n",
       "ma.L1.returns     0.1707      0.099      1.726      0.084      -0.023       0.365\n",
       "ma.L2.returns     0.2277      0.084      2.701      0.007       0.062       0.393\n",
       "ma.L3.returns    -0.5432      0.127     -4.270      0.000      -0.793      -0.294\n",
       "                                    Roots                                    \n",
       "=============================================================================\n",
       "                  Real          Imaginary           Modulus         Frequency\n",
       "-----------------------------------------------------------------------------\n",
       "AR.1           -0.5168           -1.0283j            1.1508           -0.3241\n",
       "AR.2           -0.5168           +1.0283j            1.1508            0.3241\n",
       "AR.3            1.6932           -0.0000j            1.6932           -0.0000\n",
       "MA.1           -0.5286           -0.9835j            1.1166           -0.3285\n",
       "MA.2           -0.5286           +0.9835j            1.1166            0.3285\n",
       "MA.3            1.4764           -0.0000j            1.4764           -0.0000\n",
       "-----------------------------------------------------------------------------\n",
       "\"\"\""
      ]
     },
     "execution_count": 21,
     "metadata": {},
     "output_type": "execute_result"
    }
   ],
   "source": [
    "model_ret_ar3_ma3 = ARMA(df.returns[1:], order = (3,3))\n",
    "results_ret_ar3_ma3 = model_ret_ar3_ma3.fit()\n",
    "results_ret_ar3_ma3.summary()"
   ]
  },
  {
   "cell_type": "code",
   "execution_count": 22,
   "metadata": {},
   "outputs": [
    {
     "data": {
      "text/plain": [
       "0.0"
      ]
     },
     "execution_count": 22,
     "metadata": {},
     "output_type": "execute_result"
    }
   ],
   "source": [
    "LLR_test(model_ret_ar_ma_1,model_ret_ar3_ma3, DF= 4)"
   ]
  },
  {
   "cell_type": "code",
   "execution_count": 24,
   "metadata": {},
   "outputs": [
    {
     "data": {
      "text/html": [
       "<table class=\"simpletable\">\n",
       "<caption>ARMA Model Results</caption>\n",
       "<tr>\n",
       "  <th>Dep. Variable:</th>      <td>returns</td>     <th>  No. Observations:  </th>   <td>5020</td>   \n",
       "</tr>\n",
       "<tr>\n",
       "  <th>Model:</th>            <td>ARMA(3, 2)</td>    <th>  Log Likelihood     </th> <td>-7895.747</td>\n",
       "</tr>\n",
       "<tr>\n",
       "  <th>Method:</th>             <td>css-mle</td>     <th>  S.D. of innovations</th>   <td>1.166</td>  \n",
       "</tr>\n",
       "<tr>\n",
       "  <th>Date:</th>          <td>Sun, 12 Apr 2020</td> <th>  AIC                </th> <td>15805.495</td>\n",
       "</tr>\n",
       "<tr>\n",
       "  <th>Time:</th>              <td>18:23:21</td>     <th>  BIC                </th> <td>15851.143</td>\n",
       "</tr>\n",
       "<tr>\n",
       "  <th>Sample:</th>           <td>01-10-1994</td>    <th>  HQIC               </th> <td>15821.491</td>\n",
       "</tr>\n",
       "<tr>\n",
       "  <th></th>                 <td>- 04-05-2013</td>   <th>                     </th>     <td> </td>    \n",
       "</tr>\n",
       "</table>\n",
       "<table class=\"simpletable\">\n",
       "<tr>\n",
       "        <td></td>           <th>coef</th>     <th>std err</th>      <th>z</th>      <th>P>|z|</th>  <th>[0.025</th>    <th>0.975]</th>  \n",
       "</tr>\n",
       "<tr>\n",
       "  <th>const</th>         <td>    0.0188</td> <td>    0.015</td> <td>    1.251</td> <td> 0.211</td> <td>   -0.011</td> <td>    0.048</td>\n",
       "</tr>\n",
       "<tr>\n",
       "  <th>ar.L1.returns</th> <td>   -0.6785</td> <td>    0.087</td> <td>   -7.799</td> <td> 0.000</td> <td>   -0.849</td> <td>   -0.508</td>\n",
       "</tr>\n",
       "<tr>\n",
       "  <th>ar.L2.returns</th> <td>   -0.5088</td> <td>    0.139</td> <td>   -3.670</td> <td> 0.000</td> <td>   -0.780</td> <td>   -0.237</td>\n",
       "</tr>\n",
       "<tr>\n",
       "  <th>ar.L3.returns</th> <td>   -0.1141</td> <td>    0.015</td> <td>   -7.655</td> <td> 0.000</td> <td>   -0.143</td> <td>   -0.085</td>\n",
       "</tr>\n",
       "<tr>\n",
       "  <th>ma.L1.returns</th> <td>    0.6568</td> <td>    0.087</td> <td>    7.536</td> <td> 0.000</td> <td>    0.486</td> <td>    0.828</td>\n",
       "</tr>\n",
       "<tr>\n",
       "  <th>ma.L2.returns</th> <td>    0.4474</td> <td>    0.141</td> <td>    3.175</td> <td> 0.002</td> <td>    0.171</td> <td>    0.724</td>\n",
       "</tr>\n",
       "</table>\n",
       "<table class=\"simpletable\">\n",
       "<caption>Roots</caption>\n",
       "<tr>\n",
       "    <td></td>   <th>            Real</th>  <th>         Imaginary</th> <th>         Modulus</th>  <th>        Frequency</th>\n",
       "</tr>\n",
       "<tr>\n",
       "  <th>AR.1</th> <td>          -0.4929</td> <td>          -1.5100j</td> <td>           1.5884</td> <td>          -0.3002</td>\n",
       "</tr>\n",
       "<tr>\n",
       "  <th>AR.2</th> <td>          -0.4929</td> <td>          +1.5100j</td> <td>           1.5884</td> <td>           0.3002</td>\n",
       "</tr>\n",
       "<tr>\n",
       "  <th>AR.3</th> <td>          -3.4749</td> <td>          -0.0000j</td> <td>           3.4749</td> <td>          -0.5000</td>\n",
       "</tr>\n",
       "<tr>\n",
       "  <th>MA.1</th> <td>          -0.7340</td> <td>          -1.3025j</td> <td>           1.4951</td> <td>          -0.3317</td>\n",
       "</tr>\n",
       "<tr>\n",
       "  <th>MA.2</th> <td>          -0.7340</td> <td>          +1.3025j</td> <td>           1.4951</td> <td>           0.3317</td>\n",
       "</tr>\n",
       "</table>"
      ],
      "text/plain": [
       "<class 'statsmodels.iolib.summary.Summary'>\n",
       "\"\"\"\n",
       "                              ARMA Model Results                              \n",
       "==============================================================================\n",
       "Dep. Variable:                returns   No. Observations:                 5020\n",
       "Model:                     ARMA(3, 2)   Log Likelihood               -7895.747\n",
       "Method:                       css-mle   S.D. of innovations              1.166\n",
       "Date:                Sun, 12 Apr 2020   AIC                          15805.495\n",
       "Time:                        18:23:21   BIC                          15851.143\n",
       "Sample:                    01-10-1994   HQIC                         15821.491\n",
       "                         - 04-05-2013                                         \n",
       "=================================================================================\n",
       "                    coef    std err          z      P>|z|      [0.025      0.975]\n",
       "---------------------------------------------------------------------------------\n",
       "const             0.0188      0.015      1.251      0.211      -0.011       0.048\n",
       "ar.L1.returns    -0.6785      0.087     -7.799      0.000      -0.849      -0.508\n",
       "ar.L2.returns    -0.5088      0.139     -3.670      0.000      -0.780      -0.237\n",
       "ar.L3.returns    -0.1141      0.015     -7.655      0.000      -0.143      -0.085\n",
       "ma.L1.returns     0.6568      0.087      7.536      0.000       0.486       0.828\n",
       "ma.L2.returns     0.4474      0.141      3.175      0.002       0.171       0.724\n",
       "                                    Roots                                    \n",
       "=============================================================================\n",
       "                  Real          Imaginary           Modulus         Frequency\n",
       "-----------------------------------------------------------------------------\n",
       "AR.1           -0.4929           -1.5100j            1.5884           -0.3002\n",
       "AR.2           -0.4929           +1.5100j            1.5884            0.3002\n",
       "AR.3           -3.4749           -0.0000j            3.4749           -0.5000\n",
       "MA.1           -0.7340           -1.3025j            1.4951           -0.3317\n",
       "MA.2           -0.7340           +1.3025j            1.4951            0.3317\n",
       "-----------------------------------------------------------------------------\n",
       "\"\"\""
      ]
     },
     "execution_count": 24,
     "metadata": {},
     "output_type": "execute_result"
    }
   ],
   "source": [
    "model_ret_ar3_ma2 = ARMA(df.returns[1:], order = (3,2))\n",
    "results_ret_ar3_ma2 = model_ret_ar3_ma2.fit()\n",
    "results_ret_ar3_ma2.summary()"
   ]
  },
  {
   "cell_type": "code",
   "execution_count": 25,
   "metadata": {},
   "outputs": [
    {
     "data": {
      "text/html": [
       "<table class=\"simpletable\">\n",
       "<caption>ARMA Model Results</caption>\n",
       "<tr>\n",
       "  <th>Dep. Variable:</th>      <td>returns</td>     <th>  No. Observations:  </th>   <td>5020</td>   \n",
       "</tr>\n",
       "<tr>\n",
       "  <th>Model:</th>            <td>ARMA(2, 3)</td>    <th>  Log Likelihood     </th> <td>-7895.587</td>\n",
       "</tr>\n",
       "<tr>\n",
       "  <th>Method:</th>             <td>css-mle</td>     <th>  S.D. of innovations</th>   <td>1.166</td>  \n",
       "</tr>\n",
       "<tr>\n",
       "  <th>Date:</th>          <td>Sun, 12 Apr 2020</td> <th>  AIC                </th> <td>15805.174</td>\n",
       "</tr>\n",
       "<tr>\n",
       "  <th>Time:</th>              <td>18:29:29</td>     <th>  BIC                </th> <td>15850.823</td>\n",
       "</tr>\n",
       "<tr>\n",
       "  <th>Sample:</th>           <td>01-10-1994</td>    <th>  HQIC               </th> <td>15821.170</td>\n",
       "</tr>\n",
       "<tr>\n",
       "  <th></th>                 <td>- 04-05-2013</td>   <th>                     </th>     <td> </td>    \n",
       "</tr>\n",
       "</table>\n",
       "<table class=\"simpletable\">\n",
       "<tr>\n",
       "        <td></td>           <th>coef</th>     <th>std err</th>      <th>z</th>      <th>P>|z|</th>  <th>[0.025</th>    <th>0.975]</th>  \n",
       "</tr>\n",
       "<tr>\n",
       "  <th>const</th>         <td>    0.0189</td> <td>    0.015</td> <td>    1.276</td> <td> 0.202</td> <td>   -0.010</td> <td>    0.048</td>\n",
       "</tr>\n",
       "<tr>\n",
       "  <th>ar.L1.returns</th> <td>   -0.5605</td> <td>    0.090</td> <td>   -6.245</td> <td> 0.000</td> <td>   -0.736</td> <td>   -0.385</td>\n",
       "</tr>\n",
       "<tr>\n",
       "  <th>ar.L2.returns</th> <td>   -0.4187</td> <td>    0.193</td> <td>   -2.172</td> <td> 0.030</td> <td>   -0.797</td> <td>   -0.041</td>\n",
       "</tr>\n",
       "<tr>\n",
       "  <th>ma.L1.returns</th> <td>    0.5378</td> <td>    0.090</td> <td>    6.000</td> <td> 0.000</td> <td>    0.362</td> <td>    0.714</td>\n",
       "</tr>\n",
       "<tr>\n",
       "  <th>ma.L2.returns</th> <td>    0.3540</td> <td>    0.195</td> <td>    1.818</td> <td> 0.069</td> <td>   -0.028</td> <td>    0.736</td>\n",
       "</tr>\n",
       "<tr>\n",
       "  <th>ma.L3.returns</th> <td>   -0.1158</td> <td>    0.016</td> <td>   -7.369</td> <td> 0.000</td> <td>   -0.147</td> <td>   -0.085</td>\n",
       "</tr>\n",
       "</table>\n",
       "<table class=\"simpletable\">\n",
       "<caption>Roots</caption>\n",
       "<tr>\n",
       "    <td></td>   <th>            Real</th>  <th>         Imaginary</th> <th>         Modulus</th>  <th>        Frequency</th>\n",
       "</tr>\n",
       "<tr>\n",
       "  <th>AR.1</th> <td>          -0.6694</td> <td>          -1.3930j</td> <td>           1.5455</td> <td>          -0.3213</td>\n",
       "</tr>\n",
       "<tr>\n",
       "  <th>AR.2</th> <td>          -0.6694</td> <td>          +1.3930j</td> <td>           1.5455</td> <td>           0.3213</td>\n",
       "</tr>\n",
       "<tr>\n",
       "  <th>MA.1</th> <td>          -0.7270</td> <td>          -1.1772j</td> <td>           1.3836</td> <td>          -0.3381</td>\n",
       "</tr>\n",
       "<tr>\n",
       "  <th>MA.2</th> <td>          -0.7270</td> <td>          +1.1772j</td> <td>           1.3836</td> <td>           0.3381</td>\n",
       "</tr>\n",
       "<tr>\n",
       "  <th>MA.3</th> <td>           4.5096</td> <td>          -0.0000j</td> <td>           4.5096</td> <td>          -0.0000</td>\n",
       "</tr>\n",
       "</table>"
      ],
      "text/plain": [
       "<class 'statsmodels.iolib.summary.Summary'>\n",
       "\"\"\"\n",
       "                              ARMA Model Results                              \n",
       "==============================================================================\n",
       "Dep. Variable:                returns   No. Observations:                 5020\n",
       "Model:                     ARMA(2, 3)   Log Likelihood               -7895.587\n",
       "Method:                       css-mle   S.D. of innovations              1.166\n",
       "Date:                Sun, 12 Apr 2020   AIC                          15805.174\n",
       "Time:                        18:29:29   BIC                          15850.823\n",
       "Sample:                    01-10-1994   HQIC                         15821.170\n",
       "                         - 04-05-2013                                         \n",
       "=================================================================================\n",
       "                    coef    std err          z      P>|z|      [0.025      0.975]\n",
       "---------------------------------------------------------------------------------\n",
       "const             0.0189      0.015      1.276      0.202      -0.010       0.048\n",
       "ar.L1.returns    -0.5605      0.090     -6.245      0.000      -0.736      -0.385\n",
       "ar.L2.returns    -0.4187      0.193     -2.172      0.030      -0.797      -0.041\n",
       "ma.L1.returns     0.5378      0.090      6.000      0.000       0.362       0.714\n",
       "ma.L2.returns     0.3540      0.195      1.818      0.069      -0.028       0.736\n",
       "ma.L3.returns    -0.1158      0.016     -7.369      0.000      -0.147      -0.085\n",
       "                                    Roots                                    \n",
       "=============================================================================\n",
       "                  Real          Imaginary           Modulus         Frequency\n",
       "-----------------------------------------------------------------------------\n",
       "AR.1           -0.6694           -1.3930j            1.5455           -0.3213\n",
       "AR.2           -0.6694           +1.3930j            1.5455            0.3213\n",
       "MA.1           -0.7270           -1.1772j            1.3836           -0.3381\n",
       "MA.2           -0.7270           +1.1772j            1.3836            0.3381\n",
       "MA.3            4.5096           -0.0000j            4.5096           -0.0000\n",
       "-----------------------------------------------------------------------------\n",
       "\"\"\""
      ]
     },
     "execution_count": 25,
     "metadata": {},
     "output_type": "execute_result"
    }
   ],
   "source": [
    "model_ret_ar2_ma3 = ARMA(df.returns[1:], order = (2,3))\n",
    "results_ret_ar2_ma3 = model_ret_ar2_ma3.fit()\n",
    "results_ret_ar2_ma3.summary()"
   ]
  },
  {
   "cell_type": "code",
   "execution_count": 26,
   "metadata": {},
   "outputs": [
    {
     "data": {
      "text/plain": [
       "0.042"
      ]
     },
     "execution_count": 26,
     "metadata": {},
     "output_type": "execute_result"
    }
   ],
   "source": [
    "LLR_test(model_ret_ar2_ma3, model_ret_ar3_ma3)"
   ]
  },
  {
   "cell_type": "code",
   "execution_count": 27,
   "metadata": {},
   "outputs": [
    {
     "data": {
      "text/html": [
       "<table class=\"simpletable\">\n",
       "<caption>ARMA Model Results</caption>\n",
       "<tr>\n",
       "  <th>Dep. Variable:</th>      <td>returns</td>     <th>  No. Observations:  </th>   <td>5020</td>   \n",
       "</tr>\n",
       "<tr>\n",
       "  <th>Model:</th>            <td>ARMA(3, 1)</td>    <th>  Log Likelihood     </th> <td>-7899.072</td>\n",
       "</tr>\n",
       "<tr>\n",
       "  <th>Method:</th>             <td>css-mle</td>     <th>  S.D. of innovations</th>   <td>1.167</td>  \n",
       "</tr>\n",
       "<tr>\n",
       "  <th>Date:</th>          <td>Sun, 12 Apr 2020</td> <th>  AIC                </th> <td>15810.144</td>\n",
       "</tr>\n",
       "<tr>\n",
       "  <th>Time:</th>              <td>19:02:38</td>     <th>  BIC                </th> <td>15849.271</td>\n",
       "</tr>\n",
       "<tr>\n",
       "  <th>Sample:</th>           <td>01-10-1994</td>    <th>  HQIC               </th> <td>15823.855</td>\n",
       "</tr>\n",
       "<tr>\n",
       "  <th></th>                 <td>- 04-05-2013</td>   <th>                     </th>     <td> </td>    \n",
       "</tr>\n",
       "</table>\n",
       "<table class=\"simpletable\">\n",
       "<tr>\n",
       "        <td></td>           <th>coef</th>     <th>std err</th>      <th>z</th>      <th>P>|z|</th>  <th>[0.025</th>    <th>0.975]</th>  \n",
       "</tr>\n",
       "<tr>\n",
       "  <th>const</th>         <td>    0.0189</td> <td>    0.015</td> <td>    1.298</td> <td> 0.194</td> <td>   -0.010</td> <td>    0.047</td>\n",
       "</tr>\n",
       "<tr>\n",
       "  <th>ar.L1.returns</th> <td>   -0.5077</td> <td>    0.088</td> <td>   -5.769</td> <td> 0.000</td> <td>   -0.680</td> <td>   -0.335</td>\n",
       "</tr>\n",
       "<tr>\n",
       "  <th>ar.L2.returns</th> <td>   -0.0638</td> <td>    0.016</td> <td>   -4.023</td> <td> 0.000</td> <td>   -0.095</td> <td>   -0.033</td>\n",
       "</tr>\n",
       "<tr>\n",
       "  <th>ar.L3.returns</th> <td>   -0.1102</td> <td>    0.014</td> <td>   -7.850</td> <td> 0.000</td> <td>   -0.138</td> <td>   -0.083</td>\n",
       "</tr>\n",
       "<tr>\n",
       "  <th>ma.L1.returns</th> <td>    0.4839</td> <td>    0.088</td> <td>    5.500</td> <td> 0.000</td> <td>    0.311</td> <td>    0.656</td>\n",
       "</tr>\n",
       "</table>\n",
       "<table class=\"simpletable\">\n",
       "<caption>Roots</caption>\n",
       "<tr>\n",
       "    <td></td>   <th>            Real</th>  <th>         Imaginary</th> <th>         Modulus</th>  <th>        Frequency</th>\n",
       "</tr>\n",
       "<tr>\n",
       "  <th>AR.1</th> <td>          -1.5095</td> <td>          -0.0000j</td> <td>           1.5095</td> <td>          -0.5000</td>\n",
       "</tr>\n",
       "<tr>\n",
       "  <th>AR.2</th> <td>           0.4653</td> <td>          -2.4076j</td> <td>           2.4521</td> <td>          -0.2196</td>\n",
       "</tr>\n",
       "<tr>\n",
       "  <th>AR.3</th> <td>           0.4653</td> <td>          +2.4076j</td> <td>           2.4521</td> <td>           0.2196</td>\n",
       "</tr>\n",
       "<tr>\n",
       "  <th>MA.1</th> <td>          -2.0668</td> <td>          +0.0000j</td> <td>           2.0668</td> <td>           0.5000</td>\n",
       "</tr>\n",
       "</table>"
      ],
      "text/plain": [
       "<class 'statsmodels.iolib.summary.Summary'>\n",
       "\"\"\"\n",
       "                              ARMA Model Results                              \n",
       "==============================================================================\n",
       "Dep. Variable:                returns   No. Observations:                 5020\n",
       "Model:                     ARMA(3, 1)   Log Likelihood               -7899.072\n",
       "Method:                       css-mle   S.D. of innovations              1.167\n",
       "Date:                Sun, 12 Apr 2020   AIC                          15810.144\n",
       "Time:                        19:02:38   BIC                          15849.271\n",
       "Sample:                    01-10-1994   HQIC                         15823.855\n",
       "                         - 04-05-2013                                         \n",
       "=================================================================================\n",
       "                    coef    std err          z      P>|z|      [0.025      0.975]\n",
       "---------------------------------------------------------------------------------\n",
       "const             0.0189      0.015      1.298      0.194      -0.010       0.047\n",
       "ar.L1.returns    -0.5077      0.088     -5.769      0.000      -0.680      -0.335\n",
       "ar.L2.returns    -0.0638      0.016     -4.023      0.000      -0.095      -0.033\n",
       "ar.L3.returns    -0.1102      0.014     -7.850      0.000      -0.138      -0.083\n",
       "ma.L1.returns     0.4839      0.088      5.500      0.000       0.311       0.656\n",
       "                                    Roots                                    \n",
       "=============================================================================\n",
       "                  Real          Imaginary           Modulus         Frequency\n",
       "-----------------------------------------------------------------------------\n",
       "AR.1           -1.5095           -0.0000j            1.5095           -0.5000\n",
       "AR.2            0.4653           -2.4076j            2.4521           -0.2196\n",
       "AR.3            0.4653           +2.4076j            2.4521            0.2196\n",
       "MA.1           -2.0668           +0.0000j            2.0668            0.5000\n",
       "-----------------------------------------------------------------------------\n",
       "\"\"\""
      ]
     },
     "execution_count": 27,
     "metadata": {},
     "output_type": "execute_result"
    }
   ],
   "source": [
    "model_ret_ar3_ma1 = ARMA(df.returns[1:], order = (3,1))\n",
    "results_ret_ar3_ma1 = model_ret_ar3_ma1.fit()\n",
    "results_ret_ar3_ma1.summary()"
   ]
  },
  {
   "cell_type": "code",
   "execution_count": 28,
   "metadata": {},
   "outputs": [
    {
     "data": {
      "text/plain": [
       "0.01"
      ]
     },
     "execution_count": 28,
     "metadata": {},
     "output_type": "execute_result"
    }
   ],
   "source": [
    "LLR_test(model_ret_ar3_ma1,model_ret_ar3_ma2)"
   ]
  },
  {
   "cell_type": "code",
   "execution_count": 29,
   "metadata": {},
   "outputs": [
    {
     "data": {
      "text/html": [
       "<table class=\"simpletable\">\n",
       "<caption>ARMA Model Results</caption>\n",
       "<tr>\n",
       "  <th>Dep. Variable:</th>      <td>returns</td>     <th>  No. Observations:  </th>   <td>5020</td>   \n",
       "</tr>\n",
       "<tr>\n",
       "  <th>Model:</th>            <td>ARMA(2, 2)</td>    <th>  Log Likelihood     </th> <td>-7913.223</td>\n",
       "</tr>\n",
       "<tr>\n",
       "  <th>Method:</th>             <td>css-mle</td>     <th>  S.D. of innovations</th>   <td>1.170</td>  \n",
       "</tr>\n",
       "<tr>\n",
       "  <th>Date:</th>          <td>Sun, 12 Apr 2020</td> <th>  AIC                </th> <td>15838.446</td>\n",
       "</tr>\n",
       "<tr>\n",
       "  <th>Time:</th>              <td>19:05:51</td>     <th>  BIC                </th> <td>15877.573</td>\n",
       "</tr>\n",
       "<tr>\n",
       "  <th>Sample:</th>           <td>01-10-1994</td>    <th>  HQIC               </th> <td>15852.156</td>\n",
       "</tr>\n",
       "<tr>\n",
       "  <th></th>                 <td>- 04-05-2013</td>   <th>                     </th>     <td> </td>    \n",
       "</tr>\n",
       "</table>\n",
       "<table class=\"simpletable\">\n",
       "<tr>\n",
       "        <td></td>           <th>coef</th>     <th>std err</th>      <th>z</th>      <th>P>|z|</th>  <th>[0.025</th>    <th>0.975]</th>  \n",
       "</tr>\n",
       "<tr>\n",
       "  <th>const</th>         <td>    0.0189</td> <td>    0.014</td> <td>    1.394</td> <td> 0.163</td> <td>   -0.008</td> <td>    0.045</td>\n",
       "</tr>\n",
       "<tr>\n",
       "  <th>ar.L1.returns</th> <td>    0.7820</td> <td>    0.238</td> <td>    3.284</td> <td> 0.001</td> <td>    0.315</td> <td>    1.249</td>\n",
       "</tr>\n",
       "<tr>\n",
       "  <th>ar.L2.returns</th> <td>   -0.1563</td> <td>    0.177</td> <td>   -0.884</td> <td> 0.377</td> <td>   -0.503</td> <td>    0.190</td>\n",
       "</tr>\n",
       "<tr>\n",
       "  <th>ma.L1.returns</th> <td>   -0.8105</td> <td>    0.239</td> <td>   -3.388</td> <td> 0.001</td> <td>   -1.279</td> <td>   -0.342</td>\n",
       "</tr>\n",
       "<tr>\n",
       "  <th>ma.L2.returns</th> <td>    0.1177</td> <td>    0.187</td> <td>    0.628</td> <td> 0.530</td> <td>   -0.250</td> <td>    0.485</td>\n",
       "</tr>\n",
       "</table>\n",
       "<table class=\"simpletable\">\n",
       "<caption>Roots</caption>\n",
       "<tr>\n",
       "    <td></td>   <th>            Real</th>  <th>         Imaginary</th> <th>         Modulus</th>  <th>        Frequency</th>\n",
       "</tr>\n",
       "<tr>\n",
       "  <th>AR.1</th> <td>           2.5017</td> <td>          -0.3739j</td> <td>           2.5294</td> <td>          -0.0236</td>\n",
       "</tr>\n",
       "<tr>\n",
       "  <th>AR.2</th> <td>           2.5017</td> <td>          +0.3739j</td> <td>           2.5294</td> <td>           0.0236</td>\n",
       "</tr>\n",
       "<tr>\n",
       "  <th>MA.1</th> <td>           1.6107</td> <td>          +0.0000j</td> <td>           1.6107</td> <td>           0.0000</td>\n",
       "</tr>\n",
       "<tr>\n",
       "  <th>MA.2</th> <td>           5.2736</td> <td>          +0.0000j</td> <td>           5.2736</td> <td>           0.0000</td>\n",
       "</tr>\n",
       "</table>"
      ],
      "text/plain": [
       "<class 'statsmodels.iolib.summary.Summary'>\n",
       "\"\"\"\n",
       "                              ARMA Model Results                              \n",
       "==============================================================================\n",
       "Dep. Variable:                returns   No. Observations:                 5020\n",
       "Model:                     ARMA(2, 2)   Log Likelihood               -7913.223\n",
       "Method:                       css-mle   S.D. of innovations              1.170\n",
       "Date:                Sun, 12 Apr 2020   AIC                          15838.446\n",
       "Time:                        19:05:51   BIC                          15877.573\n",
       "Sample:                    01-10-1994   HQIC                         15852.156\n",
       "                         - 04-05-2013                                         \n",
       "=================================================================================\n",
       "                    coef    std err          z      P>|z|      [0.025      0.975]\n",
       "---------------------------------------------------------------------------------\n",
       "const             0.0189      0.014      1.394      0.163      -0.008       0.045\n",
       "ar.L1.returns     0.7820      0.238      3.284      0.001       0.315       1.249\n",
       "ar.L2.returns    -0.1563      0.177     -0.884      0.377      -0.503       0.190\n",
       "ma.L1.returns    -0.8105      0.239     -3.388      0.001      -1.279      -0.342\n",
       "ma.L2.returns     0.1177      0.187      0.628      0.530      -0.250       0.485\n",
       "                                    Roots                                    \n",
       "=============================================================================\n",
       "                  Real          Imaginary           Modulus         Frequency\n",
       "-----------------------------------------------------------------------------\n",
       "AR.1            2.5017           -0.3739j            2.5294           -0.0236\n",
       "AR.2            2.5017           +0.3739j            2.5294            0.0236\n",
       "MA.1            1.6107           +0.0000j            1.6107            0.0000\n",
       "MA.2            5.2736           +0.0000j            5.2736            0.0000\n",
       "-----------------------------------------------------------------------------\n",
       "\"\"\""
      ]
     },
     "execution_count": 29,
     "metadata": {},
     "output_type": "execute_result"
    }
   ],
   "source": [
    "model_ret_ar2_ma2 = ARMA(df.returns[1:], order = (2,2))\n",
    "results_ret_ar2_ma2 = model_ret_ar2_ma2.fit()\n",
    "results_ret_ar2_ma2.summary()"
   ]
  },
  {
   "cell_type": "code",
   "execution_count": 30,
   "metadata": {},
   "outputs": [
    {
     "data": {
      "text/html": [
       "<table class=\"simpletable\">\n",
       "<caption>ARMA Model Results</caption>\n",
       "<tr>\n",
       "  <th>Dep. Variable:</th>      <td>returns</td>     <th>  No. Observations:  </th>   <td>5020</td>   \n",
       "</tr>\n",
       "<tr>\n",
       "  <th>Model:</th>            <td>ARMA(1, 3)</td>    <th>  Log Likelihood     </th> <td>-7896.838</td>\n",
       "</tr>\n",
       "<tr>\n",
       "  <th>Method:</th>             <td>css-mle</td>     <th>  S.D. of innovations</th>   <td>1.167</td>  \n",
       "</tr>\n",
       "<tr>\n",
       "  <th>Date:</th>          <td>Sun, 12 Apr 2020</td> <th>  AIC                </th> <td>15805.676</td>\n",
       "</tr>\n",
       "<tr>\n",
       "  <th>Time:</th>              <td>19:07:01</td>     <th>  BIC                </th> <td>15844.803</td>\n",
       "</tr>\n",
       "<tr>\n",
       "  <th>Sample:</th>           <td>01-10-1994</td>    <th>  HQIC               </th> <td>15819.386</td>\n",
       "</tr>\n",
       "<tr>\n",
       "  <th></th>                 <td>- 04-05-2013</td>   <th>                     </th>     <td> </td>    \n",
       "</tr>\n",
       "</table>\n",
       "<table class=\"simpletable\">\n",
       "<tr>\n",
       "        <td></td>           <th>coef</th>     <th>std err</th>      <th>z</th>      <th>P>|z|</th>  <th>[0.025</th>    <th>0.975]</th>  \n",
       "</tr>\n",
       "<tr>\n",
       "  <th>const</th>         <td>    0.0189</td> <td>    0.014</td> <td>    1.332</td> <td> 0.183</td> <td>   -0.009</td> <td>    0.047</td>\n",
       "</tr>\n",
       "<tr>\n",
       "  <th>ar.L1.returns</th> <td>   -0.4699</td> <td>    0.096</td> <td>   -4.901</td> <td> 0.000</td> <td>   -0.658</td> <td>   -0.282</td>\n",
       "</tr>\n",
       "<tr>\n",
       "  <th>ma.L1.returns</th> <td>    0.4474</td> <td>    0.095</td> <td>    4.691</td> <td> 0.000</td> <td>    0.260</td> <td>    0.634</td>\n",
       "</tr>\n",
       "<tr>\n",
       "  <th>ma.L2.returns</th> <td>   -0.0637</td> <td>    0.015</td> <td>   -4.113</td> <td> 0.000</td> <td>   -0.094</td> <td>   -0.033</td>\n",
       "</tr>\n",
       "<tr>\n",
       "  <th>ma.L3.returns</th> <td>   -0.1182</td> <td>    0.014</td> <td>   -8.200</td> <td> 0.000</td> <td>   -0.146</td> <td>   -0.090</td>\n",
       "</tr>\n",
       "</table>\n",
       "<table class=\"simpletable\">\n",
       "<caption>Roots</caption>\n",
       "<tr>\n",
       "    <td></td>   <th>            Real</th>  <th>         Imaginary</th> <th>         Modulus</th>  <th>        Frequency</th>\n",
       "</tr>\n",
       "<tr>\n",
       "  <th>AR.1</th> <td>          -2.1282</td> <td>          +0.0000j</td> <td>           2.1282</td> <td>           0.5000</td>\n",
       "</tr>\n",
       "<tr>\n",
       "  <th>MA.1</th> <td>          -1.4882</td> <td>          -1.1206j</td> <td>           1.8629</td> <td>          -0.3973</td>\n",
       "</tr>\n",
       "<tr>\n",
       "  <th>MA.2</th> <td>          -1.4882</td> <td>          +1.1206j</td> <td>           1.8629</td> <td>           0.3973</td>\n",
       "</tr>\n",
       "<tr>\n",
       "  <th>MA.3</th> <td>           2.4376</td> <td>          -0.0000j</td> <td>           2.4376</td> <td>          -0.0000</td>\n",
       "</tr>\n",
       "</table>"
      ],
      "text/plain": [
       "<class 'statsmodels.iolib.summary.Summary'>\n",
       "\"\"\"\n",
       "                              ARMA Model Results                              \n",
       "==============================================================================\n",
       "Dep. Variable:                returns   No. Observations:                 5020\n",
       "Model:                     ARMA(1, 3)   Log Likelihood               -7896.838\n",
       "Method:                       css-mle   S.D. of innovations              1.167\n",
       "Date:                Sun, 12 Apr 2020   AIC                          15805.676\n",
       "Time:                        19:07:01   BIC                          15844.803\n",
       "Sample:                    01-10-1994   HQIC                         15819.386\n",
       "                         - 04-05-2013                                         \n",
       "=================================================================================\n",
       "                    coef    std err          z      P>|z|      [0.025      0.975]\n",
       "---------------------------------------------------------------------------------\n",
       "const             0.0189      0.014      1.332      0.183      -0.009       0.047\n",
       "ar.L1.returns    -0.4699      0.096     -4.901      0.000      -0.658      -0.282\n",
       "ma.L1.returns     0.4474      0.095      4.691      0.000       0.260       0.634\n",
       "ma.L2.returns    -0.0637      0.015     -4.113      0.000      -0.094      -0.033\n",
       "ma.L3.returns    -0.1182      0.014     -8.200      0.000      -0.146      -0.090\n",
       "                                    Roots                                    \n",
       "=============================================================================\n",
       "                  Real          Imaginary           Modulus         Frequency\n",
       "-----------------------------------------------------------------------------\n",
       "AR.1           -2.1282           +0.0000j            2.1282            0.5000\n",
       "MA.1           -1.4882           -1.1206j            1.8629           -0.3973\n",
       "MA.2           -1.4882           +1.1206j            1.8629            0.3973\n",
       "MA.3            2.4376           -0.0000j            2.4376           -0.0000\n",
       "-----------------------------------------------------------------------------\n",
       "\"\"\""
      ]
     },
     "execution_count": 30,
     "metadata": {},
     "output_type": "execute_result"
    }
   ],
   "source": [
    "model_ret_ar1_ma3 = ARMA(df.returns[1:], order = (1,3))\n",
    "results_ret_ar1_ma3 = model_ret_ar1_ma3.fit()\n",
    "results_ret_ar1_ma3.summary()"
   ]
  },
  {
   "cell_type": "code",
   "execution_count": 32,
   "metadata": {},
   "outputs": [
    {
     "name": "stdout",
     "output_type": "stream",
     "text": [
      "\n",
      " ARMA(3,2): LL =  -7895.747458514805 \t AIC  =  15805.49491702961\n",
      "\n",
      " ARMA(1,3): LL =  -7896.837893752804 \t AIC  =  15805.675787505608\n"
     ]
    }
   ],
   "source": [
    "print(\"\\n ARMA(3,2): LL = \", results_ret_ar3_ma2.llf,\"\\t AIC  = \", results_ret_ar3_ma2.aic)\n",
    "print(\"\\n ARMA(1,3): LL = \",results_ret_ar1_ma3.llf,\"\\t AIC  = \", results_ret_ar1_ma3.aic)\n"
   ]
  },
  {
   "cell_type": "markdown",
   "metadata": {},
   "source": [
    "## Residuals for Returns"
   ]
  },
  {
   "cell_type": "code",
   "execution_count": 33,
   "metadata": {},
   "outputs": [],
   "source": [
    "df['res_ret_ar3_ma2'] = results_ret_ar3_ma2.resid[1:]"
   ]
  },
  {
   "cell_type": "code",
   "execution_count": 34,
   "metadata": {},
   "outputs": [
    {
     "data": {
      "image/png": "[encoded data removed]",
      "text/plain": [
       "<Figure size 1440x360 with 1 Axes>"
      ]
     },
     "metadata": {},
     "output_type": "display_data"
    }
   ],
   "source": [
    "df.res_ret_ar3_ma2.plot(figsize = (20,5))\n",
    "plt.title(\"Residual of Returns\", size = 24)\n",
    "plt.show()"
   ]
  },
  {
   "cell_type": "code",
   "execution_count": 35,
   "metadata": {},
   "outputs": [
    {
     "data": {
      "image/png": "[encoded data removed]",
      "text/plain": [
       "<Figure size 432x288 with 1 Axes>"
      ]
     },
     "metadata": {},
     "output_type": "display_data"
    }
   ],
   "source": [
    "sgt.plot_acf(df.res_ret_ar3_ma2[2:], zero=False, lags=40)\n",
    "plt.title(\"ACF of Residuals for Results\")\n",
    "plt.show()"
   ]
  },
  {
   "cell_type": "markdown",
   "metadata": {},
   "source": [
    "## Reevaluating Model Selection"
   ]
  },
  {
   "cell_type": "code",
   "execution_count": 36,
   "metadata": {},
   "outputs": [
    {
     "data": {
      "text/html": [
       "<table class=\"simpletable\">\n",
       "<caption>ARMA Model Results</caption>\n",
       "<tr>\n",
       "  <th>Dep. Variable:</th>      <td>returns</td>     <th>  No. Observations:  </th>   <td>5020</td>   \n",
       "</tr>\n",
       "<tr>\n",
       "  <th>Model:</th>            <td>ARMA(5, 5)</td>    <th>  Log Likelihood     </th> <td>-7882.160</td>\n",
       "</tr>\n",
       "<tr>\n",
       "  <th>Method:</th>             <td>css-mle</td>     <th>  S.D. of innovations</th>   <td>1.163</td>  \n",
       "</tr>\n",
       "<tr>\n",
       "  <th>Date:</th>          <td>Sun, 12 Apr 2020</td> <th>  AIC                </th> <td>15788.321</td>\n",
       "</tr>\n",
       "<tr>\n",
       "  <th>Time:</th>              <td>20:39:24</td>     <th>  BIC                </th> <td>15866.575</td>\n",
       "</tr>\n",
       "<tr>\n",
       "  <th>Sample:</th>           <td>01-10-1994</td>    <th>  HQIC               </th> <td>15815.742</td>\n",
       "</tr>\n",
       "<tr>\n",
       "  <th></th>                 <td>- 04-05-2013</td>   <th>                     </th>     <td> </td>    \n",
       "</tr>\n",
       "</table>\n",
       "<table class=\"simpletable\">\n",
       "<tr>\n",
       "        <td></td>           <th>coef</th>     <th>std err</th>      <th>z</th>      <th>P>|z|</th>  <th>[0.025</th>    <th>0.975]</th>  \n",
       "</tr>\n",
       "<tr>\n",
       "  <th>const</th>         <td>    0.0189</td> <td>    0.013</td> <td>    1.402</td> <td> 0.161</td> <td>   -0.008</td> <td>    0.045</td>\n",
       "</tr>\n",
       "<tr>\n",
       "  <th>ar.L1.returns</th> <td>   -0.0684</td> <td>    0.140</td> <td>   -0.490</td> <td> 0.624</td> <td>   -0.342</td> <td>    0.205</td>\n",
       "</tr>\n",
       "<tr>\n",
       "  <th>ar.L2.returns</th> <td>   -0.6722</td> <td>    0.146</td> <td>   -4.603</td> <td> 0.000</td> <td>   -0.958</td> <td>   -0.386</td>\n",
       "</tr>\n",
       "<tr>\n",
       "  <th>ar.L3.returns</th> <td>   -0.1152</td> <td>    0.141</td> <td>   -0.817</td> <td> 0.414</td> <td>   -0.392</td> <td>    0.161</td>\n",
       "</tr>\n",
       "<tr>\n",
       "  <th>ar.L4.returns</th> <td>    0.1779</td> <td>    0.129</td> <td>    1.381</td> <td> 0.167</td> <td>   -0.075</td> <td>    0.430</td>\n",
       "</tr>\n",
       "<tr>\n",
       "  <th>ar.L5.returns</th> <td>    0.1215</td> <td>    0.107</td> <td>    1.132</td> <td> 0.258</td> <td>   -0.089</td> <td>    0.332</td>\n",
       "</tr>\n",
       "<tr>\n",
       "  <th>ma.L1.returns</th> <td>    0.0443</td> <td>    0.138</td> <td>    0.322</td> <td> 0.748</td> <td>   -0.226</td> <td>    0.314</td>\n",
       "</tr>\n",
       "<tr>\n",
       "  <th>ma.L2.returns</th> <td>    0.6223</td> <td>    0.144</td> <td>    4.321</td> <td> 0.000</td> <td>    0.340</td> <td>    0.905</td>\n",
       "</tr>\n",
       "<tr>\n",
       "  <th>ma.L3.returns</th> <td>    0.0107</td> <td>    0.136</td> <td>    0.079</td> <td> 0.937</td> <td>   -0.256</td> <td>    0.277</td>\n",
       "</tr>\n",
       "<tr>\n",
       "  <th>ma.L4.returns</th> <td>   -0.1753</td> <td>    0.122</td> <td>   -1.436</td> <td> 0.151</td> <td>   -0.415</td> <td>    0.064</td>\n",
       "</tr>\n",
       "<tr>\n",
       "  <th>ma.L5.returns</th> <td>   -0.2240</td> <td>    0.104</td> <td>   -2.148</td> <td> 0.032</td> <td>   -0.428</td> <td>   -0.020</td>\n",
       "</tr>\n",
       "</table>\n",
       "<table class=\"simpletable\">\n",
       "<caption>Roots</caption>\n",
       "<tr>\n",
       "    <td></td>   <th>            Real</th>  <th>         Imaginary</th> <th>         Modulus</th>  <th>        Frequency</th>\n",
       "</tr>\n",
       "<tr>\n",
       "  <th>AR.1</th> <td>           0.0870</td> <td>          -1.0364j</td> <td>           1.0401</td> <td>          -0.2367</td>\n",
       "</tr>\n",
       "<tr>\n",
       "  <th>AR.2</th> <td>           0.0870</td> <td>          +1.0364j</td> <td>           1.0401</td> <td>           0.2367</td>\n",
       "</tr>\n",
       "<tr>\n",
       "  <th>AR.3</th> <td>           1.7715</td> <td>          -0.0000j</td> <td>           1.7715</td> <td>          -0.0000</td>\n",
       "</tr>\n",
       "<tr>\n",
       "  <th>AR.4</th> <td>          -1.7050</td> <td>          -1.1784j</td> <td>           2.0726</td> <td>          -0.4038</td>\n",
       "</tr>\n",
       "<tr>\n",
       "  <th>AR.5</th> <td>          -1.7050</td> <td>          +1.1784j</td> <td>           2.0726</td> <td>           0.4038</td>\n",
       "</tr>\n",
       "<tr>\n",
       "  <th>MA.1</th> <td>           0.1033</td> <td>          -1.0434j</td> <td>           1.0485</td> <td>          -0.2343</td>\n",
       "</tr>\n",
       "<tr>\n",
       "  <th>MA.2</th> <td>           0.1033</td> <td>          +1.0434j</td> <td>           1.0485</td> <td>           0.2343</td>\n",
       "</tr>\n",
       "<tr>\n",
       "  <th>MA.3</th> <td>           1.4855</td> <td>          -0.0000j</td> <td>           1.4855</td> <td>          -0.0000</td>\n",
       "</tr>\n",
       "<tr>\n",
       "  <th>MA.4</th> <td>          -1.2373</td> <td>          -1.0965j</td> <td>           1.6532</td> <td>          -0.3846</td>\n",
       "</tr>\n",
       "<tr>\n",
       "  <th>MA.5</th> <td>          -1.2373</td> <td>          +1.0965j</td> <td>           1.6532</td> <td>           0.3846</td>\n",
       "</tr>\n",
       "</table>"
      ],
      "text/plain": [
       "<class 'statsmodels.iolib.summary.Summary'>\n",
       "\"\"\"\n",
       "                              ARMA Model Results                              \n",
       "==============================================================================\n",
       "Dep. Variable:                returns   No. Observations:                 5020\n",
       "Model:                     ARMA(5, 5)   Log Likelihood               -7882.160\n",
       "Method:                       css-mle   S.D. of innovations              1.163\n",
       "Date:                Sun, 12 Apr 2020   AIC                          15788.321\n",
       "Time:                        20:39:24   BIC                          15866.575\n",
       "Sample:                    01-10-1994   HQIC                         15815.742\n",
       "                         - 04-05-2013                                         \n",
       "=================================================================================\n",
       "                    coef    std err          z      P>|z|      [0.025      0.975]\n",
       "---------------------------------------------------------------------------------\n",
       "const             0.0189      0.013      1.402      0.161      -0.008       0.045\n",
       "ar.L1.returns    -0.0684      0.140     -0.490      0.624      -0.342       0.205\n",
       "ar.L2.returns    -0.6722      0.146     -4.603      0.000      -0.958      -0.386\n",
       "ar.L3.returns    -0.1152      0.141     -0.817      0.414      -0.392       0.161\n",
       "ar.L4.returns     0.1779      0.129      1.381      0.167      -0.075       0.430\n",
       "ar.L5.returns     0.1215      0.107      1.132      0.258      -0.089       0.332\n",
       "ma.L1.returns     0.0443      0.138      0.322      0.748      -0.226       0.314\n",
       "ma.L2.returns     0.6223      0.144      4.321      0.000       0.340       0.905\n",
       "ma.L3.returns     0.0107      0.136      0.079      0.937      -0.256       0.277\n",
       "ma.L4.returns    -0.1753      0.122     -1.436      0.151      -0.415       0.064\n",
       "ma.L5.returns    -0.2240      0.104     -2.148      0.032      -0.428      -0.020\n",
       "                                    Roots                                    \n",
       "=============================================================================\n",
       "                  Real          Imaginary           Modulus         Frequency\n",
       "-----------------------------------------------------------------------------\n",
       "AR.1            0.0870           -1.0364j            1.0401           -0.2367\n",
       "AR.2            0.0870           +1.0364j            1.0401            0.2367\n",
       "AR.3            1.7715           -0.0000j            1.7715           -0.0000\n",
       "AR.4           -1.7050           -1.1784j            2.0726           -0.4038\n",
       "AR.5           -1.7050           +1.1784j            2.0726            0.4038\n",
       "MA.1            0.1033           -1.0434j            1.0485           -0.2343\n",
       "MA.2            0.1033           +1.0434j            1.0485            0.2343\n",
       "MA.3            1.4855           -0.0000j            1.4855           -0.0000\n",
       "MA.4           -1.2373           -1.0965j            1.6532           -0.3846\n",
       "MA.5           -1.2373           +1.0965j            1.6532            0.3846\n",
       "-----------------------------------------------------------------------------\n",
       "\"\"\""
      ]
     },
     "execution_count": 36,
     "metadata": {},
     "output_type": "execute_result"
    }
   ],
   "source": [
    "model_ret_ar5_ma5 = ARMA(df.returns[1:], order = (5,5))\n",
    "results_ret_ar5_ma5 = model_ret_ar5_ma5.fit()\n",
    "results_ret_ar5_ma5.summary()"
   ]
  },
  {
   "cell_type": "code",
   "execution_count": 37,
   "metadata": {},
   "outputs": [
    {
     "data": {
      "text/html": [
       "<table class=\"simpletable\">\n",
       "<caption>ARMA Model Results</caption>\n",
       "<tr>\n",
       "  <th>Dep. Variable:</th>      <td>returns</td>     <th>  No. Observations:  </th>   <td>5020</td>   \n",
       "</tr>\n",
       "<tr>\n",
       "  <th>Model:</th>            <td>ARMA(5, 1)</td>    <th>  Log Likelihood     </th> <td>-7889.311</td>\n",
       "</tr>\n",
       "<tr>\n",
       "  <th>Method:</th>             <td>css-mle</td>     <th>  S.D. of innovations</th>   <td>1.165</td>  \n",
       "</tr>\n",
       "<tr>\n",
       "  <th>Date:</th>          <td>Sun, 12 Apr 2020</td> <th>  AIC                </th> <td>15794.623</td>\n",
       "</tr>\n",
       "<tr>\n",
       "  <th>Time:</th>              <td>20:46:56</td>     <th>  BIC                </th> <td>15846.792</td>\n",
       "</tr>\n",
       "<tr>\n",
       "  <th>Sample:</th>           <td>01-10-1994</td>    <th>  HQIC               </th> <td>15812.903</td>\n",
       "</tr>\n",
       "<tr>\n",
       "  <th></th>                 <td>- 04-05-2013</td>   <th>                     </th>     <td> </td>    \n",
       "</tr>\n",
       "</table>\n",
       "<table class=\"simpletable\">\n",
       "<tr>\n",
       "        <td></td>           <th>coef</th>     <th>std err</th>      <th>z</th>      <th>P>|z|</th>  <th>[0.025</th>    <th>0.975]</th>  \n",
       "</tr>\n",
       "<tr>\n",
       "  <th>const</th>         <td>    0.0189</td> <td>    0.013</td> <td>    1.407</td> <td> 0.159</td> <td>   -0.007</td> <td>    0.045</td>\n",
       "</tr>\n",
       "<tr>\n",
       "  <th>ar.L1.returns</th> <td>    0.3440</td> <td>    0.131</td> <td>    2.624</td> <td> 0.009</td> <td>    0.087</td> <td>    0.601</td>\n",
       "</tr>\n",
       "<tr>\n",
       "  <th>ar.L2.returns</th> <td>   -0.0458</td> <td>    0.015</td> <td>   -3.005</td> <td> 0.003</td> <td>   -0.076</td> <td>   -0.016</td>\n",
       "</tr>\n",
       "<tr>\n",
       "  <th>ar.L3.returns</th> <td>   -0.0652</td> <td>    0.016</td> <td>   -4.010</td> <td> 0.000</td> <td>   -0.097</td> <td>   -0.033</td>\n",
       "</tr>\n",
       "<tr>\n",
       "  <th>ar.L4.returns</th> <td>    0.0741</td> <td>    0.018</td> <td>    4.068</td> <td> 0.000</td> <td>    0.038</td> <td>    0.110</td>\n",
       "</tr>\n",
       "<tr>\n",
       "  <th>ar.L5.returns</th> <td>   -0.0813</td> <td>    0.014</td> <td>   -5.688</td> <td> 0.000</td> <td>   -0.109</td> <td>   -0.053</td>\n",
       "</tr>\n",
       "<tr>\n",
       "  <th>ma.L1.returns</th> <td>   -0.3673</td> <td>    0.131</td> <td>   -2.801</td> <td> 0.005</td> <td>   -0.624</td> <td>   -0.110</td>\n",
       "</tr>\n",
       "</table>\n",
       "<table class=\"simpletable\">\n",
       "<caption>Roots</caption>\n",
       "<tr>\n",
       "    <td></td>   <th>            Real</th>  <th>         Imaginary</th> <th>         Modulus</th>  <th>        Frequency</th>\n",
       "</tr>\n",
       "<tr>\n",
       "  <th>AR.1</th> <td>          -1.6158</td> <td>          -0.0000j</td> <td>           1.6158</td> <td>          -0.5000</td>\n",
       "</tr>\n",
       "<tr>\n",
       "  <th>AR.2</th> <td>           1.3793</td> <td>          -0.8613j</td> <td>           1.6261</td> <td>          -0.0888</td>\n",
       "</tr>\n",
       "<tr>\n",
       "  <th>AR.3</th> <td>           1.3793</td> <td>          +0.8613j</td> <td>           1.6261</td> <td>           0.0888</td>\n",
       "</tr>\n",
       "<tr>\n",
       "  <th>AR.4</th> <td>          -0.1156</td> <td>          -1.6929j</td> <td>           1.6968</td> <td>          -0.2608</td>\n",
       "</tr>\n",
       "<tr>\n",
       "  <th>AR.5</th> <td>          -0.1156</td> <td>          +1.6929j</td> <td>           1.6968</td> <td>           0.2608</td>\n",
       "</tr>\n",
       "<tr>\n",
       "  <th>MA.1</th> <td>           2.7223</td> <td>          +0.0000j</td> <td>           2.7223</td> <td>           0.0000</td>\n",
       "</tr>\n",
       "</table>"
      ],
      "text/plain": [
       "<class 'statsmodels.iolib.summary.Summary'>\n",
       "\"\"\"\n",
       "                              ARMA Model Results                              \n",
       "==============================================================================\n",
       "Dep. Variable:                returns   No. Observations:                 5020\n",
       "Model:                     ARMA(5, 1)   Log Likelihood               -7889.311\n",
       "Method:                       css-mle   S.D. of innovations              1.165\n",
       "Date:                Sun, 12 Apr 2020   AIC                          15794.623\n",
       "Time:                        20:46:56   BIC                          15846.792\n",
       "Sample:                    01-10-1994   HQIC                         15812.903\n",
       "                         - 04-05-2013                                         \n",
       "=================================================================================\n",
       "                    coef    std err          z      P>|z|      [0.025      0.975]\n",
       "---------------------------------------------------------------------------------\n",
       "const             0.0189      0.013      1.407      0.159      -0.007       0.045\n",
       "ar.L1.returns     0.3440      0.131      2.624      0.009       0.087       0.601\n",
       "ar.L2.returns    -0.0458      0.015     -3.005      0.003      -0.076      -0.016\n",
       "ar.L3.returns    -0.0652      0.016     -4.010      0.000      -0.097      -0.033\n",
       "ar.L4.returns     0.0741      0.018      4.068      0.000       0.038       0.110\n",
       "ar.L5.returns    -0.0813      0.014     -5.688      0.000      -0.109      -0.053\n",
       "ma.L1.returns    -0.3673      0.131     -2.801      0.005      -0.624      -0.110\n",
       "                                    Roots                                    \n",
       "=============================================================================\n",
       "                  Real          Imaginary           Modulus         Frequency\n",
       "-----------------------------------------------------------------------------\n",
       "AR.1           -1.6158           -0.0000j            1.6158           -0.5000\n",
       "AR.2            1.3793           -0.8613j            1.6261           -0.0888\n",
       "AR.3            1.3793           +0.8613j            1.6261            0.0888\n",
       "AR.4           -0.1156           -1.6929j            1.6968           -0.2608\n",
       "AR.5           -0.1156           +1.6929j            1.6968            0.2608\n",
       "MA.1            2.7223           +0.0000j            2.7223            0.0000\n",
       "-----------------------------------------------------------------------------\n",
       "\"\"\""
      ]
     },
     "execution_count": 37,
     "metadata": {},
     "output_type": "execute_result"
    }
   ],
   "source": [
    "model_ret_ar5_ma1 = ARMA(df.returns[1:], order = (5,1))\n",
    "results_ret_ar5_ma1 = model_ret_ar5_ma1.fit()\n",
    "results_ret_ar5_ma1.summary()"
   ]
  },
  {
   "cell_type": "code",
   "execution_count": 38,
   "metadata": {},
   "outputs": [
    {
     "data": {
      "text/html": [
       "<table class=\"simpletable\">\n",
       "<caption>ARMA Model Results</caption>\n",
       "<tr>\n",
       "  <th>Dep. Variable:</th>      <td>returns</td>     <th>  No. Observations:  </th>   <td>5020</td>   \n",
       "</tr>\n",
       "<tr>\n",
       "  <th>Model:</th>            <td>ARMA(1, 5)</td>    <th>  Log Likelihood     </th> <td>-7890.973</td>\n",
       "</tr>\n",
       "<tr>\n",
       "  <th>Method:</th>             <td>css-mle</td>     <th>  S.D. of innovations</th>   <td>1.165</td>  \n",
       "</tr>\n",
       "<tr>\n",
       "  <th>Date:</th>          <td>Sun, 12 Apr 2020</td> <th>  AIC                </th> <td>15797.947</td>\n",
       "</tr>\n",
       "<tr>\n",
       "  <th>Time:</th>              <td>20:47:48</td>     <th>  BIC                </th> <td>15850.116</td>\n",
       "</tr>\n",
       "<tr>\n",
       "  <th>Sample:</th>           <td>01-10-1994</td>    <th>  HQIC               </th> <td>15816.228</td>\n",
       "</tr>\n",
       "<tr>\n",
       "  <th></th>                 <td>- 04-05-2013</td>   <th>                     </th>     <td> </td>    \n",
       "</tr>\n",
       "</table>\n",
       "<table class=\"simpletable\">\n",
       "<tr>\n",
       "        <td></td>           <th>coef</th>     <th>std err</th>      <th>z</th>      <th>P>|z|</th>  <th>[0.025</th>    <th>0.975]</th>  \n",
       "</tr>\n",
       "<tr>\n",
       "  <th>const</th>         <td>    0.0189</td> <td>    0.013</td> <td>    1.419</td> <td> 0.156</td> <td>   -0.007</td> <td>    0.045</td>\n",
       "</tr>\n",
       "<tr>\n",
       "  <th>ar.L1.returns</th> <td>    0.3285</td> <td>    0.152</td> <td>    2.159</td> <td> 0.031</td> <td>    0.030</td> <td>    0.627</td>\n",
       "</tr>\n",
       "<tr>\n",
       "  <th>ma.L1.returns</th> <td>   -0.3534</td> <td>    0.152</td> <td>   -2.332</td> <td> 0.020</td> <td>   -0.650</td> <td>   -0.056</td>\n",
       "</tr>\n",
       "<tr>\n",
       "  <th>ma.L2.returns</th> <td>   -0.0404</td> <td>    0.015</td> <td>   -2.624</td> <td> 0.009</td> <td>   -0.071</td> <td>   -0.010</td>\n",
       "</tr>\n",
       "<tr>\n",
       "  <th>ma.L3.returns</th> <td>   -0.0679</td> <td>    0.017</td> <td>   -4.022</td> <td> 0.000</td> <td>   -0.101</td> <td>   -0.035</td>\n",
       "</tr>\n",
       "<tr>\n",
       "  <th>ma.L4.returns</th> <td>    0.0742</td> <td>    0.020</td> <td>    3.771</td> <td> 0.000</td> <td>    0.036</td> <td>    0.113</td>\n",
       "</tr>\n",
       "<tr>\n",
       "  <th>ma.L5.returns</th> <td>   -0.0683</td> <td>    0.015</td> <td>   -4.660</td> <td> 0.000</td> <td>   -0.097</td> <td>   -0.040</td>\n",
       "</tr>\n",
       "</table>\n",
       "<table class=\"simpletable\">\n",
       "<caption>Roots</caption>\n",
       "<tr>\n",
       "    <td></td>   <th>            Real</th>  <th>         Imaginary</th> <th>         Modulus</th>  <th>        Frequency</th>\n",
       "</tr>\n",
       "<tr>\n",
       "  <th>AR.1</th> <td>           3.0443</td> <td>          +0.0000j</td> <td>           3.0443</td> <td>           0.0000</td>\n",
       "</tr>\n",
       "<tr>\n",
       "  <th>MA.1</th> <td>          -1.1897</td> <td>          -1.1548j</td> <td>           1.6580</td> <td>          -0.3774</td>\n",
       "</tr>\n",
       "<tr>\n",
       "  <th>MA.2</th> <td>          -1.1897</td> <td>          +1.1548j</td> <td>           1.6580</td> <td>           0.3774</td>\n",
       "</tr>\n",
       "<tr>\n",
       "  <th>MA.3</th> <td>           1.5041</td> <td>          -0.0000j</td> <td>           1.5041</td> <td>          -0.0000</td>\n",
       "</tr>\n",
       "<tr>\n",
       "  <th>MA.4</th> <td>           0.9809</td> <td>          -1.6057j</td> <td>           1.8815</td> <td>          -0.1627</td>\n",
       "</tr>\n",
       "<tr>\n",
       "  <th>MA.5</th> <td>           0.9809</td> <td>          +1.6057j</td> <td>           1.8815</td> <td>           0.1627</td>\n",
       "</tr>\n",
       "</table>"
      ],
      "text/plain": [
       "<class 'statsmodels.iolib.summary.Summary'>\n",
       "\"\"\"\n",
       "                              ARMA Model Results                              \n",
       "==============================================================================\n",
       "Dep. Variable:                returns   No. Observations:                 5020\n",
       "Model:                     ARMA(1, 5)   Log Likelihood               -7890.973\n",
       "Method:                       css-mle   S.D. of innovations              1.165\n",
       "Date:                Sun, 12 Apr 2020   AIC                          15797.947\n",
       "Time:                        20:47:48   BIC                          15850.116\n",
       "Sample:                    01-10-1994   HQIC                         15816.228\n",
       "                         - 04-05-2013                                         \n",
       "=================================================================================\n",
       "                    coef    std err          z      P>|z|      [0.025      0.975]\n",
       "---------------------------------------------------------------------------------\n",
       "const             0.0189      0.013      1.419      0.156      -0.007       0.045\n",
       "ar.L1.returns     0.3285      0.152      2.159      0.031       0.030       0.627\n",
       "ma.L1.returns    -0.3534      0.152     -2.332      0.020      -0.650      -0.056\n",
       "ma.L2.returns    -0.0404      0.015     -2.624      0.009      -0.071      -0.010\n",
       "ma.L3.returns    -0.0679      0.017     -4.022      0.000      -0.101      -0.035\n",
       "ma.L4.returns     0.0742      0.020      3.771      0.000       0.036       0.113\n",
       "ma.L5.returns    -0.0683      0.015     -4.660      0.000      -0.097      -0.040\n",
       "                                    Roots                                    \n",
       "=============================================================================\n",
       "                  Real          Imaginary           Modulus         Frequency\n",
       "-----------------------------------------------------------------------------\n",
       "AR.1            3.0443           +0.0000j            3.0443            0.0000\n",
       "MA.1           -1.1897           -1.1548j            1.6580           -0.3774\n",
       "MA.2           -1.1897           +1.1548j            1.6580            0.3774\n",
       "MA.3            1.5041           -0.0000j            1.5041           -0.0000\n",
       "MA.4            0.9809           -1.6057j            1.8815           -0.1627\n",
       "MA.5            0.9809           +1.6057j            1.8815            0.1627\n",
       "-----------------------------------------------------------------------------\n",
       "\"\"\""
      ]
     },
     "execution_count": 38,
     "metadata": {},
     "output_type": "execute_result"
    }
   ],
   "source": [
    "model_ret_ar1_ma5 = ARMA(df.returns[1:], order = (1,5))\n",
    "results_ret_ar1_ma5 = model_ret_ar1_ma5.fit()\n",
    "results_ret_ar1_ma5.summary()"
   ]
  },
  {
   "cell_type": "code",
   "execution_count": 39,
   "metadata": {},
   "outputs": [
    {
     "name": "stdout",
     "output_type": "stream",
     "text": [
      "\n",
      " ARMA(5,1): LL =  -7889.3112829459915 \t AIC  =  15794.622565891983\n",
      "\n",
      " ARMA(1,5): LL =  -7890.97346020959 \t AIC  =  15797.94692041918\n"
     ]
    }
   ],
   "source": [
    "print(\"\\n ARMA(5,1): LL = \", results_ret_ar5_ma1.llf,\"\\t AIC  = \", results_ret_ar5_ma1.aic)\n",
    "print(\"\\n ARMA(1,5): LL = \",results_ret_ar1_ma5.llf,\"\\t AIC  = \", results_ret_ar1_ma5.aic)\n"
   ]
  },
  {
   "cell_type": "code",
   "execution_count": 40,
   "metadata": {},
   "outputs": [
    {
     "name": "stdout",
     "output_type": "stream",
     "text": [
      "\n",
      " ARMA(3,2): LL =  -7895.747458514805 \t AIC  =  15805.49491702961\n"
     ]
    }
   ],
   "source": [
    "print(\"\\n ARMA(3,2): LL = \", results_ret_ar3_ma2.llf,\"\\t AIC  = \", results_ret_ar3_ma2.aic)"
   ]
  },
  {
   "cell_type": "markdown",
   "metadata": {},
   "source": [
    "## Residuals for the New Model"
   ]
  },
  {
   "cell_type": "code",
   "execution_count": 42,
   "metadata": {},
   "outputs": [],
   "source": [
    "df['res_ret_ar5_ma1'] = results_ret_ar5_ma1.resid[1:]"
   ]
  },
  {
   "cell_type": "code",
   "execution_count": 43,
   "metadata": {},
   "outputs": [
    {
     "data": {
      "image/png": "[encoded data removed]",
      "text/plain": [
       "<Figure size 1440x360 with 1 Axes>"
      ]
     },
     "metadata": {},
     "output_type": "display_data"
    }
   ],
   "source": [
    "df.res_ret_ar5_ma1.plot(figsize = (20,5))\n",
    "plt.title(\"Residual of Returns\", size = 24)\n",
    "plt.show()"
   ]
  },
  {
   "cell_type": "code",
   "execution_count": 44,
   "metadata": {},
   "outputs": [
    {
     "data": {
      "image/png": "[encoded data removed]",
      "text/plain": [
       "<Figure size 432x288 with 1 Axes>"
      ]
     },
     "metadata": {},
     "output_type": "display_data"
    }
   ],
   "source": [
    "sgt.plot_acf(df.res_ret_ar5_ma1[2:], zero=False, lags=40)\n",
    "plt.title(\"ACF of Residuals for Results\")\n",
    "plt.show()"
   ]
  },
  {
   "cell_type": "markdown",
   "metadata": {},
   "source": [
    "## ARMA Models for Prices"
   ]
  },
  {
   "cell_type": "code",
   "execution_count": 45,
   "metadata": {},
   "outputs": [
    {
     "data": {
      "image/png": "[encoded data removed]",
      "text/plain": [
       "<Figure size 432x288 with 1 Axes>"
      ]
     },
     "metadata": {},
     "output_type": "display_data"
    }
   ],
   "source": [
    "sgt.plot_acf(df.market_value, unbiased= True, zero=False, lags=40)\n",
    "plt.title(\"ACF for Prices\")\n",
    "plt.show()"
   ]
  },
  {
   "cell_type": "code",
   "execution_count": 46,
   "metadata": {},
   "outputs": [
    {
     "data": {
      "image/png": "[encoded data removed]",
      "text/plain": [
       "<Figure size 432x288 with 1 Axes>"
      ]
     },
     "metadata": {},
     "output_type": "display_data"
    }
   ],
   "source": [
    "sgt.plot_pacf(df.market_value, zero=False, lags=40,alpha=0.05, method='ols')\n",
    "plt.title(\"PACF for Prices\")\n",
    "plt.show()"
   ]
  },
  {
   "cell_type": "code",
   "execution_count": 47,
   "metadata": {},
   "outputs": [
    {
     "data": {
      "text/html": [
       "<table class=\"simpletable\">\n",
       "<caption>ARMA Model Results</caption>\n",
       "<tr>\n",
       "  <th>Dep. Variable:</th>   <td>market_value</td>   <th>  No. Observations:  </th>    <td>5021</td>   \n",
       "</tr>\n",
       "<tr>\n",
       "  <th>Model:</th>            <td>ARMA(1, 1)</td>    <th>  Log Likelihood     </th> <td>-27621.784</td>\n",
       "</tr>\n",
       "<tr>\n",
       "  <th>Method:</th>             <td>css-mle</td>     <th>  S.D. of innovations</th>   <td>59.248</td>  \n",
       "</tr>\n",
       "<tr>\n",
       "  <th>Date:</th>          <td>Sun, 12 Apr 2020</td> <th>  AIC                </th>  <td>55251.568</td>\n",
       "</tr>\n",
       "<tr>\n",
       "  <th>Time:</th>              <td>21:15:49</td>     <th>  BIC                </th>  <td>55277.654</td>\n",
       "</tr>\n",
       "<tr>\n",
       "  <th>Sample:</th>           <td>01-07-1994</td>    <th>  HQIC               </th>  <td>55260.709</td>\n",
       "</tr>\n",
       "<tr>\n",
       "  <th></th>                 <td>- 04-05-2013</td>   <th>                     </th>      <td> </td>    \n",
       "</tr>\n",
       "</table>\n",
       "<table class=\"simpletable\">\n",
       "<tr>\n",
       "           <td></td>             <th>coef</th>     <th>std err</th>      <th>z</th>      <th>P>|z|</th>  <th>[0.025</th>    <th>0.975]</th>  \n",
       "</tr>\n",
       "<tr>\n",
       "  <th>const</th>              <td> 5043.1040</td> <td>  496.140</td> <td>   10.165</td> <td> 0.000</td> <td> 4070.688</td> <td> 6015.520</td>\n",
       "</tr>\n",
       "<tr>\n",
       "  <th>ar.L1.market_value</th> <td>    0.9985</td> <td>    0.001</td> <td> 1325.467</td> <td> 0.000</td> <td>    0.997</td> <td>    1.000</td>\n",
       "</tr>\n",
       "<tr>\n",
       "  <th>ma.L1.market_value</th> <td>   -0.0190</td> <td>    0.015</td> <td>   -1.274</td> <td> 0.203</td> <td>   -0.048</td> <td>    0.010</td>\n",
       "</tr>\n",
       "</table>\n",
       "<table class=\"simpletable\">\n",
       "<caption>Roots</caption>\n",
       "<tr>\n",
       "    <td></td>   <th>            Real</th>  <th>         Imaginary</th> <th>         Modulus</th>  <th>        Frequency</th>\n",
       "</tr>\n",
       "<tr>\n",
       "  <th>AR.1</th> <td>           1.0015</td> <td>          +0.0000j</td> <td>           1.0015</td> <td>           0.0000</td>\n",
       "</tr>\n",
       "<tr>\n",
       "  <th>MA.1</th> <td>          52.5160</td> <td>          +0.0000j</td> <td>          52.5160</td> <td>           0.0000</td>\n",
       "</tr>\n",
       "</table>"
      ],
      "text/plain": [
       "<class 'statsmodels.iolib.summary.Summary'>\n",
       "\"\"\"\n",
       "                              ARMA Model Results                              \n",
       "==============================================================================\n",
       "Dep. Variable:           market_value   No. Observations:                 5021\n",
       "Model:                     ARMA(1, 1)   Log Likelihood              -27621.784\n",
       "Method:                       css-mle   S.D. of innovations             59.248\n",
       "Date:                Sun, 12 Apr 2020   AIC                          55251.568\n",
       "Time:                        21:15:49   BIC                          55277.654\n",
       "Sample:                    01-07-1994   HQIC                         55260.709\n",
       "                         - 04-05-2013                                         \n",
       "======================================================================================\n",
       "                         coef    std err          z      P>|z|      [0.025      0.975]\n",
       "--------------------------------------------------------------------------------------\n",
       "const               5043.1040    496.140     10.165      0.000    4070.688    6015.520\n",
       "ar.L1.market_value     0.9985      0.001   1325.467      0.000       0.997       1.000\n",
       "ma.L1.market_value    -0.0190      0.015     -1.274      0.203      -0.048       0.010\n",
       "                                    Roots                                    \n",
       "=============================================================================\n",
       "                  Real          Imaginary           Modulus         Frequency\n",
       "-----------------------------------------------------------------------------\n",
       "AR.1            1.0015           +0.0000j            1.0015            0.0000\n",
       "MA.1           52.5160           +0.0000j           52.5160            0.0000\n",
       "-----------------------------------------------------------------------------\n",
       "\"\"\""
      ]
     },
     "execution_count": 47,
     "metadata": {},
     "output_type": "execute_result"
    }
   ],
   "source": [
    "model_ar1_ma1 = ARMA(df.market_value, order = (1,1))\n",
    "results_ar1_ma1 = model_ar1_ma1.fit()\n",
    "results_ar1_ma1.summary()"
   ]
  },
  {
   "cell_type": "code",
   "execution_count": 49,
   "metadata": {},
   "outputs": [],
   "source": [
    "df['res_ar1_ma1'] = results_ar1_ma1.resid"
   ]
  },
  {
   "cell_type": "code",
   "execution_count": 50,
   "metadata": {},
   "outputs": [
    {
     "data": {
      "image/png": "[encoded data removed]",
      "text/plain": [
       "<Figure size 432x288 with 1 Axes>"
      ]
     },
     "metadata": {},
     "output_type": "display_data"
    }
   ],
   "source": [
    "sgt.plot_acf(df.res_ar1_ma1, zero=False, lags=40)\n",
    "plt.title(\"ACF of Residual for Prices\")\n",
    "plt.show()"
   ]
  },
  {
   "cell_type": "code",
   "execution_count": 57,
   "metadata": {},
   "outputs": [
    {
     "data": {
      "text/html": [
       "<table class=\"simpletable\">\n",
       "<caption>ARMA Model Results</caption>\n",
       "<tr>\n",
       "  <th>Dep. Variable:</th>   <td>market_value</td>   <th>  No. Observations:  </th>    <td>5021</td>   \n",
       "</tr>\n",
       "<tr>\n",
       "  <th>Model:</th>            <td>ARMA(6, 6)</td>    <th>  Log Likelihood     </th> <td>-27587.932</td>\n",
       "</tr>\n",
       "<tr>\n",
       "  <th>Method:</th>             <td>css-mle</td>     <th>  S.D. of innovations</th>   <td>58.849</td>  \n",
       "</tr>\n",
       "<tr>\n",
       "  <th>Date:</th>          <td>Sun, 12 Apr 2020</td> <th>  AIC                </th>  <td>55203.864</td>\n",
       "</tr>\n",
       "<tr>\n",
       "  <th>Time:</th>              <td>21:23:57</td>     <th>  BIC                </th>  <td>55295.164</td>\n",
       "</tr>\n",
       "<tr>\n",
       "  <th>Sample:</th>           <td>01-07-1994</td>    <th>  HQIC               </th>  <td>55235.856</td>\n",
       "</tr>\n",
       "<tr>\n",
       "  <th></th>                 <td>- 04-05-2013</td>   <th>                     </th>      <td> </td>    \n",
       "</tr>\n",
       "</table>\n",
       "<table class=\"simpletable\">\n",
       "<tr>\n",
       "           <td></td>             <th>coef</th>     <th>std err</th>      <th>z</th>      <th>P>|z|</th>  <th>[0.025</th>    <th>0.975]</th>  \n",
       "</tr>\n",
       "<tr>\n",
       "  <th>const</th>              <td> 5089.6493</td> <td>  568.242</td> <td>    8.957</td> <td> 0.000</td> <td> 3975.916</td> <td> 6203.382</td>\n",
       "</tr>\n",
       "<tr>\n",
       "  <th>ar.L1.market_value</th> <td>    1.9279</td> <td>    0.032</td> <td>   59.965</td> <td> 0.000</td> <td>    1.865</td> <td>    1.991</td>\n",
       "</tr>\n",
       "<tr>\n",
       "  <th>ar.L2.market_value</th> <td>   -1.7363</td> <td>    0.040</td> <td>  -43.403</td> <td> 0.000</td> <td>   -1.815</td> <td>   -1.658</td>\n",
       "</tr>\n",
       "<tr>\n",
       "  <th>ar.L3.market_value</th> <td>    1.2678</td> <td>    0.034</td> <td>   36.799</td> <td> 0.000</td> <td>    1.200</td> <td>    1.335</td>\n",
       "</tr>\n",
       "<tr>\n",
       "  <th>ar.L4.market_value</th> <td>   -0.2375</td> <td>    0.158</td> <td>   -1.502</td> <td> 0.133</td> <td>   -0.547</td> <td>    0.072</td>\n",
       "</tr>\n",
       "<tr>\n",
       "  <th>ar.L5.market_value</th> <td>   -0.4064</td> <td>    0.165</td> <td>   -2.459</td> <td> 0.014</td> <td>   -0.730</td> <td>   -0.083</td>\n",
       "</tr>\n",
       "<tr>\n",
       "  <th>ar.L6.market_value</th> <td>    0.1842</td> <td>    0.049</td> <td>    3.775</td> <td> 0.000</td> <td>    0.089</td> <td>    0.280</td>\n",
       "</tr>\n",
       "<tr>\n",
       "  <th>ma.L1.market_value</th> <td>   -0.9490</td> <td>    0.035</td> <td>  -27.061</td> <td> 0.000</td> <td>   -1.018</td> <td>   -0.880</td>\n",
       "</tr>\n",
       "<tr>\n",
       "  <th>ma.L2.market_value</th> <td>    0.7800</td> <td>    0.032</td> <td>   24.183</td> <td> 0.000</td> <td>    0.717</td> <td>    0.843</td>\n",
       "</tr>\n",
       "<tr>\n",
       "  <th>ma.L3.market_value</th> <td>   -0.5084</td> <td>    0.031</td> <td>  -16.329</td> <td> 0.000</td> <td>   -0.569</td> <td>   -0.447</td>\n",
       "</tr>\n",
       "<tr>\n",
       "  <th>ma.L4.market_value</th> <td>   -0.1561</td> <td>    0.159</td> <td>   -0.983</td> <td> 0.325</td> <td>   -0.467</td> <td>    0.155</td>\n",
       "</tr>\n",
       "<tr>\n",
       "  <th>ma.L5.market_value</th> <td>    0.0954</td> <td>    0.057</td> <td>    1.684</td> <td> 0.092</td> <td>   -0.016</td> <td>    0.206</td>\n",
       "</tr>\n",
       "<tr>\n",
       "  <th>ma.L6.market_value</th> <td>    0.0670</td> <td>    0.024</td> <td>    2.802</td> <td> 0.005</td> <td>    0.020</td> <td>    0.114</td>\n",
       "</tr>\n",
       "</table>\n",
       "<table class=\"simpletable\">\n",
       "<caption>Roots</caption>\n",
       "<tr>\n",
       "    <td></td>   <th>            Real</th>  <th>         Imaginary</th> <th>         Modulus</th>  <th>        Frequency</th>\n",
       "</tr>\n",
       "<tr>\n",
       "  <th>AR.1</th> <td>           0.0857</td> <td>          -1.0502j</td> <td>           1.0537</td> <td>          -0.2370</td>\n",
       "</tr>\n",
       "<tr>\n",
       "  <th>AR.2</th> <td>           0.0857</td> <td>          +1.0502j</td> <td>           1.0537</td> <td>           0.2370</td>\n",
       "</tr>\n",
       "<tr>\n",
       "  <th>AR.3</th> <td>          -2.0251</td> <td>          -0.0000j</td> <td>           2.0251</td> <td>          -0.5000</td>\n",
       "</tr>\n",
       "<tr>\n",
       "  <th>AR.4</th> <td>           1.0011</td> <td>          -0.0000j</td> <td>           1.0011</td> <td>          -0.0000</td>\n",
       "</tr>\n",
       "<tr>\n",
       "  <th>AR.5</th> <td>           1.5297</td> <td>          -0.2682j</td> <td>           1.5530</td> <td>          -0.0276</td>\n",
       "</tr>\n",
       "<tr>\n",
       "  <th>AR.6</th> <td>           1.5297</td> <td>          +0.2682j</td> <td>           1.5530</td> <td>           0.0276</td>\n",
       "</tr>\n",
       "<tr>\n",
       "  <th>MA.1</th> <td>           0.1028</td> <td>          -1.0612j</td> <td>           1.0662</td> <td>          -0.2346</td>\n",
       "</tr>\n",
       "<tr>\n",
       "  <th>MA.2</th> <td>           0.1028</td> <td>          +1.0612j</td> <td>           1.0662</td> <td>           0.2346</td>\n",
       "</tr>\n",
       "<tr>\n",
       "  <th>MA.3</th> <td>           1.3618</td> <td>          -0.2800j</td> <td>           1.3903</td> <td>          -0.0323</td>\n",
       "</tr>\n",
       "<tr>\n",
       "  <th>MA.4</th> <td>           1.3618</td> <td>          +0.2800j</td> <td>           1.3903</td> <td>           0.0323</td>\n",
       "</tr>\n",
       "<tr>\n",
       "  <th>MA.5</th> <td>          -2.1768</td> <td>          -1.4333j</td> <td>           2.6063</td> <td>          -0.4073</td>\n",
       "</tr>\n",
       "<tr>\n",
       "  <th>MA.6</th> <td>          -2.1768</td> <td>          +1.4333j</td> <td>           2.6063</td> <td>           0.4073</td>\n",
       "</tr>\n",
       "</table>"
      ],
      "text/plain": [
       "<class 'statsmodels.iolib.summary.Summary'>\n",
       "\"\"\"\n",
       "                              ARMA Model Results                              \n",
       "==============================================================================\n",
       "Dep. Variable:           market_value   No. Observations:                 5021\n",
       "Model:                     ARMA(6, 6)   Log Likelihood              -27587.932\n",
       "Method:                       css-mle   S.D. of innovations             58.849\n",
       "Date:                Sun, 12 Apr 2020   AIC                          55203.864\n",
       "Time:                        21:23:57   BIC                          55295.164\n",
       "Sample:                    01-07-1994   HQIC                         55235.856\n",
       "                         - 04-05-2013                                         \n",
       "======================================================================================\n",
       "                         coef    std err          z      P>|z|      [0.025      0.975]\n",
       "--------------------------------------------------------------------------------------\n",
       "const               5089.6493    568.242      8.957      0.000    3975.916    6203.382\n",
       "ar.L1.market_value     1.9279      0.032     59.965      0.000       1.865       1.991\n",
       "ar.L2.market_value    -1.7363      0.040    -43.403      0.000      -1.815      -1.658\n",
       "ar.L3.market_value     1.2678      0.034     36.799      0.000       1.200       1.335\n",
       "ar.L4.market_value    -0.2375      0.158     -1.502      0.133      -0.547       0.072\n",
       "ar.L5.market_value    -0.4064      0.165     -2.459      0.014      -0.730      -0.083\n",
       "ar.L6.market_value     0.1842      0.049      3.775      0.000       0.089       0.280\n",
       "ma.L1.market_value    -0.9490      0.035    -27.061      0.000      -1.018      -0.880\n",
       "ma.L2.market_value     0.7800      0.032     24.183      0.000       0.717       0.843\n",
       "ma.L3.market_value    -0.5084      0.031    -16.329      0.000      -0.569      -0.447\n",
       "ma.L4.market_value    -0.1561      0.159     -0.983      0.325      -0.467       0.155\n",
       "ma.L5.market_value     0.0954      0.057      1.684      0.092      -0.016       0.206\n",
       "ma.L6.market_value     0.0670      0.024      2.802      0.005       0.020       0.114\n",
       "                                    Roots                                    \n",
       "=============================================================================\n",
       "                  Real          Imaginary           Modulus         Frequency\n",
       "-----------------------------------------------------------------------------\n",
       "AR.1            0.0857           -1.0502j            1.0537           -0.2370\n",
       "AR.2            0.0857           +1.0502j            1.0537            0.2370\n",
       "AR.3           -2.0251           -0.0000j            2.0251           -0.5000\n",
       "AR.4            1.0011           -0.0000j            1.0011           -0.0000\n",
       "AR.5            1.5297           -0.2682j            1.5530           -0.0276\n",
       "AR.6            1.5297           +0.2682j            1.5530            0.0276\n",
       "MA.1            0.1028           -1.0612j            1.0662           -0.2346\n",
       "MA.2            0.1028           +1.0612j            1.0662            0.2346\n",
       "MA.3            1.3618           -0.2800j            1.3903           -0.0323\n",
       "MA.4            1.3618           +0.2800j            1.3903            0.0323\n",
       "MA.5           -2.1768           -1.4333j            2.6063           -0.4073\n",
       "MA.6           -2.1768           +1.4333j            2.6063            0.4073\n",
       "-----------------------------------------------------------------------------\n",
       "\"\"\""
      ]
     },
     "execution_count": 57,
     "metadata": {},
     "output_type": "execute_result"
    }
   ],
   "source": [
    "model_ar6_ma6 = ARMA(df.market_value, order = (6,6))\n",
    "results_ar6_ma6 = model_ar6_ma6.fit(start_ar_lags=11)\n",
    "results_ar6_ma6.summary()"
   ]
  },
  {
   "cell_type": "code",
   "execution_count": 59,
   "metadata": {},
   "outputs": [
    {
     "data": {
      "text/html": [
       "<table class=\"simpletable\">\n",
       "<caption>ARMA Model Results</caption>\n",
       "<tr>\n",
       "  <th>Dep. Variable:</th>   <td>market_value</td>   <th>  No. Observations:  </th>    <td>5021</td>   \n",
       "</tr>\n",
       "<tr>\n",
       "  <th>Model:</th>            <td>ARMA(5, 6)</td>    <th>  Log Likelihood     </th> <td>-27587.863</td>\n",
       "</tr>\n",
       "<tr>\n",
       "  <th>Method:</th>             <td>css-mle</td>     <th>  S.D. of innovations</th>   <td>58.849</td>  \n",
       "</tr>\n",
       "<tr>\n",
       "  <th>Date:</th>          <td>Sun, 12 Apr 2020</td> <th>  AIC                </th>  <td>55201.726</td>\n",
       "</tr>\n",
       "<tr>\n",
       "  <th>Time:</th>              <td>21:28:54</td>     <th>  BIC                </th>  <td>55286.504</td>\n",
       "</tr>\n",
       "<tr>\n",
       "  <th>Sample:</th>           <td>01-07-1994</td>    <th>  HQIC               </th>  <td>55231.433</td>\n",
       "</tr>\n",
       "<tr>\n",
       "  <th></th>                 <td>- 04-05-2013</td>   <th>                     </th>      <td> </td>    \n",
       "</tr>\n",
       "</table>\n",
       "<table class=\"simpletable\">\n",
       "<tr>\n",
       "           <td></td>             <th>coef</th>     <th>std err</th>      <th>z</th>      <th>P>|z|</th>  <th>[0.025</th>    <th>0.975]</th>  \n",
       "</tr>\n",
       "<tr>\n",
       "  <th>const</th>              <td> 5089.6467</td> <td>  580.592</td> <td>    8.766</td> <td> 0.000</td> <td> 3951.708</td> <td> 6227.586</td>\n",
       "</tr>\n",
       "<tr>\n",
       "  <th>ar.L1.market_value</th> <td>    1.3584</td> <td>    0.178</td> <td>    7.641</td> <td> 0.000</td> <td>    1.010</td> <td>    1.707</td>\n",
       "</tr>\n",
       "<tr>\n",
       "  <th>ar.L2.market_value</th> <td>   -1.1289</td> <td>    0.238</td> <td>   -4.753</td> <td> 0.000</td> <td>   -1.594</td> <td>   -0.663</td>\n",
       "</tr>\n",
       "<tr>\n",
       "  <th>ar.L3.market_value</th> <td>    0.9147</td> <td>    0.229</td> <td>    3.994</td> <td> 0.000</td> <td>    0.466</td> <td>    1.364</td>\n",
       "</tr>\n",
       "<tr>\n",
       "  <th>ar.L4.market_value</th> <td>    0.0159</td> <td>    0.204</td> <td>    0.078</td> <td> 0.938</td> <td>   -0.384</td> <td>    0.416</td>\n",
       "</tr>\n",
       "<tr>\n",
       "  <th>ar.L5.market_value</th> <td>   -0.1613</td> <td>    0.119</td> <td>   -1.352</td> <td> 0.176</td> <td>   -0.395</td> <td>    0.073</td>\n",
       "</tr>\n",
       "<tr>\n",
       "  <th>ma.L1.market_value</th> <td>   -0.3796</td> <td>    0.178</td> <td>   -2.129</td> <td> 0.033</td> <td>   -0.729</td> <td>   -0.030</td>\n",
       "</tr>\n",
       "<tr>\n",
       "  <th>ma.L2.market_value</th> <td>    0.7294</td> <td>    0.125</td> <td>    5.827</td> <td> 0.000</td> <td>    0.484</td> <td>    0.975</td>\n",
       "</tr>\n",
       "<tr>\n",
       "  <th>ma.L3.market_value</th> <td>   -0.2197</td> <td>    0.153</td> <td>   -1.435</td> <td> 0.151</td> <td>   -0.520</td> <td>    0.080</td>\n",
       "</tr>\n",
       "<tr>\n",
       "  <th>ma.L4.market_value</th> <td>   -0.1387</td> <td>    0.114</td> <td>   -1.215</td> <td> 0.224</td> <td>   -0.362</td> <td>    0.085</td>\n",
       "</tr>\n",
       "<tr>\n",
       "  <th>ma.L5.market_value</th> <td>   -0.0879</td> <td>    0.017</td> <td>   -5.325</td> <td> 0.000</td> <td>   -0.120</td> <td>   -0.056</td>\n",
       "</tr>\n",
       "<tr>\n",
       "  <th>ma.L6.market_value</th> <td>    0.0265</td> <td>    0.024</td> <td>    1.128</td> <td> 0.260</td> <td>   -0.020</td> <td>    0.073</td>\n",
       "</tr>\n",
       "</table>\n",
       "<table class=\"simpletable\">\n",
       "<caption>Roots</caption>\n",
       "<tr>\n",
       "    <td></td>   <th>            Real</th>  <th>         Imaginary</th> <th>         Modulus</th>  <th>        Frequency</th>\n",
       "</tr>\n",
       "<tr>\n",
       "  <th>AR.1</th> <td>           0.0917</td> <td>          -1.0418j</td> <td>           1.0458</td> <td>          -0.2360</td>\n",
       "</tr>\n",
       "<tr>\n",
       "  <th>AR.2</th> <td>           0.0917</td> <td>          +1.0418j</td> <td>           1.0458</td> <td>           0.2360</td>\n",
       "</tr>\n",
       "<tr>\n",
       "  <th>AR.3</th> <td>           1.0010</td> <td>          -0.0000j</td> <td>           1.0010</td> <td>          -0.0000</td>\n",
       "</tr>\n",
       "<tr>\n",
       "  <th>AR.4</th> <td>           1.8979</td> <td>          -0.0000j</td> <td>           1.8979</td> <td>          -0.0000</td>\n",
       "</tr>\n",
       "<tr>\n",
       "  <th>AR.5</th> <td>          -2.9836</td> <td>          -0.0000j</td> <td>           2.9836</td> <td>          -0.5000</td>\n",
       "</tr>\n",
       "<tr>\n",
       "  <th>MA.1</th> <td>           0.1071</td> <td>          -1.0487j</td> <td>           1.0542</td> <td>          -0.2338</td>\n",
       "</tr>\n",
       "<tr>\n",
       "  <th>MA.2</th> <td>           0.1071</td> <td>          +1.0487j</td> <td>           1.0542</td> <td>           0.2338</td>\n",
       "</tr>\n",
       "<tr>\n",
       "  <th>MA.3</th> <td>          -1.5354</td> <td>          -1.5156j</td> <td>           2.1574</td> <td>          -0.3760</td>\n",
       "</tr>\n",
       "<tr>\n",
       "  <th>MA.4</th> <td>          -1.5354</td> <td>          +1.5156j</td> <td>           2.1574</td> <td>           0.3760</td>\n",
       "</tr>\n",
       "<tr>\n",
       "  <th>MA.5</th> <td>           1.5918</td> <td>          -0.0000j</td> <td>           1.5918</td> <td>          -0.0000</td>\n",
       "</tr>\n",
       "<tr>\n",
       "  <th>MA.6</th> <td>           4.5784</td> <td>          -0.0000j</td> <td>           4.5784</td> <td>          -0.0000</td>\n",
       "</tr>\n",
       "</table>"
      ],
      "text/plain": [
       "<class 'statsmodels.iolib.summary.Summary'>\n",
       "\"\"\"\n",
       "                              ARMA Model Results                              \n",
       "==============================================================================\n",
       "Dep. Variable:           market_value   No. Observations:                 5021\n",
       "Model:                     ARMA(5, 6)   Log Likelihood              -27587.863\n",
       "Method:                       css-mle   S.D. of innovations             58.849\n",
       "Date:                Sun, 12 Apr 2020   AIC                          55201.726\n",
       "Time:                        21:28:54   BIC                          55286.504\n",
       "Sample:                    01-07-1994   HQIC                         55231.433\n",
       "                         - 04-05-2013                                         \n",
       "======================================================================================\n",
       "                         coef    std err          z      P>|z|      [0.025      0.975]\n",
       "--------------------------------------------------------------------------------------\n",
       "const               5089.6467    580.592      8.766      0.000    3951.708    6227.586\n",
       "ar.L1.market_value     1.3584      0.178      7.641      0.000       1.010       1.707\n",
       "ar.L2.market_value    -1.1289      0.238     -4.753      0.000      -1.594      -0.663\n",
       "ar.L3.market_value     0.9147      0.229      3.994      0.000       0.466       1.364\n",
       "ar.L4.market_value     0.0159      0.204      0.078      0.938      -0.384       0.416\n",
       "ar.L5.market_value    -0.1613      0.119     -1.352      0.176      -0.395       0.073\n",
       "ma.L1.market_value    -0.3796      0.178     -2.129      0.033      -0.729      -0.030\n",
       "ma.L2.market_value     0.7294      0.125      5.827      0.000       0.484       0.975\n",
       "ma.L3.market_value    -0.2197      0.153     -1.435      0.151      -0.520       0.080\n",
       "ma.L4.market_value    -0.1387      0.114     -1.215      0.224      -0.362       0.085\n",
       "ma.L5.market_value    -0.0879      0.017     -5.325      0.000      -0.120      -0.056\n",
       "ma.L6.market_value     0.0265      0.024      1.128      0.260      -0.020       0.073\n",
       "                                    Roots                                    \n",
       "=============================================================================\n",
       "                  Real          Imaginary           Modulus         Frequency\n",
       "-----------------------------------------------------------------------------\n",
       "AR.1            0.0917           -1.0418j            1.0458           -0.2360\n",
       "AR.2            0.0917           +1.0418j            1.0458            0.2360\n",
       "AR.3            1.0010           -0.0000j            1.0010           -0.0000\n",
       "AR.4            1.8979           -0.0000j            1.8979           -0.0000\n",
       "AR.5           -2.9836           -0.0000j            2.9836           -0.5000\n",
       "MA.1            0.1071           -1.0487j            1.0542           -0.2338\n",
       "MA.2            0.1071           +1.0487j            1.0542            0.2338\n",
       "MA.3           -1.5354           -1.5156j            2.1574           -0.3760\n",
       "MA.4           -1.5354           +1.5156j            2.1574            0.3760\n",
       "MA.5            1.5918           -0.0000j            1.5918           -0.0000\n",
       "MA.6            4.5784           -0.0000j            4.5784           -0.0000\n",
       "-----------------------------------------------------------------------------\n",
       "\"\"\""
      ]
     },
     "execution_count": 59,
     "metadata": {},
     "output_type": "execute_result"
    }
   ],
   "source": [
    "model_ar5_ma6 = ARMA(df.market_value, order = (5,6))\n",
    "results_ar5_ma6 = model_ar5_ma6.fit(start_ar_lags=7)\n",
    "results_ar5_ma6.summary()"
   ]
  },
  {
   "cell_type": "code",
   "execution_count": 60,
   "metadata": {},
   "outputs": [
    {
     "data": {
      "text/html": [
       "<table class=\"simpletable\">\n",
       "<caption>ARMA Model Results</caption>\n",
       "<tr>\n",
       "  <th>Dep. Variable:</th>   <td>market_value</td>   <th>  No. Observations:  </th>    <td>5021</td>   \n",
       "</tr>\n",
       "<tr>\n",
       "  <th>Model:</th>            <td>ARMA(6, 1)</td>    <th>  Log Likelihood     </th> <td>-27594.195</td>\n",
       "</tr>\n",
       "<tr>\n",
       "  <th>Method:</th>             <td>css-mle</td>     <th>  S.D. of innovations</th>   <td>58.923</td>  \n",
       "</tr>\n",
       "<tr>\n",
       "  <th>Date:</th>          <td>Sun, 12 Apr 2020</td> <th>  AIC                </th>  <td>55206.389</td>\n",
       "</tr>\n",
       "<tr>\n",
       "  <th>Time:</th>              <td>21:29:33</td>     <th>  BIC                </th>  <td>55265.082</td>\n",
       "</tr>\n",
       "<tr>\n",
       "  <th>Sample:</th>           <td>01-07-1994</td>    <th>  HQIC               </th>  <td>55226.956</td>\n",
       "</tr>\n",
       "<tr>\n",
       "  <th></th>                 <td>- 04-05-2013</td>   <th>                     </th>      <td> </td>    \n",
       "</tr>\n",
       "</table>\n",
       "<table class=\"simpletable\">\n",
       "<tr>\n",
       "           <td></td>             <th>coef</th>     <th>std err</th>      <th>z</th>      <th>P>|z|</th>  <th>[0.025</th>    <th>0.975]</th>  \n",
       "</tr>\n",
       "<tr>\n",
       "  <th>const</th>              <td> 5089.6420</td> <td>  586.542</td> <td>    8.677</td> <td> 0.000</td> <td> 3940.040</td> <td> 6239.244</td>\n",
       "</tr>\n",
       "<tr>\n",
       "  <th>ar.L1.market_value</th> <td>    1.3921</td> <td>    0.058</td> <td>   23.934</td> <td> 0.000</td> <td>    1.278</td> <td>    1.506</td>\n",
       "</tr>\n",
       "<tr>\n",
       "  <th>ar.L2.market_value</th> <td>   -0.4369</td> <td>    0.059</td> <td>   -7.401</td> <td> 0.000</td> <td>   -0.553</td> <td>   -0.321</td>\n",
       "</tr>\n",
       "<tr>\n",
       "  <th>ar.L3.market_value</th> <td>   -0.0101</td> <td>    0.025</td> <td>   -0.409</td> <td> 0.683</td> <td>   -0.059</td> <td>    0.038</td>\n",
       "</tr>\n",
       "<tr>\n",
       "  <th>ar.L4.market_value</th> <td>    0.1126</td> <td>    0.025</td> <td>    4.527</td> <td> 0.000</td> <td>    0.064</td> <td>    0.161</td>\n",
       "</tr>\n",
       "<tr>\n",
       "  <th>ar.L5.market_value</th> <td>   -0.1158</td> <td>    0.025</td> <td>   -4.717</td> <td> 0.000</td> <td>   -0.164</td> <td>   -0.068</td>\n",
       "</tr>\n",
       "<tr>\n",
       "  <th>ar.L6.market_value</th> <td>    0.0573</td> <td>    0.014</td> <td>    4.067</td> <td> 0.000</td> <td>    0.030</td> <td>    0.085</td>\n",
       "</tr>\n",
       "<tr>\n",
       "  <th>ma.L1.market_value</th> <td>   -0.4127</td> <td>    0.060</td> <td>   -6.926</td> <td> 0.000</td> <td>   -0.529</td> <td>   -0.296</td>\n",
       "</tr>\n",
       "</table>\n",
       "<table class=\"simpletable\">\n",
       "<caption>Roots</caption>\n",
       "<tr>\n",
       "    <td></td>   <th>            Real</th>  <th>         Imaginary</th> <th>         Modulus</th>  <th>        Frequency</th>\n",
       "</tr>\n",
       "<tr>\n",
       "  <th>AR.1</th> <td>           1.0010</td> <td>          -0.0000j</td> <td>           1.0010</td> <td>          -0.0000</td>\n",
       "</tr>\n",
       "<tr>\n",
       "  <th>AR.2</th> <td>          -1.7608</td> <td>          -0.0000j</td> <td>           1.7608</td> <td>          -0.5000</td>\n",
       "</tr>\n",
       "<tr>\n",
       "  <th>AR.3</th> <td>          -0.0803</td> <td>          -1.8407j</td> <td>           1.8424</td> <td>          -0.2569</td>\n",
       "</tr>\n",
       "<tr>\n",
       "  <th>AR.4</th> <td>          -0.0803</td> <td>          +1.8407j</td> <td>           1.8424</td> <td>           0.2569</td>\n",
       "</tr>\n",
       "<tr>\n",
       "  <th>AR.5</th> <td>           1.4694</td> <td>          -0.8691j</td> <td>           1.7072</td> <td>          -0.0850</td>\n",
       "</tr>\n",
       "<tr>\n",
       "  <th>AR.6</th> <td>           1.4694</td> <td>          +0.8691j</td> <td>           1.7072</td> <td>           0.0850</td>\n",
       "</tr>\n",
       "<tr>\n",
       "  <th>MA.1</th> <td>           2.4233</td> <td>          +0.0000j</td> <td>           2.4233</td> <td>           0.0000</td>\n",
       "</tr>\n",
       "</table>"
      ],
      "text/plain": [
       "<class 'statsmodels.iolib.summary.Summary'>\n",
       "\"\"\"\n",
       "                              ARMA Model Results                              \n",
       "==============================================================================\n",
       "Dep. Variable:           market_value   No. Observations:                 5021\n",
       "Model:                     ARMA(6, 1)   Log Likelihood              -27594.195\n",
       "Method:                       css-mle   S.D. of innovations             58.923\n",
       "Date:                Sun, 12 Apr 2020   AIC                          55206.389\n",
       "Time:                        21:29:33   BIC                          55265.082\n",
       "Sample:                    01-07-1994   HQIC                         55226.956\n",
       "                         - 04-05-2013                                         \n",
       "======================================================================================\n",
       "                         coef    std err          z      P>|z|      [0.025      0.975]\n",
       "--------------------------------------------------------------------------------------\n",
       "const               5089.6420    586.542      8.677      0.000    3940.040    6239.244\n",
       "ar.L1.market_value     1.3921      0.058     23.934      0.000       1.278       1.506\n",
       "ar.L2.market_value    -0.4369      0.059     -7.401      0.000      -0.553      -0.321\n",
       "ar.L3.market_value    -0.0101      0.025     -0.409      0.683      -0.059       0.038\n",
       "ar.L4.market_value     0.1126      0.025      4.527      0.000       0.064       0.161\n",
       "ar.L5.market_value    -0.1158      0.025     -4.717      0.000      -0.164      -0.068\n",
       "ar.L6.market_value     0.0573      0.014      4.067      0.000       0.030       0.085\n",
       "ma.L1.market_value    -0.4127      0.060     -6.926      0.000      -0.529      -0.296\n",
       "                                    Roots                                    \n",
       "=============================================================================\n",
       "                  Real          Imaginary           Modulus         Frequency\n",
       "-----------------------------------------------------------------------------\n",
       "AR.1            1.0010           -0.0000j            1.0010           -0.0000\n",
       "AR.2           -1.7608           -0.0000j            1.7608           -0.5000\n",
       "AR.3           -0.0803           -1.8407j            1.8424           -0.2569\n",
       "AR.4           -0.0803           +1.8407j            1.8424            0.2569\n",
       "AR.5            1.4694           -0.8691j            1.7072           -0.0850\n",
       "AR.6            1.4694           +0.8691j            1.7072            0.0850\n",
       "MA.1            2.4233           +0.0000j            2.4233            0.0000\n",
       "-----------------------------------------------------------------------------\n",
       "\"\"\""
      ]
     },
     "execution_count": 60,
     "metadata": {},
     "output_type": "execute_result"
    }
   ],
   "source": [
    "model_ar6_ma1 = ARMA(df.market_value, order = (6,1))\n",
    "results_ar6_ma1= model_ar6_ma1.fit(start_ar_lags=7)\n",
    "results_ar6_ma1.summary()"
   ]
  },
  {
   "cell_type": "code",
   "execution_count": 61,
   "metadata": {},
   "outputs": [
    {
     "name": "stdout",
     "output_type": "stream",
     "text": [
      "\n",
      " ARMA(5,6): LL =  -27587.86294904398 \t AIC  =  55201.72589808796\n",
      "\n",
      " ARMA(6,5): LL =  -27594.19457099292 \t AIC  =  55206.38914198584\n"
     ]
    }
   ],
   "source": [
    "print(\"\\n ARMA(5,6): LL = \", results_ar5_ma6.llf,\"\\t AIC  = \", results_ar5_ma6.aic)\n",
    "print(\"\\n ARMA(6,5): LL = \", results_ar6_ma1.llf,\"\\t AIC  = \", results_ar6_ma1.aic)\n"
   ]
  },
  {
   "cell_type": "code",
   "execution_count": 62,
   "metadata": {},
   "outputs": [
    {
     "data": {
      "image/png": "[encoded data removed]",
      "text/plain": [
       "<Figure size 432x288 with 1 Axes>"
      ]
     },
     "metadata": {},
     "output_type": "display_data"
    }
   ],
   "source": [
    "df['res_ar5_ma6'] = results_ar5_ma6.resid\n",
    "sgt.plot_acf(df.res_ar5_ma6, zero=False, lags=40)\n",
    "plt.title(\"ACF of Residual for Prices\")\n",
    "plt.show()"
   ]
  },
  {
   "cell_type": "markdown",
   "metadata": {},
   "source": [
    "## ARMA for Returns vs ARMA for Prices"
   ]
  },
  {
   "cell_type": "code",
   "execution_count": 63,
   "metadata": {},
   "outputs": [
    {
     "name": "stdout",
     "output_type": "stream",
     "text": [
      "\n",
      " ARMA(5,6): LL =  -27587.86294904398 \t AIC  =  55201.72589808796\n",
      "\n",
      " ARMA(5,1): LL =  -7889.3112829459915 \t AIC  =  15794.622565891983\n"
     ]
    }
   ],
   "source": [
    "print(\"\\n ARMA(5,6): LL = \", results_ar5_ma6.llf,\"\\t AIC  = \", results_ar5_ma6.aic)\n",
    "print(\"\\n ARMA(5,1): LL = \", results_ret_ar5_ma1.llf,\"\\t AIC  = \", results_ret_ar5_ma1.aic)\n"
   ]
  },
  {
   "cell_type": "code",
   "execution_count": null,
   "metadata": {},
   "outputs": [],
   "source": []
  }
 ],
 "metadata": {
  "kernelspec": {
   "display_name": "Python 3",
   "language": "python",
   "name": "python3"
  },
  "language_info": {
   "codemirror_mode": {
    "name": "ipython",
    "version": 3
   },
   "file_extension": ".py",
   "mimetype": "text/x-python",
   "name": "python",
   "nbconvert_exporter": "python",
   "pygments_lexer": "ipython3",
   "version": "3.7.2"
  }
 },
 "nbformat": 4,
 "nbformat_minor": 2
}
