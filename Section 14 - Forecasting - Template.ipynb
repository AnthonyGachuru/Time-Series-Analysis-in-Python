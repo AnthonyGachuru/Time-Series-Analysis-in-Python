{
 "cells": [
  {
   "cell_type": "markdown",
   "metadata": {},
   "source": [
    "## Packages"
   ]
  },
  {
   "cell_type": "code",
   "execution_count": 1,
   "metadata": {},
   "outputs": [],
   "source": [
    "import numpy as np\n",
    "import pandas as pd\n",
    "import scipy\n",
    "import statsmodels.api as sm\n",
    "import matplotlib.pyplot as plt\n",
    "import seaborn as sns\n",
    "import sklearn\n",
    "import statsmodels.graphics.tsaplots as sgt\n",
    "import statsmodels.tsa.stattools as sts\n",
    "from statsmodels.tsa.arima_model import ARIMA\n",
    "from statsmodels.tsa.statespace.sarimax import SARIMAX\n",
    "from pmdarima.arima import auto_arima\n",
    "from arch import arch_model\n",
    "import yfinance\n",
    "import warnings\n",
    "warnings.filterwarnings(\"ignore\")\n",
    "sns.set()"
   ]
  },
  {
   "cell_type": "markdown",
   "metadata": {},
   "source": [
    "## Loading the data"
   ]
  },
  {
   "cell_type": "code",
   "execution_count": null,
   "metadata": {},
   "outputs": [
    {
     "name": "stdout",
     "output_type": "stream",
     "text": [
      "\r",
      "[                       0%                       ]"
     ]
    }
   ],
   "source": [
    "raw_data = yfinance.download (tickers = \"^GSPC ^FTSE ^N225 ^GDAXI\", start = \"1994-01-07\", \n",
    "                              end = \"2019-09-01\", interval = \"1d\", group_by = 'ticker', auto_adjust = True, treads = True)"
   ]
  },
  {
   "cell_type": "code",
   "execution_count": null,
   "metadata": {},
   "outputs": [],
   "source": [
    "df_comp = raw_data.copy()"
   ]
  },
  {
   "cell_type": "code",
   "execution_count": null,
   "metadata": {},
   "outputs": [],
   "source": [
    "df_comp['spx'] = df_comp['^GSPC'].Close[:]\n",
    "df_comp['dax'] = df_comp['^GDAXI'].Close[:]\n",
    "df_comp['ftse'] = df_comp['^FTSE'].Close[:]\n",
    "df_comp['nikkei'] = df_comp['^N225'].Close[:]"
   ]
  },
  {
   "cell_type": "code",
   "execution_count": null,
   "metadata": {
    "scrolled": true
   },
   "outputs": [],
   "source": [
    "df_comp = df_comp.iloc[1:]\n",
    "del df_comp['^N225']\n",
    "del df_comp['^GSPC']\n",
    "del df_comp['^GDAXI']\n",
    "del df_comp['^FTSE']\n",
    "df_comp=df_comp.asfreq('b')\n",
    "df_comp=df_comp.fillna(method='ffill')"
   ]
  },
  {
   "cell_type": "markdown",
   "metadata": {},
   "source": [
    "## Creating Returns"
   ]
  },
  {
   "cell_type": "code",
   "execution_count": null,
   "metadata": {},
   "outputs": [],
   "source": [
    "df_comp['ret_spx'] = df_comp.spx.pct_change(1).mul(100)\n",
    "df_comp['ret_ftse'] = df_comp.ftse.pct_change(1).mul(100)\n",
    "df_comp['ret_dax'] = df_comp.dax.pct_change(1).mul(100)\n",
    "df_comp['ret_nikkei'] = df_comp.nikkei.pct_change(1).mul(100)"
   ]
  },
  {
   "cell_type": "code",
   "execution_count": null,
   "metadata": {},
   "outputs": [],
   "source": [
    "df_comp['norm_ret_spx'] = df_comp.ret_spx.div(df_comp.ret_spx[1])*100\n",
    "df_comp['norm_ret_ftse'] = df_comp.ret_ftse.div(df_comp.ret_ftse[1])*100\n",
    "df_comp['norm_ret_dax'] = df_comp.ret_dax.div(df_comp.ret_dax[1])*100\n",
    "df_comp['norm_ret_nikkei'] = df_comp.ret_nikkei.div(df_comp.ret_nikkei[1])*100"
   ]
  },
  {
   "cell_type": "markdown",
   "metadata": {},
   "source": [
    "## Splitting the Data"
   ]
  },
  {
   "cell_type": "code",
   "execution_count": null,
   "metadata": {},
   "outputs": [],
   "source": [
    "size = int(len(df_comp)*0.8)\n",
    "df, df_test = df_comp.iloc[:size], df_comp.iloc[size:]"
   ]
  },
  {
   "cell_type": "markdown",
   "metadata": {},
   "source": [
    "## Fitting a Model"
   ]
  },
  {
   "cell_type": "code",
   "execution_count": null,
   "metadata": {},
   "outputs": [],
   "source": [
    "model_ar= ARIMA(df.ftse, order=(1,0,0))\n",
    "results_ar = model_ar.fit()"
   ]
  },
  {
   "cell_type": "markdown",
   "metadata": {},
   "source": [
    "## Simple Forecasting"
   ]
  },
  {
   "cell_type": "code",
   "execution_count": null,
   "metadata": {},
   "outputs": [],
   "source": [
    "df.tail()"
   ]
  },
  {
   "cell_type": "code",
   "execution_count": null,
   "metadata": {},
   "outputs": [],
   "source": [
    "# create variables that will help us change the periods easily instead of typing them up every time\n",
    "# make sure the start and end dates are business days, otherwise the code will result in an error\n",
    "start_date = \"2014-07-15\"\n",
    "end_date = \"2015-01-01\""
   ]
  },
  {
   "cell_type": "code",
   "execution_count": null,
   "metadata": {},
   "outputs": [],
   "source": [
    "df_pred = results_ar.predict(start=start_date , end=end_date)"
   ]
  },
  {
   "cell_type": "code",
   "execution_count": null,
   "metadata": {
    "scrolled": true
   },
   "outputs": [],
   "source": [
    "df_pred[start_date:end_date].plot(figsize =(20,5), color = \"red\")\n",
    "df_test.ftse[start_date:end_date].plot(color = \"blue\")\n",
    "plt.title(\"Predictions VS Actual\", size = 24)\n",
    "plt.show()"
   ]
  },
  {
   "cell_type": "code",
   "execution_count": null,
   "metadata": {},
   "outputs": [],
   "source": [
    "end_date1 = \"2019-10-23\"\n",
    "df_pred = results_ar.predict(start=start_date , end=end_date1)"
   ]
  },
  {
   "cell_type": "code",
   "execution_count": null,
   "metadata": {},
   "outputs": [],
   "source": [
    "df_pred[start_date:end_date1].plot(figsize =(20,5), color = \"red\")\n",
    "df_test.ftse[start_date:end_date1].plot(color = \"blue\")\n",
    "plt.title(\"Predictions VS Actual\", size = 24)\n",
    "plt.show()"
   ]
  },
  {
   "cell_type": "markdown",
   "metadata": {},
   "source": [
    "### Using Returns Instead"
   ]
  },
  {
   "cell_type": "code",
   "execution_count": null,
   "metadata": {},
   "outputs": [],
   "source": [
    "model_ret_ar= ARIMA(df.ret_ftse[1:], order=(1,0,0))\n",
    "results_ret_ar = model_ret_ar.fit()\n",
    "\n",
    "df_pred_ar = results_ret_ar.predict(start=start_date , end=end_date)\n",
    "    \n",
    "df_pred_ar[start_date:end_date].plot(figsize =(20,5), color = \"red\")\n",
    "df_test.ret_ftse[start_date:end_date].plot(color = \"blue\")\n",
    "plt.title(\"Predictions VS Actual (Returns)\", size = 24)\n",
    "plt.show()"
   ]
  },
  {
   "cell_type": "code",
   "execution_count": null,
   "metadata": {},
   "outputs": [],
   "source": [
    "results_ret_ar.summary()"
   ]
  },
  {
   "cell_type": "code",
   "execution_count": null,
   "metadata": {
    "scrolled": false
   },
   "outputs": [],
   "source": [
    "end_date2 = \"2014-08-18\"\n",
    "model_ret_ar= ARIMA(df.ret_ftse[1:], order=(5,0,0))\n",
    "results_ret_ar = model_ret_ar.fit()\n",
    "\n",
    "df_pred_ar = results_ret_ar.predict(start=start_date , end=end_date2)\n",
    "    \n",
    "df_pred_ar[start_date:end_date2].plot(figsize =(20,5), color = \"red\")\n",
    "df_test.ret_ftse[start_date:end_date2].plot(color = \"blue\")\n",
    "plt.title(\"Predictions VS Actual (Returns)\", size = 24)\n",
    "plt.show()"
   ]
  },
  {
   "cell_type": "markdown",
   "metadata": {},
   "source": [
    "### MA"
   ]
  },
  {
   "cell_type": "code",
   "execution_count": null,
   "metadata": {},
   "outputs": [],
   "source": [
    "model_ret_ma= ARIMA(df.ret_ftse[1:], order=(0,0,1))\n",
    "results_ret_ma = model_ret_ma.fit()\n",
    "\n",
    "df_pred_ma = results_ret_ma.predict(start=start_date , end=end_date)\n",
    "    \n",
    "df_pred_ma[start_date:end_date].plot(figsize =(20,5), color = \"red\")\n",
    "df_test.ret_ftse[start_date:end_date].plot(color = \"blue\")\n",
    "plt.title(\"Predictions VS Actual (Returns)\", size = 24)\n",
    "plt.show()"
   ]
  },
  {
   "cell_type": "code",
   "execution_count": null,
   "metadata": {},
   "outputs": [],
   "source": [
    "df_pred_ma.head()"
   ]
  },
  {
   "cell_type": "markdown",
   "metadata": {},
   "source": [
    "### ARMA"
   ]
  },
  {
   "cell_type": "code",
   "execution_count": null,
   "metadata": {},
   "outputs": [],
   "source": [
    "model_ret_arma= ARIMA(df.ret_ftse[1:], order=(1,0,1))\n",
    "results_ret_arma = model_ret_arma.fit()\n",
    "\n",
    "df_pred_arma = results_ret_arma.predict(start=start_date , end=end_date)\n",
    "    \n",
    "df_pred_arma[start_date:end_date].plot(figsize =(20,5), color = \"red\")\n",
    "df_test.ret_ftse[start_date:end_date].plot(color = \"blue\")\n",
    "plt.title(\"Predictions VS Actual (Returns)\", size = 24)\n",
    "plt.show()"
   ]
  },
  {
   "cell_type": "code",
   "execution_count": null,
   "metadata": {},
   "outputs": [],
   "source": [
    "df_pred_arma.head()"
   ]
  },
  {
   "cell_type": "code",
   "execution_count": null,
   "metadata": {},
   "outputs": [],
   "source": [
    "df_pred_arma.tail()"
   ]
  },
  {
   "cell_type": "markdown",
   "metadata": {},
   "source": [
    "### ARMAX"
   ]
  },
  {
   "cell_type": "code",
   "execution_count": null,
   "metadata": {},
   "outputs": [],
   "source": [
    "model_ret_armax= ARIMA(df.ret_ftse[1:], exog=df[[\"ret_spx\",\"ret_dax\",\"ret_nikkei\"]][1:], order=(1,0,1))\n",
    "results_ret_armax = model_ret_armax.fit()\n",
    "\n",
    "df_pred_armax = results_ret_armax.predict(start=start_date , end=end_date, exog=df_test[[\"ret_spx\",\"ret_dax\",\"ret_nikkei\"]][start_date:end_date])\n",
    "    \n",
    "df_pred_armax[start_date:end_date].plot(figsize =(20,5), color = \"red\")\n",
    "df_test.ret_ftse[start_date:end_date].plot(color = \"blue\")\n",
    "plt.title(\"Predictions VS Actual (Returns)\", size = 24)\n",
    "plt.show()"
   ]
  },
  {
   "cell_type": "markdown",
   "metadata": {},
   "source": [
    "### SARMA"
   ]
  },
  {
   "cell_type": "code",
   "execution_count": null,
   "metadata": {},
   "outputs": [],
   "source": [
    "model_ret_sarma= SARIMAX(df.ret_ftse[1:], order=(3,0,3),seasonal_order=(3,0,2,5))\n",
    "results_ret_sarma = model_ret_sarma.fit()\n",
    "\n",
    "df_pred_sarma = results_ret_sarma.predict(start=start_date , end=end_date)\n",
    "    \n",
    "df_pred_sarma[start_date:end_date].plot(figsize =(20,5), color = \"red\")\n",
    "df_test.ret_ftse[start_date:end_date].plot(color = \"blue\")\n",
    "plt.title(\"Predictions VS Actual (SARMA)\", size = 24)\n",
    "plt.show()"
   ]
  },
  {
   "cell_type": "markdown",
   "metadata": {},
   "source": [
    "### SARIMAX"
   ]
  },
  {
   "cell_type": "code",
   "execution_count": null,
   "metadata": {},
   "outputs": [],
   "source": [
    "model_ret_sarimax= SARIMAX(df.ret_ftse[1:], exog=df[[\"ret_spx\",\"ret_dax\",\"ret_nikkei\"]][1:], order=(3,0,4),seasonal_order=(3,0,2,5))\n",
    "results_ret_sarimax = model_ret_sarimax.fit()\n",
    "\n",
    "df_pred_sarimax = results_ret_sarimax.predict(start=start_date , end=end_date, exog=df_test[[\"ret_spx\",\"ret_dax\",\"ret_nikkei\"]][start_date:end_date])\n",
    "    \n",
    "df_pred_sarimax[start_date:end_date].plot(figsize =(20,5), color = \"red\")\n",
    "df_test.ret_ftse[start_date:end_date].plot(color = \"blue\")\n",
    "plt.title(\"Predictions VS Actual (Returns)\", size = 24)\n",
    "plt.show()"
   ]
  },
  {
   "cell_type": "markdown",
   "metadata": {},
   "source": [
    "### Auto ARIMA"
   ]
  },
  {
   "cell_type": "code",
   "execution_count": null,
   "metadata": {},
   "outputs": [],
   "source": [
    "model_auto = auto_arima(df.ret_ftse[1:],exogenous=df[[\"ret_spx\",\"ret_dax\",\"ret_nikkei\"]][1:], \n",
    "                        m = 5, max_p = 5, max_q=5,max_P = 5, max_Q=5)"
   ]
  },
  {
   "cell_type": "code",
   "execution_count": null,
   "metadata": {},
   "outputs": [],
   "source": [
    "df_auto_pred = pd.DataFrame(model_auto.predict(n_periods=len(df_test[start_date:end_date])),\n",
    "                            exogenous=df_test[[\"ret_spx\",\"ret_dax\",\"ret_nikkei\"]][start_date:end_date]\n",
    "                            ,index = df_test[start_date:end_date].index)\n"
   ]
  },
  {
   "cell_type": "code",
   "execution_count": null,
   "metadata": {
    "scrolled": true
   },
   "outputs": [],
   "source": [
    "    \n",
    "df_auto_pred.plot(figsize =(20,5), color = \"red\")\n",
    "df_test.ret_ftse[start_date:end_date].plot(color = \"blue\")\n",
    "plt.title(\"Auto model Predictions VS Real Data\", size = 24)\n",
    "plt.show()"
   ]
  },
  {
   "cell_type": "markdown",
   "metadata": {},
   "source": [
    "### Comparing All the Models (Returns)"
   ]
  },
  {
   "cell_type": "code",
   "execution_count": null,
   "metadata": {},
   "outputs": [],
   "source": []
  },
  {
   "cell_type": "markdown",
   "metadata": {},
   "source": [
    "### Forecasting Volatility"
   ]
  },
  {
   "cell_type": "code",
   "execution_count": null,
   "metadata": {},
   "outputs": [],
   "source": []
  },
  {
   "cell_type": "code",
   "execution_count": null,
   "metadata": {},
   "outputs": [],
   "source": []
  },
  {
   "cell_type": "code",
   "execution_count": null,
   "metadata": {},
   "outputs": [],
   "source": []
  },
  {
   "cell_type": "code",
   "execution_count": null,
   "metadata": {
    "scrolled": true
   },
   "outputs": [],
   "source": []
  },
  {
   "cell_type": "markdown",
   "metadata": {},
   "source": [
    "### Multvariate Regression Model"
   ]
  },
  {
   "cell_type": "code",
   "execution_count": null,
   "metadata": {},
   "outputs": [],
   "source": []
  },
  {
   "cell_type": "code",
   "execution_count": null,
   "metadata": {},
   "outputs": [],
   "source": []
  },
  {
   "cell_type": "code",
   "execution_count": null,
   "metadata": {},
   "outputs": [],
   "source": []
  },
  {
   "cell_type": "code",
   "execution_count": null,
   "metadata": {},
   "outputs": [],
   "source": []
  },
  {
   "cell_type": "code",
   "execution_count": null,
   "metadata": {
    "scrolled": true
   },
   "outputs": [],
   "source": []
  },
  {
   "cell_type": "code",
   "execution_count": null,
   "metadata": {},
   "outputs": [],
   "source": []
  }
 ],
 "metadata": {
  "kernelspec": {
   "display_name": "Python 3",
   "language": "python",
   "name": "python3"
  },
  "language_info": {
   "codemirror_mode": {
    "name": "ipython",
    "version": 3
   },
   "file_extension": ".py",
   "mimetype": "text/x-python",
   "name": "python",
   "nbconvert_exporter": "python",
   "pygments_lexer": "ipython3",
   "version": "3.7.2"
  }
 },
 "nbformat": 4,
 "nbformat_minor": 2
}
