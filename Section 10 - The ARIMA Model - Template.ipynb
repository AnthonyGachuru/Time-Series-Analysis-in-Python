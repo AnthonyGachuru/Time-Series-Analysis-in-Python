{
 "cells": [
  {
   "cell_type": "markdown",
   "metadata": {},
   "source": [
    "## Importing the relevant packages"
   ]
  },
  {
   "cell_type": "code",
   "execution_count": 1,
   "metadata": {},
   "outputs": [
    {
     "name": "stderr",
     "output_type": "stream",
     "text": [
      "C:\\Users\\YOUNIS\\Anaconda3\\lib\\site-packages\\statsmodels\\compat\\pandas.py:49: FutureWarning: The Panel class is removed from pandas. Accessing it from the top-level namespace will also be removed in the next version\n",
      "  data_klasses = (pandas.Series, pandas.DataFrame, pandas.Panel)\n"
     ]
    }
   ],
   "source": [
    "import pandas as pd\n",
    "import numpy as np\n",
    "import matplotlib.pyplot as plt\n",
    "import statsmodels.graphics.tsaplots as sgt\n",
    "import statsmodels.tsa.stattools as sts\n",
    "from statsmodels.tsa.arima_model import ARIMA\n",
    "from scipy.stats.distributions import chi2 \n",
    "from math import sqrt\n",
    "import seaborn as sns\n",
    "sns.set()"
   ]
  },
  {
   "cell_type": "markdown",
   "metadata": {},
   "source": [
    " "
   ]
  },
  {
   "cell_type": "markdown",
   "metadata": {},
   "source": [
    "## Importing the Data and Pre-processing "
   ]
  },
  {
   "cell_type": "code",
   "execution_count": 2,
   "metadata": {},
   "outputs": [],
   "source": [
    "raw_csv_data = pd.read_csv(\"Index2018.csv\") \n",
    "df_comp=raw_csv_data.copy()\n",
    "df_comp.date = pd.to_datetime(df_comp.date, dayfirst = True)\n",
    "df_comp.set_index(\"date\", inplace=True)\n",
    "df_comp=df_comp.asfreq('b')\n",
    "df_comp=df_comp.fillna(method='ffill')"
   ]
  },
  {
   "cell_type": "code",
   "execution_count": 3,
   "metadata": {},
   "outputs": [],
   "source": [
    "df_comp['market_value']=df_comp.ftse"
   ]
  },
  {
   "cell_type": "code",
   "execution_count": 4,
   "metadata": {},
   "outputs": [],
   "source": [
    "#del df_comp['spx']\n",
    "#del df_comp['dax']\n",
    "#del df_comp['ftse']\n",
    "#del df_comp['nikkei']\n",
    "size = int(len(df_comp)*0.8)\n",
    "df, df_test = df_comp.iloc[:size], df_comp.iloc[size:]"
   ]
  },
  {
   "cell_type": "code",
   "execution_count": 5,
   "metadata": {},
   "outputs": [],
   "source": [
    "import warnings\n",
    "warnings.filterwarnings(\"ignore\")"
   ]
  },
  {
   "cell_type": "markdown",
   "metadata": {},
   "source": [
    " "
   ]
  },
  {
   "cell_type": "markdown",
   "metadata": {},
   "source": [
    "## The LLR Test"
   ]
  },
  {
   "cell_type": "code",
   "execution_count": 6,
   "metadata": {},
   "outputs": [],
   "source": [
    "def LLR_test(mod_1, mod_2, DF = 1):\n",
    "    L1 = mod_1.fit(start_ar_lags = 11).llf\n",
    "    L2 = mod_2.fit(start_ar_lags = 11).llf\n",
    "    LR = (2*(L2-L1))    \n",
    "    p = chi2.sf(LR, DF).round(3)\n",
    "    return p"
   ]
  },
  {
   "cell_type": "markdown",
   "metadata": {},
   "source": [
    "## Creating Returns"
   ]
  },
  {
   "cell_type": "code",
   "execution_count": 7,
   "metadata": {
    "scrolled": true
   },
   "outputs": [],
   "source": [
    "df['returns'] = df.market_value.pct_change(1)*100"
   ]
  },
  {
   "cell_type": "markdown",
   "metadata": {},
   "source": [
    "## ARIMA(1,1,1)"
   ]
  },
  {
   "cell_type": "code",
   "execution_count": 8,
   "metadata": {},
   "outputs": [
    {
     "data": {
      "text/html": [
       "<table class=\"simpletable\">\n",
       "<caption>ARIMA Model Results</caption>\n",
       "<tr>\n",
       "  <th>Dep. Variable:</th>  <td>D.market_value</td>  <th>  No. Observations:  </th>    <td>5020</td>   \n",
       "</tr>\n",
       "<tr>\n",
       "  <th>Model:</th>          <td>ARIMA(1, 1, 1)</td>  <th>  Log Likelihood     </th> <td>-27603.666</td>\n",
       "</tr>\n",
       "<tr>\n",
       "  <th>Method:</th>             <td>css-mle</td>     <th>  S.D. of innovations</th>   <td>59.134</td>  \n",
       "</tr>\n",
       "<tr>\n",
       "  <th>Date:</th>          <td>Sun, 12 Apr 2020</td> <th>  AIC                </th>  <td>55215.333</td>\n",
       "</tr>\n",
       "<tr>\n",
       "  <th>Time:</th>              <td>23:21:50</td>     <th>  BIC                </th>  <td>55241.418</td>\n",
       "</tr>\n",
       "<tr>\n",
       "  <th>Sample:</th>           <td>01-10-1994</td>    <th>  HQIC               </th>  <td>55224.473</td>\n",
       "</tr>\n",
       "<tr>\n",
       "  <th></th>                 <td>- 04-05-2013</td>   <th>                     </th>      <td> </td>    \n",
       "</tr>\n",
       "</table>\n",
       "<table class=\"simpletable\">\n",
       "<tr>\n",
       "            <td></td>              <th>coef</th>     <th>std err</th>      <th>z</th>      <th>P>|z|</th>  <th>[0.025</th>    <th>0.975]</th>  \n",
       "</tr>\n",
       "<tr>\n",
       "  <th>const</th>                <td>    0.5656</td> <td>    0.682</td> <td>    0.829</td> <td> 0.407</td> <td>   -0.772</td> <td>    1.903</td>\n",
       "</tr>\n",
       "<tr>\n",
       "  <th>ar.L1.D.market_value</th> <td>    0.7475</td> <td>    0.070</td> <td>   10.652</td> <td> 0.000</td> <td>    0.610</td> <td>    0.885</td>\n",
       "</tr>\n",
       "<tr>\n",
       "  <th>ma.L1.D.market_value</th> <td>   -0.7936</td> <td>    0.064</td> <td>  -12.378</td> <td> 0.000</td> <td>   -0.919</td> <td>   -0.668</td>\n",
       "</tr>\n",
       "</table>\n",
       "<table class=\"simpletable\">\n",
       "<caption>Roots</caption>\n",
       "<tr>\n",
       "    <td></td>   <th>            Real</th>  <th>         Imaginary</th> <th>         Modulus</th>  <th>        Frequency</th>\n",
       "</tr>\n",
       "<tr>\n",
       "  <th>AR.1</th> <td>           1.3378</td> <td>          +0.0000j</td> <td>           1.3378</td> <td>           0.0000</td>\n",
       "</tr>\n",
       "<tr>\n",
       "  <th>MA.1</th> <td>           1.2601</td> <td>          +0.0000j</td> <td>           1.2601</td> <td>           0.0000</td>\n",
       "</tr>\n",
       "</table>"
      ],
      "text/plain": [
       "<class 'statsmodels.iolib.summary.Summary'>\n",
       "\"\"\"\n",
       "                             ARIMA Model Results                              \n",
       "==============================================================================\n",
       "Dep. Variable:         D.market_value   No. Observations:                 5020\n",
       "Model:                 ARIMA(1, 1, 1)   Log Likelihood              -27603.666\n",
       "Method:                       css-mle   S.D. of innovations             59.134\n",
       "Date:                Sun, 12 Apr 2020   AIC                          55215.333\n",
       "Time:                        23:21:50   BIC                          55241.418\n",
       "Sample:                    01-10-1994   HQIC                         55224.473\n",
       "                         - 04-05-2013                                         \n",
       "========================================================================================\n",
       "                           coef    std err          z      P>|z|      [0.025      0.975]\n",
       "----------------------------------------------------------------------------------------\n",
       "const                    0.5656      0.682      0.829      0.407      -0.772       1.903\n",
       "ar.L1.D.market_value     0.7475      0.070     10.652      0.000       0.610       0.885\n",
       "ma.L1.D.market_value    -0.7936      0.064    -12.378      0.000      -0.919      -0.668\n",
       "                                    Roots                                    \n",
       "=============================================================================\n",
       "                  Real          Imaginary           Modulus         Frequency\n",
       "-----------------------------------------------------------------------------\n",
       "AR.1            1.3378           +0.0000j            1.3378            0.0000\n",
       "MA.1            1.2601           +0.0000j            1.2601            0.0000\n",
       "-----------------------------------------------------------------------------\n",
       "\"\"\""
      ]
     },
     "execution_count": 8,
     "metadata": {},
     "output_type": "execute_result"
    }
   ],
   "source": [
    "model_ar1_i1_ma1 = ARIMA(df.market_value, order=(1,1,1))\n",
    "results_ar1_i1_ma1 = model_ar1_i1_ma1.fit()\n",
    "results_ar1_i1_ma1.summary()"
   ]
  },
  {
   "cell_type": "markdown",
   "metadata": {},
   "source": [
    "## Residuals of the ARIMA(1,1,1)"
   ]
  },
  {
   "cell_type": "code",
   "execution_count": 14,
   "metadata": {},
   "outputs": [
    {
     "data": {
      "image/png": "[encoded data removed]",
      "text/plain": [
       "<Figure size 432x288 with 1 Axes>"
      ]
     },
     "metadata": {
      "needs_background": "light"
     },
     "output_type": "display_data"
    }
   ],
   "source": [
    "df['res_ar1_i1_ma1'] = results_ar1_i1_ma1.resid\n",
    "sgt.plot_acf(df.res_ar1_i1_ma1[1:], zero=False, lags=40)\n",
    "plt.title(\"ACF of Residual for ARIMA(1,1,1)\")\n",
    "plt.show()"
   ]
  },
  {
   "cell_type": "markdown",
   "metadata": {},
   "source": [
    "## Higher-Lag ARIMA Models"
   ]
  },
  {
   "cell_type": "code",
   "execution_count": 24,
   "metadata": {},
   "outputs": [
    {
     "data": {
      "text/html": [
       "<table class=\"simpletable\">\n",
       "<caption>ARIMA Model Results</caption>\n",
       "<tr>\n",
       "  <th>Dep. Variable:</th>  <td>D.market_value</td>  <th>  No. Observations:  </th>    <td>5020</td>   \n",
       "</tr>\n",
       "<tr>\n",
       "  <th>Model:</th>          <td>ARIMA(1, 1, 2)</td>  <th>  Log Likelihood     </th> <td>-27600.082</td>\n",
       "</tr>\n",
       "<tr>\n",
       "  <th>Method:</th>             <td>css-mle</td>     <th>  S.D. of innovations</th>   <td>59.091</td>  \n",
       "</tr>\n",
       "<tr>\n",
       "  <th>Date:</th>          <td>Sun, 12 Apr 2020</td> <th>  AIC                </th>  <td>55210.164</td>\n",
       "</tr>\n",
       "<tr>\n",
       "  <th>Time:</th>              <td>23:53:56</td>     <th>  BIC                </th>  <td>55242.770</td>\n",
       "</tr>\n",
       "<tr>\n",
       "  <th>Sample:</th>           <td>01-10-1994</td>    <th>  HQIC               </th>  <td>55221.589</td>\n",
       "</tr>\n",
       "<tr>\n",
       "  <th></th>                 <td>- 04-05-2013</td>   <th>                     </th>      <td> </td>    \n",
       "</tr>\n",
       "</table>\n",
       "<table class=\"simpletable\">\n",
       "<tr>\n",
       "            <td></td>              <th>coef</th>     <th>std err</th>      <th>z</th>      <th>P>|z|</th>  <th>[0.025</th>    <th>0.975]</th>  \n",
       "</tr>\n",
       "<tr>\n",
       "  <th>const</th>                <td>    0.5658</td> <td>    0.692</td> <td>    0.818</td> <td> 0.413</td> <td>   -0.790</td> <td>    1.922</td>\n",
       "</tr>\n",
       "<tr>\n",
       "  <th>ar.L1.D.market_value</th> <td>    0.5886</td> <td>    0.100</td> <td>    5.890</td> <td> 0.000</td> <td>    0.393</td> <td>    0.784</td>\n",
       "</tr>\n",
       "<tr>\n",
       "  <th>ma.L1.D.market_value</th> <td>   -0.6131</td> <td>    0.100</td> <td>   -6.138</td> <td> 0.000</td> <td>   -0.809</td> <td>   -0.417</td>\n",
       "</tr>\n",
       "<tr>\n",
       "  <th>ma.L2.D.market_value</th> <td>   -0.0457</td> <td>    0.016</td> <td>   -2.864</td> <td> 0.004</td> <td>   -0.077</td> <td>   -0.014</td>\n",
       "</tr>\n",
       "</table>\n",
       "<table class=\"simpletable\">\n",
       "<caption>Roots</caption>\n",
       "<tr>\n",
       "    <td></td>   <th>            Real</th>  <th>         Imaginary</th> <th>         Modulus</th>  <th>        Frequency</th>\n",
       "</tr>\n",
       "<tr>\n",
       "  <th>AR.1</th> <td>           1.6990</td> <td>          +0.0000j</td> <td>           1.6990</td> <td>           0.0000</td>\n",
       "</tr>\n",
       "<tr>\n",
       "  <th>MA.1</th> <td>           1.4700</td> <td>          +0.0000j</td> <td>           1.4700</td> <td>           0.0000</td>\n",
       "</tr>\n",
       "<tr>\n",
       "  <th>MA.2</th> <td>         -14.8753</td> <td>          +0.0000j</td> <td>          14.8753</td> <td>           0.5000</td>\n",
       "</tr>\n",
       "</table>"
      ],
      "text/plain": [
       "<class 'statsmodels.iolib.summary.Summary'>\n",
       "\"\"\"\n",
       "                             ARIMA Model Results                              \n",
       "==============================================================================\n",
       "Dep. Variable:         D.market_value   No. Observations:                 5020\n",
       "Model:                 ARIMA(1, 1, 2)   Log Likelihood              -27600.082\n",
       "Method:                       css-mle   S.D. of innovations             59.091\n",
       "Date:                Sun, 12 Apr 2020   AIC                          55210.164\n",
       "Time:                        23:53:56   BIC                          55242.770\n",
       "Sample:                    01-10-1994   HQIC                         55221.589\n",
       "                         - 04-05-2013                                         \n",
       "========================================================================================\n",
       "                           coef    std err          z      P>|z|      [0.025      0.975]\n",
       "----------------------------------------------------------------------------------------\n",
       "const                    0.5658      0.692      0.818      0.413      -0.790       1.922\n",
       "ar.L1.D.market_value     0.5886      0.100      5.890      0.000       0.393       0.784\n",
       "ma.L1.D.market_value    -0.6131      0.100     -6.138      0.000      -0.809      -0.417\n",
       "ma.L2.D.market_value    -0.0457      0.016     -2.864      0.004      -0.077      -0.014\n",
       "                                    Roots                                    \n",
       "=============================================================================\n",
       "                  Real          Imaginary           Modulus         Frequency\n",
       "-----------------------------------------------------------------------------\n",
       "AR.1            1.6990           +0.0000j            1.6990            0.0000\n",
       "MA.1            1.4700           +0.0000j            1.4700            0.0000\n",
       "MA.2          -14.8753           +0.0000j           14.8753            0.5000\n",
       "-----------------------------------------------------------------------------\n",
       "\"\"\""
      ]
     },
     "execution_count": 24,
     "metadata": {},
     "output_type": "execute_result"
    }
   ],
   "source": [
    "model_ar1_i1_ma2 = ARIMA(df.market_value, order=(1,1,2))\n",
    "results_ar1_i1_ma2 = model_ar1_i1_ma2.fit()\n",
    "results_ar1_i1_ma2.summary()"
   ]
  },
  {
   "cell_type": "code",
   "execution_count": 16,
   "metadata": {},
   "outputs": [
    {
     "data": {
      "text/html": [
       "<table class=\"simpletable\">\n",
       "<caption>ARIMA Model Results</caption>\n",
       "<tr>\n",
       "  <th>Dep. Variable:</th>  <td>D.market_value</td>  <th>  No. Observations:  </th>    <td>5020</td>   \n",
       "</tr>\n",
       "<tr>\n",
       "  <th>Model:</th>          <td>ARIMA(1, 1, 3)</td>  <th>  Log Likelihood     </th> <td>-27590.424</td>\n",
       "</tr>\n",
       "<tr>\n",
       "  <th>Method:</th>             <td>css-mle</td>     <th>  S.D. of innovations</th>   <td>58.978</td>  \n",
       "</tr>\n",
       "<tr>\n",
       "  <th>Date:</th>          <td>Sun, 12 Apr 2020</td> <th>  AIC                </th>  <td>55192.848</td>\n",
       "</tr>\n",
       "<tr>\n",
       "  <th>Time:</th>              <td>23:41:39</td>     <th>  BIC                </th>  <td>55231.975</td>\n",
       "</tr>\n",
       "<tr>\n",
       "  <th>Sample:</th>           <td>01-10-1994</td>    <th>  HQIC               </th>  <td>55206.559</td>\n",
       "</tr>\n",
       "<tr>\n",
       "  <th></th>                 <td>- 04-05-2013</td>   <th>                     </th>      <td> </td>    \n",
       "</tr>\n",
       "</table>\n",
       "<table class=\"simpletable\">\n",
       "<tr>\n",
       "            <td></td>              <th>coef</th>     <th>std err</th>      <th>z</th>      <th>P>|z|</th>  <th>[0.025</th>    <th>0.975]</th>  \n",
       "</tr>\n",
       "<tr>\n",
       "  <th>const</th>                <td>    0.5654</td> <td>    0.723</td> <td>    0.782</td> <td> 0.434</td> <td>   -0.851</td> <td>    1.982</td>\n",
       "</tr>\n",
       "<tr>\n",
       "  <th>ar.L1.D.market_value</th> <td>   -0.3585</td> <td>    0.125</td> <td>   -2.878</td> <td> 0.004</td> <td>   -0.603</td> <td>   -0.114</td>\n",
       "</tr>\n",
       "<tr>\n",
       "  <th>ma.L1.D.market_value</th> <td>    0.3386</td> <td>    0.124</td> <td>    2.730</td> <td> 0.006</td> <td>    0.096</td> <td>    0.582</td>\n",
       "</tr>\n",
       "<tr>\n",
       "  <th>ma.L2.D.market_value</th> <td>   -0.0590</td> <td>    0.015</td> <td>   -3.932</td> <td> 0.000</td> <td>   -0.088</td> <td>   -0.030</td>\n",
       "</tr>\n",
       "<tr>\n",
       "  <th>ma.L3.D.market_value</th> <td>   -0.1002</td> <td>    0.015</td> <td>   -6.866</td> <td> 0.000</td> <td>   -0.129</td> <td>   -0.072</td>\n",
       "</tr>\n",
       "</table>\n",
       "<table class=\"simpletable\">\n",
       "<caption>Roots</caption>\n",
       "<tr>\n",
       "    <td></td>   <th>            Real</th>  <th>         Imaginary</th> <th>         Modulus</th>  <th>        Frequency</th>\n",
       "</tr>\n",
       "<tr>\n",
       "  <th>AR.1</th> <td>          -2.7895</td> <td>          +0.0000j</td> <td>           2.7895</td> <td>           0.5000</td>\n",
       "</tr>\n",
       "<tr>\n",
       "  <th>MA.1</th> <td>          -1.5201</td> <td>          -1.3272j</td> <td>           2.0180</td> <td>          -0.3858</td>\n",
       "</tr>\n",
       "<tr>\n",
       "  <th>MA.2</th> <td>          -1.5201</td> <td>          +1.3272j</td> <td>           2.0180</td> <td>           0.3858</td>\n",
       "</tr>\n",
       "<tr>\n",
       "  <th>MA.3</th> <td>           2.4511</td> <td>          -0.0000j</td> <td>           2.4511</td> <td>          -0.0000</td>\n",
       "</tr>\n",
       "</table>"
      ],
      "text/plain": [
       "<class 'statsmodels.iolib.summary.Summary'>\n",
       "\"\"\"\n",
       "                             ARIMA Model Results                              \n",
       "==============================================================================\n",
       "Dep. Variable:         D.market_value   No. Observations:                 5020\n",
       "Model:                 ARIMA(1, 1, 3)   Log Likelihood              -27590.424\n",
       "Method:                       css-mle   S.D. of innovations             58.978\n",
       "Date:                Sun, 12 Apr 2020   AIC                          55192.848\n",
       "Time:                        23:41:39   BIC                          55231.975\n",
       "Sample:                    01-10-1994   HQIC                         55206.559\n",
       "                         - 04-05-2013                                         \n",
       "========================================================================================\n",
       "                           coef    std err          z      P>|z|      [0.025      0.975]\n",
       "----------------------------------------------------------------------------------------\n",
       "const                    0.5654      0.723      0.782      0.434      -0.851       1.982\n",
       "ar.L1.D.market_value    -0.3585      0.125     -2.878      0.004      -0.603      -0.114\n",
       "ma.L1.D.market_value     0.3386      0.124      2.730      0.006       0.096       0.582\n",
       "ma.L2.D.market_value    -0.0590      0.015     -3.932      0.000      -0.088      -0.030\n",
       "ma.L3.D.market_value    -0.1002      0.015     -6.866      0.000      -0.129      -0.072\n",
       "                                    Roots                                    \n",
       "=============================================================================\n",
       "                  Real          Imaginary           Modulus         Frequency\n",
       "-----------------------------------------------------------------------------\n",
       "AR.1           -2.7895           +0.0000j            2.7895            0.5000\n",
       "MA.1           -1.5201           -1.3272j            2.0180           -0.3858\n",
       "MA.2           -1.5201           +1.3272j            2.0180            0.3858\n",
       "MA.3            2.4511           -0.0000j            2.4511           -0.0000\n",
       "-----------------------------------------------------------------------------\n",
       "\"\"\""
      ]
     },
     "execution_count": 16,
     "metadata": {},
     "output_type": "execute_result"
    }
   ],
   "source": [
    "model_ar1_i1_ma3 = ARIMA(df.market_value, order=(1,1,3))\n",
    "results_ar1_i1_ma3 = model_ar1_i1_ma3.fit()\n",
    "results_ar1_i1_ma3.summary()"
   ]
  },
  {
   "cell_type": "code",
   "execution_count": 17,
   "metadata": {},
   "outputs": [
    {
     "data": {
      "text/html": [
       "<table class=\"simpletable\">\n",
       "<caption>ARIMA Model Results</caption>\n",
       "<tr>\n",
       "  <th>Dep. Variable:</th>  <td>D.market_value</td>  <th>  No. Observations:  </th>    <td>5020</td>   \n",
       "</tr>\n",
       "<tr>\n",
       "  <th>Model:</th>          <td>ARIMA(2, 1, 1)</td>  <th>  Log Likelihood     </th> <td>-27599.807</td>\n",
       "</tr>\n",
       "<tr>\n",
       "  <th>Method:</th>             <td>css-mle</td>     <th>  S.D. of innovations</th>   <td>59.088</td>  \n",
       "</tr>\n",
       "<tr>\n",
       "  <th>Date:</th>          <td>Sun, 12 Apr 2020</td> <th>  AIC                </th>  <td>55209.615</td>\n",
       "</tr>\n",
       "<tr>\n",
       "  <th>Time:</th>              <td>23:42:09</td>     <th>  BIC                </th>  <td>55242.221</td>\n",
       "</tr>\n",
       "<tr>\n",
       "  <th>Sample:</th>           <td>01-10-1994</td>    <th>  HQIC               </th>  <td>55221.041</td>\n",
       "</tr>\n",
       "<tr>\n",
       "  <th></th>                 <td>- 04-05-2013</td>   <th>                     </th>      <td> </td>    \n",
       "</tr>\n",
       "</table>\n",
       "<table class=\"simpletable\">\n",
       "<tr>\n",
       "            <td></td>              <th>coef</th>     <th>std err</th>      <th>z</th>      <th>P>|z|</th>  <th>[0.025</th>    <th>0.975]</th>  \n",
       "</tr>\n",
       "<tr>\n",
       "  <th>const</th>                <td>    0.5658</td> <td>    0.694</td> <td>    0.815</td> <td> 0.415</td> <td>   -0.794</td> <td>    1.926</td>\n",
       "</tr>\n",
       "<tr>\n",
       "  <th>ar.L1.D.market_value</th> <td>    0.6298</td> <td>    0.094</td> <td>    6.708</td> <td> 0.000</td> <td>    0.446</td> <td>    0.814</td>\n",
       "</tr>\n",
       "<tr>\n",
       "  <th>ar.L2.D.market_value</th> <td>   -0.0471</td> <td>    0.016</td> <td>   -2.919</td> <td> 0.004</td> <td>   -0.079</td> <td>   -0.015</td>\n",
       "</tr>\n",
       "<tr>\n",
       "  <th>ma.L1.D.market_value</th> <td>   -0.6529</td> <td>    0.093</td> <td>   -7.000</td> <td> 0.000</td> <td>   -0.836</td> <td>   -0.470</td>\n",
       "</tr>\n",
       "</table>\n",
       "<table class=\"simpletable\">\n",
       "<caption>Roots</caption>\n",
       "<tr>\n",
       "    <td></td>   <th>            Real</th>  <th>         Imaginary</th> <th>         Modulus</th>  <th>        Frequency</th>\n",
       "</tr>\n",
       "<tr>\n",
       "  <th>AR.1</th> <td>           1.8413</td> <td>          +0.0000j</td> <td>           1.8413</td> <td>           0.0000</td>\n",
       "</tr>\n",
       "<tr>\n",
       "  <th>AR.2</th> <td>          11.5268</td> <td>          +0.0000j</td> <td>          11.5268</td> <td>           0.0000</td>\n",
       "</tr>\n",
       "<tr>\n",
       "  <th>MA.1</th> <td>           1.5317</td> <td>          +0.0000j</td> <td>           1.5317</td> <td>           0.0000</td>\n",
       "</tr>\n",
       "</table>"
      ],
      "text/plain": [
       "<class 'statsmodels.iolib.summary.Summary'>\n",
       "\"\"\"\n",
       "                             ARIMA Model Results                              \n",
       "==============================================================================\n",
       "Dep. Variable:         D.market_value   No. Observations:                 5020\n",
       "Model:                 ARIMA(2, 1, 1)   Log Likelihood              -27599.807\n",
       "Method:                       css-mle   S.D. of innovations             59.088\n",
       "Date:                Sun, 12 Apr 2020   AIC                          55209.615\n",
       "Time:                        23:42:09   BIC                          55242.221\n",
       "Sample:                    01-10-1994   HQIC                         55221.041\n",
       "                         - 04-05-2013                                         \n",
       "========================================================================================\n",
       "                           coef    std err          z      P>|z|      [0.025      0.975]\n",
       "----------------------------------------------------------------------------------------\n",
       "const                    0.5658      0.694      0.815      0.415      -0.794       1.926\n",
       "ar.L1.D.market_value     0.6298      0.094      6.708      0.000       0.446       0.814\n",
       "ar.L2.D.market_value    -0.0471      0.016     -2.919      0.004      -0.079      -0.015\n",
       "ma.L1.D.market_value    -0.6529      0.093     -7.000      0.000      -0.836      -0.470\n",
       "                                    Roots                                    \n",
       "=============================================================================\n",
       "                  Real          Imaginary           Modulus         Frequency\n",
       "-----------------------------------------------------------------------------\n",
       "AR.1            1.8413           +0.0000j            1.8413            0.0000\n",
       "AR.2           11.5268           +0.0000j           11.5268            0.0000\n",
       "MA.1            1.5317           +0.0000j            1.5317            0.0000\n",
       "-----------------------------------------------------------------------------\n",
       "\"\"\""
      ]
     },
     "execution_count": 17,
     "metadata": {},
     "output_type": "execute_result"
    }
   ],
   "source": [
    "model_ar2_i1_ma1 = ARIMA(df.market_value, order=(2,1,1))\n",
    "results_ar2_i1_ma1 = model_ar2_i1_ma1.fit()\n",
    "results_ar2_i1_ma1.summary()"
   ]
  },
  {
   "cell_type": "code",
   "execution_count": 18,
   "metadata": {},
   "outputs": [
    {
     "data": {
      "text/html": [
       "<table class=\"simpletable\">\n",
       "<caption>ARIMA Model Results</caption>\n",
       "<tr>\n",
       "  <th>Dep. Variable:</th>  <td>D.market_value</td>  <th>  No. Observations:  </th>    <td>5020</td>   \n",
       "</tr>\n",
       "<tr>\n",
       "  <th>Model:</th>          <td>ARIMA(3, 1, 1)</td>  <th>  Log Likelihood     </th> <td>-27592.055</td>\n",
       "</tr>\n",
       "<tr>\n",
       "  <th>Method:</th>             <td>css-mle</td>     <th>  S.D. of innovations</th>   <td>58.997</td>  \n",
       "</tr>\n",
       "<tr>\n",
       "  <th>Date:</th>          <td>Sun, 12 Apr 2020</td> <th>  AIC                </th>  <td>55196.111</td>\n",
       "</tr>\n",
       "<tr>\n",
       "  <th>Time:</th>              <td>23:48:56</td>     <th>  BIC                </th>  <td>55235.238</td>\n",
       "</tr>\n",
       "<tr>\n",
       "  <th>Sample:</th>           <td>01-10-1994</td>    <th>  HQIC               </th>  <td>55209.821</td>\n",
       "</tr>\n",
       "<tr>\n",
       "  <th></th>                 <td>- 04-05-2013</td>   <th>                     </th>      <td> </td>    \n",
       "</tr>\n",
       "</table>\n",
       "<table class=\"simpletable\">\n",
       "<tr>\n",
       "            <td></td>              <th>coef</th>     <th>std err</th>      <th>z</th>      <th>P>|z|</th>  <th>[0.025</th>    <th>0.975]</th>  \n",
       "</tr>\n",
       "<tr>\n",
       "  <th>const</th>                <td>    0.5639</td> <td>    0.740</td> <td>    0.762</td> <td> 0.446</td> <td>   -0.887</td> <td>    2.015</td>\n",
       "</tr>\n",
       "<tr>\n",
       "  <th>ar.L1.D.market_value</th> <td>   -0.4066</td> <td>    0.121</td> <td>   -3.357</td> <td> 0.001</td> <td>   -0.644</td> <td>   -0.169</td>\n",
       "</tr>\n",
       "<tr>\n",
       "  <th>ar.L2.D.market_value</th> <td>   -0.0585</td> <td>    0.015</td> <td>   -3.820</td> <td> 0.000</td> <td>   -0.089</td> <td>   -0.028</td>\n",
       "</tr>\n",
       "<tr>\n",
       "  <th>ar.L3.D.market_value</th> <td>   -0.0941</td> <td>    0.014</td> <td>   -6.635</td> <td> 0.000</td> <td>   -0.122</td> <td>   -0.066</td>\n",
       "</tr>\n",
       "<tr>\n",
       "  <th>ma.L1.D.market_value</th> <td>    0.3864</td> <td>    0.121</td> <td>    3.186</td> <td> 0.001</td> <td>    0.149</td> <td>    0.624</td>\n",
       "</tr>\n",
       "</table>\n",
       "<table class=\"simpletable\">\n",
       "<caption>Roots</caption>\n",
       "<tr>\n",
       "    <td></td>   <th>            Real</th>  <th>         Imaginary</th> <th>         Modulus</th>  <th>        Frequency</th>\n",
       "</tr>\n",
       "<tr>\n",
       "  <th>AR.1</th> <td>          -1.7151</td> <td>          -0.0000j</td> <td>           1.7151</td> <td>          -0.5000</td>\n",
       "</tr>\n",
       "<tr>\n",
       "  <th>AR.2</th> <td>           0.5467</td> <td>          -2.4282j</td> <td>           2.4889</td> <td>          -0.2148</td>\n",
       "</tr>\n",
       "<tr>\n",
       "  <th>AR.3</th> <td>           0.5467</td> <td>          +2.4282j</td> <td>           2.4889</td> <td>           0.2148</td>\n",
       "</tr>\n",
       "<tr>\n",
       "  <th>MA.1</th> <td>          -2.5880</td> <td>          +0.0000j</td> <td>           2.5880</td> <td>           0.5000</td>\n",
       "</tr>\n",
       "</table>"
      ],
      "text/plain": [
       "<class 'statsmodels.iolib.summary.Summary'>\n",
       "\"\"\"\n",
       "                             ARIMA Model Results                              \n",
       "==============================================================================\n",
       "Dep. Variable:         D.market_value   No. Observations:                 5020\n",
       "Model:                 ARIMA(3, 1, 1)   Log Likelihood              -27592.055\n",
       "Method:                       css-mle   S.D. of innovations             58.997\n",
       "Date:                Sun, 12 Apr 2020   AIC                          55196.111\n",
       "Time:                        23:48:56   BIC                          55235.238\n",
       "Sample:                    01-10-1994   HQIC                         55209.821\n",
       "                         - 04-05-2013                                         \n",
       "========================================================================================\n",
       "                           coef    std err          z      P>|z|      [0.025      0.975]\n",
       "----------------------------------------------------------------------------------------\n",
       "const                    0.5639      0.740      0.762      0.446      -0.887       2.015\n",
       "ar.L1.D.market_value    -0.4066      0.121     -3.357      0.001      -0.644      -0.169\n",
       "ar.L2.D.market_value    -0.0585      0.015     -3.820      0.000      -0.089      -0.028\n",
       "ar.L3.D.market_value    -0.0941      0.014     -6.635      0.000      -0.122      -0.066\n",
       "ma.L1.D.market_value     0.3864      0.121      3.186      0.001       0.149       0.624\n",
       "                                    Roots                                    \n",
       "=============================================================================\n",
       "                  Real          Imaginary           Modulus         Frequency\n",
       "-----------------------------------------------------------------------------\n",
       "AR.1           -1.7151           -0.0000j            1.7151           -0.5000\n",
       "AR.2            0.5467           -2.4282j            2.4889           -0.2148\n",
       "AR.3            0.5467           +2.4282j            2.4889            0.2148\n",
       "MA.1           -2.5880           +0.0000j            2.5880            0.5000\n",
       "-----------------------------------------------------------------------------\n",
       "\"\"\""
      ]
     },
     "execution_count": 18,
     "metadata": {},
     "output_type": "execute_result"
    }
   ],
   "source": [
    "model_ar3_i1_ma1 = ARIMA(df.market_value, order=(3,1,1))\n",
    "results_ar3_i1_ma1 = model_ar3_i1_ma1.fit()\n",
    "results_ar3_i1_ma1.summary()"
   ]
  },
  {
   "cell_type": "code",
   "execution_count": 21,
   "metadata": {},
   "outputs": [
    {
     "data": {
      "text/html": [
       "<table class=\"simpletable\">\n",
       "<caption>ARIMA Model Results</caption>\n",
       "<tr>\n",
       "  <th>Dep. Variable:</th>  <td>D.market_value</td>  <th>  No. Observations:  </th>    <td>5020</td>   \n",
       "</tr>\n",
       "<tr>\n",
       "  <th>Model:</th>          <td>ARIMA(3, 1, 2)</td>  <th>  Log Likelihood     </th> <td>-27590.661</td>\n",
       "</tr>\n",
       "<tr>\n",
       "  <th>Method:</th>             <td>css-mle</td>     <th>  S.D. of innovations</th>   <td>58.980</td>  \n",
       "</tr>\n",
       "<tr>\n",
       "  <th>Date:</th>          <td>Sun, 12 Apr 2020</td> <th>  AIC                </th>  <td>55195.322</td>\n",
       "</tr>\n",
       "<tr>\n",
       "  <th>Time:</th>              <td>23:50:57</td>     <th>  BIC                </th>  <td>55240.970</td>\n",
       "</tr>\n",
       "<tr>\n",
       "  <th>Sample:</th>           <td>01-10-1994</td>    <th>  HQIC               </th>  <td>55211.317</td>\n",
       "</tr>\n",
       "<tr>\n",
       "  <th></th>                 <td>- 04-05-2013</td>   <th>                     </th>      <td> </td>    \n",
       "</tr>\n",
       "</table>\n",
       "<table class=\"simpletable\">\n",
       "<tr>\n",
       "            <td></td>              <th>coef</th>     <th>std err</th>      <th>z</th>      <th>P>|z|</th>  <th>[0.025</th>    <th>0.975]</th>  \n",
       "</tr>\n",
       "<tr>\n",
       "  <th>const</th>                <td>    0.5625</td> <td>    0.765</td> <td>    0.735</td> <td> 0.463</td> <td>   -0.938</td> <td>    2.063</td>\n",
       "</tr>\n",
       "<tr>\n",
       "  <th>ar.L1.D.market_value</th> <td>   -0.5774</td> <td>    0.122</td> <td>   -4.746</td> <td> 0.000</td> <td>   -0.816</td> <td>   -0.339</td>\n",
       "</tr>\n",
       "<tr>\n",
       "  <th>ar.L2.D.market_value</th> <td>   -0.4395</td> <td>    0.159</td> <td>   -2.764</td> <td> 0.006</td> <td>   -0.751</td> <td>   -0.128</td>\n",
       "</tr>\n",
       "<tr>\n",
       "  <th>ar.L3.D.market_value</th> <td>   -0.0967</td> <td>    0.015</td> <td>   -6.608</td> <td> 0.000</td> <td>   -0.125</td> <td>   -0.068</td>\n",
       "</tr>\n",
       "<tr>\n",
       "  <th>ma.L1.D.market_value</th> <td>    0.5593</td> <td>    0.122</td> <td>    4.580</td> <td> 0.000</td> <td>    0.320</td> <td>    0.799</td>\n",
       "</tr>\n",
       "<tr>\n",
       "  <th>ma.L2.D.market_value</th> <td>    0.3842</td> <td>    0.162</td> <td>    2.371</td> <td> 0.018</td> <td>    0.067</td> <td>    0.702</td>\n",
       "</tr>\n",
       "</table>\n",
       "<table class=\"simpletable\">\n",
       "<caption>Roots</caption>\n",
       "<tr>\n",
       "    <td></td>   <th>            Real</th>  <th>         Imaginary</th> <th>         Modulus</th>  <th>        Frequency</th>\n",
       "</tr>\n",
       "<tr>\n",
       "  <th>AR.1</th> <td>          -0.4295</td> <td>          -1.6190j</td> <td>           1.6750</td> <td>          -0.2913</td>\n",
       "</tr>\n",
       "<tr>\n",
       "  <th>AR.2</th> <td>          -0.4295</td> <td>          +1.6190j</td> <td>           1.6750</td> <td>           0.2913</td>\n",
       "</tr>\n",
       "<tr>\n",
       "  <th>AR.3</th> <td>          -3.6862</td> <td>          -0.0000j</td> <td>           3.6862</td> <td>          -0.5000</td>\n",
       "</tr>\n",
       "<tr>\n",
       "  <th>MA.1</th> <td>          -0.7280</td> <td>          -1.4398j</td> <td>           1.6134</td> <td>          -0.3245</td>\n",
       "</tr>\n",
       "<tr>\n",
       "  <th>MA.2</th> <td>          -0.7280</td> <td>          +1.4398j</td> <td>           1.6134</td> <td>           0.3245</td>\n",
       "</tr>\n",
       "</table>"
      ],
      "text/plain": [
       "<class 'statsmodels.iolib.summary.Summary'>\n",
       "\"\"\"\n",
       "                             ARIMA Model Results                              \n",
       "==============================================================================\n",
       "Dep. Variable:         D.market_value   No. Observations:                 5020\n",
       "Model:                 ARIMA(3, 1, 2)   Log Likelihood              -27590.661\n",
       "Method:                       css-mle   S.D. of innovations             58.980\n",
       "Date:                Sun, 12 Apr 2020   AIC                          55195.322\n",
       "Time:                        23:50:57   BIC                          55240.970\n",
       "Sample:                    01-10-1994   HQIC                         55211.317\n",
       "                         - 04-05-2013                                         \n",
       "========================================================================================\n",
       "                           coef    std err          z      P>|z|      [0.025      0.975]\n",
       "----------------------------------------------------------------------------------------\n",
       "const                    0.5625      0.765      0.735      0.463      -0.938       2.063\n",
       "ar.L1.D.market_value    -0.5774      0.122     -4.746      0.000      -0.816      -0.339\n",
       "ar.L2.D.market_value    -0.4395      0.159     -2.764      0.006      -0.751      -0.128\n",
       "ar.L3.D.market_value    -0.0967      0.015     -6.608      0.000      -0.125      -0.068\n",
       "ma.L1.D.market_value     0.5593      0.122      4.580      0.000       0.320       0.799\n",
       "ma.L2.D.market_value     0.3842      0.162      2.371      0.018       0.067       0.702\n",
       "                                    Roots                                    \n",
       "=============================================================================\n",
       "                  Real          Imaginary           Modulus         Frequency\n",
       "-----------------------------------------------------------------------------\n",
       "AR.1           -0.4295           -1.6190j            1.6750           -0.2913\n",
       "AR.2           -0.4295           +1.6190j            1.6750            0.2913\n",
       "AR.3           -3.6862           -0.0000j            3.6862           -0.5000\n",
       "MA.1           -0.7280           -1.4398j            1.6134           -0.3245\n",
       "MA.2           -0.7280           +1.4398j            1.6134            0.3245\n",
       "-----------------------------------------------------------------------------\n",
       "\"\"\""
      ]
     },
     "execution_count": 21,
     "metadata": {},
     "output_type": "execute_result"
    }
   ],
   "source": [
    "model_ar3_i1_ma2 = ARIMA(df.market_value, order=(3,1,2))\n",
    "results_ar3_i1_ma2 = model_ar3_i1_ma2.fit(start_ar_lags=5)\n",
    "results_ar3_i1_ma2.summary()"
   ]
  },
  {
   "cell_type": "code",
   "execution_count": 25,
   "metadata": {},
   "outputs": [
    {
     "name": "stdout",
     "output_type": "stream",
     "text": [
      "\n",
      " ARIMA(1,1,1): LL =  -27603.66641277357 \t AIC  =  55215.33282554714\n",
      "\n",
      " ARIMA(1,1,2): LL =  -27600.08186311896 \t AIC  =  55210.16372623792\n",
      "\n",
      " ARIMA(1,1,3): LL =  -27590.42403262721 \t AIC  =  55192.84806525442\n",
      "\n",
      " ARIMA(2,1,1): LL =  -27599.807487848615 \t AIC  =  55209.61497569723\n",
      "\n",
      " ARIMA(3,1,1): LL =  -27592.05537170391 \t AIC  =  55196.11074340782\n",
      "\n",
      " ARIMA(3,1,2): LL =  -27590.660808969737 \t AIC  =  55195.32161793947\n"
     ]
    }
   ],
   "source": [
    "print(\"\\n ARIMA(1,1,1): LL = \", results_ar1_i1_ma1.llf,\"\\t AIC  = \", results_ar1_i1_ma1.aic)\n",
    "print(\"\\n ARIMA(1,1,2): LL = \", results_ar1_i1_ma2.llf,\"\\t AIC  = \", results_ar1_i1_ma2.aic)\n",
    "print(\"\\n ARIMA(1,1,3): LL = \", results_ar1_i1_ma3.llf,\"\\t AIC  = \", results_ar1_i1_ma3.aic)\n",
    "print(\"\\n ARIMA(2,1,1): LL = \", results_ar2_i1_ma1.llf,\"\\t AIC  = \", results_ar2_i1_ma1.aic)\n",
    "print(\"\\n ARIMA(3,1,1): LL = \", results_ar3_i1_ma1.llf,\"\\t AIC  = \", results_ar3_i1_ma1.aic)\n",
    "print(\"\\n ARIMA(3,1,2): LL = \", results_ar3_i1_ma2.llf,\"\\t AIC  = \", results_ar3_i1_ma2.aic)\n"
   ]
  },
  {
   "cell_type": "code",
   "execution_count": 26,
   "metadata": {
    "scrolled": false
   },
   "outputs": [
    {
     "name": "stdout",
     "output_type": "stream",
     "text": [
      "\n",
      " LLR Test P-value = 0.0\n"
     ]
    }
   ],
   "source": [
    "print(\"\\n LLR Test P-value = \"+ str(LLR_test(model_ar1_i1_ma2,model_ar1_i1_ma3)))"
   ]
  },
  {
   "cell_type": "code",
   "execution_count": 27,
   "metadata": {},
   "outputs": [
    {
     "name": "stdout",
     "output_type": "stream",
     "text": [
      "\n",
      " LLR Test P-value = 0.0\n"
     ]
    }
   ],
   "source": [
    "print(\"\\n LLR Test P-value = \"+ str(LLR_test(model_ar1_i1_ma1,model_ar1_i1_ma3,DF=2)))"
   ]
  },
  {
   "cell_type": "code",
   "execution_count": 28,
   "metadata": {},
   "outputs": [
    {
     "data": {
      "image/png": "[encoded data removed]",
      "text/plain": [
       "<Figure size 432x288 with 1 Axes>"
      ]
     },
     "metadata": {
      "needs_background": "light"
     },
     "output_type": "display_data"
    }
   ],
   "source": [
    "df['res_ar1_i1_ma3'] = results_ar1_i1_ma3.resid\n",
    "sgt.plot_acf(df.res_ar1_i1_ma3[1:], zero=False, lags=40)\n",
    "plt.title(\"ACF of Residual for ARIMA(1,1,3)\")\n",
    "plt.show()"
   ]
  },
  {
   "cell_type": "code",
   "execution_count": 30,
   "metadata": {},
   "outputs": [
    {
     "data": {
      "text/html": [
       "<table class=\"simpletable\">\n",
       "<caption>ARIMA Model Results</caption>\n",
       "<tr>\n",
       "  <th>Dep. Variable:</th>  <td>D.market_value</td>  <th>  No. Observations:  </th>    <td>5020</td>   \n",
       "</tr>\n",
       "<tr>\n",
       "  <th>Model:</th>          <td>ARIMA(5, 1, 1)</td>  <th>  Log Likelihood     </th> <td>-27586.512</td>\n",
       "</tr>\n",
       "<tr>\n",
       "  <th>Method:</th>             <td>css-mle</td>     <th>  S.D. of innovations</th>   <td>58.932</td>  \n",
       "</tr>\n",
       "<tr>\n",
       "  <th>Date:</th>          <td>Mon, 13 Apr 2020</td> <th>  AIC                </th>  <td>55189.024</td>\n",
       "</tr>\n",
       "<tr>\n",
       "  <th>Time:</th>              <td>00:26:54</td>     <th>  BIC                </th>  <td>55241.193</td>\n",
       "</tr>\n",
       "<tr>\n",
       "  <th>Sample:</th>           <td>01-10-1994</td>    <th>  HQIC               </th>  <td>55207.305</td>\n",
       "</tr>\n",
       "<tr>\n",
       "  <th></th>                 <td>- 04-05-2013</td>   <th>                     </th>      <td> </td>    \n",
       "</tr>\n",
       "</table>\n",
       "<table class=\"simpletable\">\n",
       "<tr>\n",
       "            <td></td>              <th>coef</th>     <th>std err</th>      <th>z</th>      <th>P>|z|</th>  <th>[0.025</th>    <th>0.975]</th>  \n",
       "</tr>\n",
       "<tr>\n",
       "  <th>const</th>                <td>    0.5663</td> <td>    0.690</td> <td>    0.820</td> <td> 0.412</td> <td>   -0.787</td> <td>    1.919</td>\n",
       "</tr>\n",
       "<tr>\n",
       "  <th>ar.L1.D.market_value</th> <td>    0.4011</td> <td>    0.159</td> <td>    2.529</td> <td> 0.011</td> <td>    0.090</td> <td>    0.712</td>\n",
       "</tr>\n",
       "<tr>\n",
       "  <th>ar.L2.D.market_value</th> <td>   -0.0445</td> <td>    0.016</td> <td>   -2.856</td> <td> 0.004</td> <td>   -0.075</td> <td>   -0.014</td>\n",
       "</tr>\n",
       "<tr>\n",
       "  <th>ar.L3.D.market_value</th> <td>   -0.0543</td> <td>    0.017</td> <td>   -3.163</td> <td> 0.002</td> <td>   -0.088</td> <td>   -0.021</td>\n",
       "</tr>\n",
       "<tr>\n",
       "  <th>ar.L4.D.market_value</th> <td>    0.0586</td> <td>    0.019</td> <td>    3.069</td> <td> 0.002</td> <td>    0.021</td> <td>    0.096</td>\n",
       "</tr>\n",
       "<tr>\n",
       "  <th>ar.L5.D.market_value</th> <td>   -0.0581</td> <td>    0.014</td> <td>   -4.118</td> <td> 0.000</td> <td>   -0.086</td> <td>   -0.030</td>\n",
       "</tr>\n",
       "<tr>\n",
       "  <th>ma.L1.D.market_value</th> <td>   -0.4213</td> <td>    0.158</td> <td>   -2.659</td> <td> 0.008</td> <td>   -0.732</td> <td>   -0.111</td>\n",
       "</tr>\n",
       "</table>\n",
       "<table class=\"simpletable\">\n",
       "<caption>Roots</caption>\n",
       "<tr>\n",
       "    <td></td>   <th>            Real</th>  <th>         Imaginary</th> <th>         Modulus</th>  <th>        Frequency</th>\n",
       "</tr>\n",
       "<tr>\n",
       "  <th>AR.1</th> <td>          -1.7609</td> <td>          -0.0000j</td> <td>           1.7609</td> <td>          -0.5000</td>\n",
       "</tr>\n",
       "<tr>\n",
       "  <th>AR.2</th> <td>           1.4633</td> <td>          -0.8605j</td> <td>           1.6975</td> <td>          -0.0846</td>\n",
       "</tr>\n",
       "<tr>\n",
       "  <th>AR.3</th> <td>           1.4633</td> <td>          +0.8605j</td> <td>           1.6975</td> <td>           0.0846</td>\n",
       "</tr>\n",
       "<tr>\n",
       "  <th>AR.4</th> <td>          -0.0790</td> <td>          -1.8393j</td> <td>           1.8410</td> <td>          -0.2568</td>\n",
       "</tr>\n",
       "<tr>\n",
       "  <th>AR.5</th> <td>          -0.0790</td> <td>          +1.8393j</td> <td>           1.8410</td> <td>           0.2568</td>\n",
       "</tr>\n",
       "<tr>\n",
       "  <th>MA.1</th> <td>           2.3734</td> <td>          +0.0000j</td> <td>           2.3734</td> <td>           0.0000</td>\n",
       "</tr>\n",
       "</table>"
      ],
      "text/plain": [
       "<class 'statsmodels.iolib.summary.Summary'>\n",
       "\"\"\"\n",
       "                             ARIMA Model Results                              \n",
       "==============================================================================\n",
       "Dep. Variable:         D.market_value   No. Observations:                 5020\n",
       "Model:                 ARIMA(5, 1, 1)   Log Likelihood              -27586.512\n",
       "Method:                       css-mle   S.D. of innovations             58.932\n",
       "Date:                Mon, 13 Apr 2020   AIC                          55189.024\n",
       "Time:                        00:26:54   BIC                          55241.193\n",
       "Sample:                    01-10-1994   HQIC                         55207.305\n",
       "                         - 04-05-2013                                         \n",
       "========================================================================================\n",
       "                           coef    std err          z      P>|z|      [0.025      0.975]\n",
       "----------------------------------------------------------------------------------------\n",
       "const                    0.5663      0.690      0.820      0.412      -0.787       1.919\n",
       "ar.L1.D.market_value     0.4011      0.159      2.529      0.011       0.090       0.712\n",
       "ar.L2.D.market_value    -0.0445      0.016     -2.856      0.004      -0.075      -0.014\n",
       "ar.L3.D.market_value    -0.0543      0.017     -3.163      0.002      -0.088      -0.021\n",
       "ar.L4.D.market_value     0.0586      0.019      3.069      0.002       0.021       0.096\n",
       "ar.L5.D.market_value    -0.0581      0.014     -4.118      0.000      -0.086      -0.030\n",
       "ma.L1.D.market_value    -0.4213      0.158     -2.659      0.008      -0.732      -0.111\n",
       "                                    Roots                                    \n",
       "=============================================================================\n",
       "                  Real          Imaginary           Modulus         Frequency\n",
       "-----------------------------------------------------------------------------\n",
       "AR.1           -1.7609           -0.0000j            1.7609           -0.5000\n",
       "AR.2            1.4633           -0.8605j            1.6975           -0.0846\n",
       "AR.3            1.4633           +0.8605j            1.6975            0.0846\n",
       "AR.4           -0.0790           -1.8393j            1.8410           -0.2568\n",
       "AR.5           -0.0790           +1.8393j            1.8410            0.2568\n",
       "MA.1            2.3734           +0.0000j            2.3734            0.0000\n",
       "-----------------------------------------------------------------------------\n",
       "\"\"\""
      ]
     },
     "execution_count": 30,
     "metadata": {},
     "output_type": "execute_result"
    }
   ],
   "source": [
    "model_ar5_i1_ma1 = ARIMA(df.market_value, order=(5,1,1))\n",
    "results_ar5_i1_ma1 = model_ar5_i1_ma1.fit(start_ar_lags=7)\n",
    "results_ar5_i1_ma1.summary()"
   ]
  },
  {
   "cell_type": "code",
   "execution_count": 31,
   "metadata": {},
   "outputs": [
    {
     "data": {
      "text/html": [
       "<table class=\"simpletable\">\n",
       "<caption>ARIMA Model Results</caption>\n",
       "<tr>\n",
       "  <th>Dep. Variable:</th>  <td>D.market_value</td>  <th>  No. Observations:  </th>    <td>5020</td>   \n",
       "</tr>\n",
       "<tr>\n",
       "  <th>Model:</th>          <td>ARIMA(6, 1, 3)</td>  <th>  Log Likelihood     </th> <td>-27581.455</td>\n",
       "</tr>\n",
       "<tr>\n",
       "  <th>Method:</th>             <td>css-mle</td>     <th>  S.D. of innovations</th>   <td>58.872</td>  \n",
       "</tr>\n",
       "<tr>\n",
       "  <th>Date:</th>          <td>Mon, 13 Apr 2020</td> <th>  AIC                </th>  <td>55184.911</td>\n",
       "</tr>\n",
       "<tr>\n",
       "  <th>Time:</th>              <td>00:27:52</td>     <th>  BIC                </th>  <td>55256.644</td>\n",
       "</tr>\n",
       "<tr>\n",
       "  <th>Sample:</th>           <td>01-10-1994</td>    <th>  HQIC               </th>  <td>55210.047</td>\n",
       "</tr>\n",
       "<tr>\n",
       "  <th></th>                 <td>- 04-05-2013</td>   <th>                     </th>      <td> </td>    \n",
       "</tr>\n",
       "</table>\n",
       "<table class=\"simpletable\">\n",
       "<tr>\n",
       "            <td></td>              <th>coef</th>     <th>std err</th>      <th>z</th>      <th>P>|z|</th>  <th>[0.025</th>    <th>0.975]</th>  \n",
       "</tr>\n",
       "<tr>\n",
       "  <th>const</th>                <td>    0.5682</td> <td>    0.649</td> <td>    0.876</td> <td> 0.381</td> <td>   -0.704</td> <td>    1.840</td>\n",
       "</tr>\n",
       "<tr>\n",
       "  <th>ar.L1.D.market_value</th> <td>    1.1252</td> <td>    0.075</td> <td>   15.072</td> <td> 0.000</td> <td>    0.979</td> <td>    1.271</td>\n",
       "</tr>\n",
       "<tr>\n",
       "  <th>ar.L2.D.market_value</th> <td>   -1.0691</td> <td>    0.077</td> <td>  -13.911</td> <td> 0.000</td> <td>   -1.220</td> <td>   -0.918</td>\n",
       "</tr>\n",
       "<tr>\n",
       "  <th>ar.L3.D.market_value</th> <td>    0.7753</td> <td>    0.078</td> <td>    9.986</td> <td> 0.000</td> <td>    0.623</td> <td>    0.928</td>\n",
       "</tr>\n",
       "<tr>\n",
       "  <th>ar.L4.D.market_value</th> <td>    0.0725</td> <td>    0.028</td> <td>    2.611</td> <td> 0.009</td> <td>    0.018</td> <td>    0.127</td>\n",
       "</tr>\n",
       "<tr>\n",
       "  <th>ar.L5.D.market_value</th> <td>   -0.0864</td> <td>    0.024</td> <td>   -3.630</td> <td> 0.000</td> <td>   -0.133</td> <td>   -0.040</td>\n",
       "</tr>\n",
       "<tr>\n",
       "  <th>ar.L6.D.market_value</th> <td>    0.0795</td> <td>    0.017</td> <td>    4.679</td> <td> 0.000</td> <td>    0.046</td> <td>    0.113</td>\n",
       "</tr>\n",
       "<tr>\n",
       "  <th>ma.L1.D.market_value</th> <td>   -1.1467</td> <td>    0.073</td> <td>  -15.636</td> <td> 0.000</td> <td>   -1.290</td> <td>   -1.003</td>\n",
       "</tr>\n",
       "<tr>\n",
       "  <th>ma.L2.D.market_value</th> <td>    1.0459</td> <td>    0.075</td> <td>   13.882</td> <td> 0.000</td> <td>    0.898</td> <td>    1.194</td>\n",
       "</tr>\n",
       "<tr>\n",
       "  <th>ma.L3.D.market_value</th> <td>   -0.8189</td> <td>    0.073</td> <td>  -11.194</td> <td> 0.000</td> <td>   -0.962</td> <td>   -0.676</td>\n",
       "</tr>\n",
       "</table>\n",
       "<table class=\"simpletable\">\n",
       "<caption>Roots</caption>\n",
       "<tr>\n",
       "    <td></td>   <th>            Real</th>  <th>         Imaginary</th> <th>         Modulus</th>  <th>        Frequency</th>\n",
       "</tr>\n",
       "<tr>\n",
       "  <th>AR.1</th> <td>           1.0581</td> <td>          -0.0000j</td> <td>           1.0581</td> <td>          -0.0000</td>\n",
       "</tr>\n",
       "<tr>\n",
       "  <th>AR.2</th> <td>           0.0900</td> <td>          -1.0615j</td> <td>           1.0654</td> <td>          -0.2365</td>\n",
       "</tr>\n",
       "<tr>\n",
       "  <th>AR.3</th> <td>           0.0900</td> <td>          +1.0615j</td> <td>           1.0654</td> <td>           0.2365</td>\n",
       "</tr>\n",
       "<tr>\n",
       "  <th>AR.4</th> <td>          -2.2750</td> <td>          -0.0000j</td> <td>           2.2750</td> <td>          -0.5000</td>\n",
       "</tr>\n",
       "<tr>\n",
       "  <th>AR.5</th> <td>           1.0620</td> <td>          -1.8651j</td> <td>           2.1463</td> <td>          -0.1676</td>\n",
       "</tr>\n",
       "<tr>\n",
       "  <th>AR.6</th> <td>           1.0620</td> <td>          +1.8651j</td> <td>           2.1463</td> <td>           0.1676</td>\n",
       "</tr>\n",
       "<tr>\n",
       "  <th>MA.1</th> <td>           1.0507</td> <td>          -0.0000j</td> <td>           1.0507</td> <td>          -0.0000</td>\n",
       "</tr>\n",
       "<tr>\n",
       "  <th>MA.2</th> <td>           0.1133</td> <td>          -1.0721j</td> <td>           1.0781</td> <td>          -0.2332</td>\n",
       "</tr>\n",
       "<tr>\n",
       "  <th>MA.3</th> <td>           0.1133</td> <td>          +1.0721j</td> <td>           1.0781</td> <td>           0.2332</td>\n",
       "</tr>\n",
       "</table>"
      ],
      "text/plain": [
       "<class 'statsmodels.iolib.summary.Summary'>\n",
       "\"\"\"\n",
       "                             ARIMA Model Results                              \n",
       "==============================================================================\n",
       "Dep. Variable:         D.market_value   No. Observations:                 5020\n",
       "Model:                 ARIMA(6, 1, 3)   Log Likelihood              -27581.455\n",
       "Method:                       css-mle   S.D. of innovations             58.872\n",
       "Date:                Mon, 13 Apr 2020   AIC                          55184.911\n",
       "Time:                        00:27:52   BIC                          55256.644\n",
       "Sample:                    01-10-1994   HQIC                         55210.047\n",
       "                         - 04-05-2013                                         \n",
       "========================================================================================\n",
       "                           coef    std err          z      P>|z|      [0.025      0.975]\n",
       "----------------------------------------------------------------------------------------\n",
       "const                    0.5682      0.649      0.876      0.381      -0.704       1.840\n",
       "ar.L1.D.market_value     1.1252      0.075     15.072      0.000       0.979       1.271\n",
       "ar.L2.D.market_value    -1.0691      0.077    -13.911      0.000      -1.220      -0.918\n",
       "ar.L3.D.market_value     0.7753      0.078      9.986      0.000       0.623       0.928\n",
       "ar.L4.D.market_value     0.0725      0.028      2.611      0.009       0.018       0.127\n",
       "ar.L5.D.market_value    -0.0864      0.024     -3.630      0.000      -0.133      -0.040\n",
       "ar.L6.D.market_value     0.0795      0.017      4.679      0.000       0.046       0.113\n",
       "ma.L1.D.market_value    -1.1467      0.073    -15.636      0.000      -1.290      -1.003\n",
       "ma.L2.D.market_value     1.0459      0.075     13.882      0.000       0.898       1.194\n",
       "ma.L3.D.market_value    -0.8189      0.073    -11.194      0.000      -0.962      -0.676\n",
       "                                    Roots                                    \n",
       "=============================================================================\n",
       "                  Real          Imaginary           Modulus         Frequency\n",
       "-----------------------------------------------------------------------------\n",
       "AR.1            1.0581           -0.0000j            1.0581           -0.0000\n",
       "AR.2            0.0900           -1.0615j            1.0654           -0.2365\n",
       "AR.3            0.0900           +1.0615j            1.0654            0.2365\n",
       "AR.4           -2.2750           -0.0000j            2.2750           -0.5000\n",
       "AR.5            1.0620           -1.8651j            2.1463           -0.1676\n",
       "AR.6            1.0620           +1.8651j            2.1463            0.1676\n",
       "MA.1            1.0507           -0.0000j            1.0507           -0.0000\n",
       "MA.2            0.1133           -1.0721j            1.0781           -0.2332\n",
       "MA.3            0.1133           +1.0721j            1.0781            0.2332\n",
       "-----------------------------------------------------------------------------\n",
       "\"\"\""
      ]
     },
     "execution_count": 31,
     "metadata": {},
     "output_type": "execute_result"
    }
   ],
   "source": [
    "model_ar6_i1_ma3 = ARIMA(df.market_value, order=(6,1,3))\n",
    "results_ar6_i1_ma3 = model_ar6_i1_ma3.fit(start_ar_lags=7)\n",
    "results_ar6_i1_ma3.summary()"
   ]
  },
  {
   "cell_type": "code",
   "execution_count": 32,
   "metadata": {},
   "outputs": [
    {
     "name": "stdout",
     "output_type": "stream",
     "text": [
      "\n",
      " ARIMA(1,1,3): LL =  -27590.42403262721 \t AIC  =  55192.84806525442\n",
      "\n",
      " ARIMA(5,1,1): LL =  -27586.51188810529 \t AIC  =  55189.02377621058\n",
      "\n",
      " ARIMA(6,1,3): LL =  -27581.455478177362 \t AIC  =  55184.910956354724\n"
     ]
    }
   ],
   "source": [
    "print(\"\\n ARIMA(1,1,3): LL = \", results_ar1_i1_ma3.llf,\"\\t AIC  = \", results_ar1_i1_ma3.aic)\n",
    "print(\"\\n ARIMA(5,1,1): LL = \", results_ar5_i1_ma1.llf,\"\\t AIC  = \", results_ar5_i1_ma1.aic)\n",
    "print(\"\\n ARIMA(6,1,3): LL = \", results_ar6_i1_ma3.llf,\"\\t AIC  = \", results_ar6_i1_ma3.aic)"
   ]
  },
  {
   "cell_type": "code",
   "execution_count": 34,
   "metadata": {},
   "outputs": [
    {
     "name": "stdout",
     "output_type": "stream",
     "text": [
      "\n",
      " LLR Test P-value = 0.018\n"
     ]
    }
   ],
   "source": [
    "print(\"\\n LLR Test P-value = \"+ str(LLR_test(model_ar1_i1_ma3,model_ar6_i1_ma3,DF=5)))"
   ]
  },
  {
   "cell_type": "code",
   "execution_count": 36,
   "metadata": {},
   "outputs": [
    {
     "name": "stdout",
     "output_type": "stream",
     "text": [
      "\n",
      " LLR Test P-value = 0.117\n"
     ]
    }
   ],
   "source": [
    "print(\"\\n LLR Test P-value = \"+ str(LLR_test(model_ar5_i1_ma1,model_ar6_i1_ma3,DF=3)))"
   ]
  },
  {
   "cell_type": "code",
   "execution_count": 37,
   "metadata": {},
   "outputs": [
    {
     "data": {
      "image/png": "[encoded data removed]",
      "text/plain": [
       "<Figure size 432x288 with 1 Axes>"
      ]
     },
     "metadata": {
      "needs_background": "light"
     },
     "output_type": "display_data"
    }
   ],
   "source": [
    "df['res_ar5_i1_ma1'] = results_ar5_i1_ma1.resid\n",
    "sgt.plot_acf(df.res_ar5_i1_ma1[1:], zero=False, lags=40)\n",
    "plt.title(\"ACF of Residual for ARIMA(5,1,1)\")\n",
    "plt.show()"
   ]
  },
  {
   "cell_type": "markdown",
   "metadata": {},
   "source": [
    "## Models with Higher Levels of Integration"
   ]
  },
  {
   "cell_type": "code",
   "execution_count": 38,
   "metadata": {},
   "outputs": [],
   "source": [
    "df[\"dela_prices\"] = df.market_value.diff(1)"
   ]
  },
  {
   "cell_type": "code",
   "execution_count": 41,
   "metadata": {},
   "outputs": [
    {
     "data": {
      "text/html": [
       "<table class=\"simpletable\">\n",
       "<caption>ARMA Model Results</caption>\n",
       "<tr>\n",
       "  <th>Dep. Variable:</th>    <td>dela_prices</td>   <th>  No. Observations:  </th>    <td>5020</td>   \n",
       "</tr>\n",
       "<tr>\n",
       "  <th>Model:</th>            <td>ARMA(1, 1)</td>    <th>  Log Likelihood     </th> <td>-27603.666</td>\n",
       "</tr>\n",
       "<tr>\n",
       "  <th>Method:</th>             <td>css-mle</td>     <th>  S.D. of innovations</th>   <td>59.134</td>  \n",
       "</tr>\n",
       "<tr>\n",
       "  <th>Date:</th>          <td>Mon, 13 Apr 2020</td> <th>  AIC                </th>  <td>55215.333</td>\n",
       "</tr>\n",
       "<tr>\n",
       "  <th>Time:</th>              <td>00:48:30</td>     <th>  BIC                </th>  <td>55241.418</td>\n",
       "</tr>\n",
       "<tr>\n",
       "  <th>Sample:</th>           <td>01-10-1994</td>    <th>  HQIC               </th>  <td>55224.473</td>\n",
       "</tr>\n",
       "<tr>\n",
       "  <th></th>                 <td>- 04-05-2013</td>   <th>                     </th>      <td> </td>    \n",
       "</tr>\n",
       "</table>\n",
       "<table class=\"simpletable\">\n",
       "<tr>\n",
       "          <td></td>             <th>coef</th>     <th>std err</th>      <th>z</th>      <th>P>|z|</th>  <th>[0.025</th>    <th>0.975]</th>  \n",
       "</tr>\n",
       "<tr>\n",
       "  <th>const</th>             <td>    0.5656</td> <td>    0.682</td> <td>    0.829</td> <td> 0.407</td> <td>   -0.772</td> <td>    1.903</td>\n",
       "</tr>\n",
       "<tr>\n",
       "  <th>ar.L1.dela_prices</th> <td>    0.7475</td> <td>    0.070</td> <td>   10.652</td> <td> 0.000</td> <td>    0.610</td> <td>    0.885</td>\n",
       "</tr>\n",
       "<tr>\n",
       "  <th>ma.L1.dela_prices</th> <td>   -0.7936</td> <td>    0.064</td> <td>  -12.378</td> <td> 0.000</td> <td>   -0.919</td> <td>   -0.668</td>\n",
       "</tr>\n",
       "</table>\n",
       "<table class=\"simpletable\">\n",
       "<caption>Roots</caption>\n",
       "<tr>\n",
       "    <td></td>   <th>            Real</th>  <th>         Imaginary</th> <th>         Modulus</th>  <th>        Frequency</th>\n",
       "</tr>\n",
       "<tr>\n",
       "  <th>AR.1</th> <td>           1.3378</td> <td>          +0.0000j</td> <td>           1.3378</td> <td>           0.0000</td>\n",
       "</tr>\n",
       "<tr>\n",
       "  <th>MA.1</th> <td>           1.2601</td> <td>          +0.0000j</td> <td>           1.2601</td> <td>           0.0000</td>\n",
       "</tr>\n",
       "</table>"
      ],
      "text/plain": [
       "<class 'statsmodels.iolib.summary.Summary'>\n",
       "\"\"\"\n",
       "                              ARMA Model Results                              \n",
       "==============================================================================\n",
       "Dep. Variable:            dela_prices   No. Observations:                 5020\n",
       "Model:                     ARMA(1, 1)   Log Likelihood              -27603.666\n",
       "Method:                       css-mle   S.D. of innovations             59.134\n",
       "Date:                Mon, 13 Apr 2020   AIC                          55215.333\n",
       "Time:                        00:48:30   BIC                          55241.418\n",
       "Sample:                    01-10-1994   HQIC                         55224.473\n",
       "                         - 04-05-2013                                         \n",
       "=====================================================================================\n",
       "                        coef    std err          z      P>|z|      [0.025      0.975]\n",
       "-------------------------------------------------------------------------------------\n",
       "const                 0.5656      0.682      0.829      0.407      -0.772       1.903\n",
       "ar.L1.dela_prices     0.7475      0.070     10.652      0.000       0.610       0.885\n",
       "ma.L1.dela_prices    -0.7936      0.064    -12.378      0.000      -0.919      -0.668\n",
       "                                    Roots                                    \n",
       "=============================================================================\n",
       "                  Real          Imaginary           Modulus         Frequency\n",
       "-----------------------------------------------------------------------------\n",
       "AR.1            1.3378           +0.0000j            1.3378            0.0000\n",
       "MA.1            1.2601           +0.0000j            1.2601            0.0000\n",
       "-----------------------------------------------------------------------------\n",
       "\"\"\""
      ]
     },
     "execution_count": 41,
     "metadata": {},
     "output_type": "execute_result"
    }
   ],
   "source": [
    "model_ar1_i0_ma1 = ARIMA(df.dela_prices[1:], order=(1,0,1))\n",
    "results_ar1_i0_ma1 = model_ar1_i0_ma1.fit()\n",
    "results_ar1_i0_ma1.summary()"
   ]
  },
  {
   "cell_type": "code",
   "execution_count": 42,
   "metadata": {},
   "outputs": [
    {
     "data": {
      "text/plain": [
       "(-32.2440934957075,\n",
       " 0.0,\n",
       " 5,\n",
       " 5014,\n",
       " {'1%': -3.4316548765428174,\n",
       "  '5%': -2.8621166146845334,\n",
       "  '10%': -2.5670769326348926},\n",
       " 54845.96104221891)"
      ]
     },
     "execution_count": 42,
     "metadata": {},
     "output_type": "execute_result"
    }
   ],
   "source": [
    "sts.adfuller(df.dela_prices[1:])"
   ]
  },
  {
   "cell_type": "code",
   "execution_count": 49,
   "metadata": {},
   "outputs": [
    {
     "data": {
      "text/html": [
       "<table class=\"simpletable\">\n",
       "<caption>ARIMA Model Results</caption>\n",
       "<tr>\n",
       "  <th>Dep. Variable:</th>  <td>D2.market_value</td> <th>  No. Observations:  </th>    <td>5019</td>   \n",
       "</tr>\n",
       "<tr>\n",
       "  <th>Model:</th>          <td>ARIMA(1, 2, 1)</td>  <th>  Log Likelihood     </th> <td>-27614.158</td>\n",
       "</tr>\n",
       "<tr>\n",
       "  <th>Method:</th>             <td>css-mle</td>     <th>  S.D. of innovations</th>   <td>59.272</td>  \n",
       "</tr>\n",
       "<tr>\n",
       "  <th>Date:</th>          <td>Mon, 13 Apr 2020</td> <th>  AIC                </th>  <td>55236.316</td>\n",
       "</tr>\n",
       "<tr>\n",
       "  <th>Time:</th>              <td>00:53:40</td>     <th>  BIC                </th>  <td>55262.400</td>\n",
       "</tr>\n",
       "<tr>\n",
       "  <th>Sample:</th>           <td>01-11-1994</td>    <th>  HQIC               </th>  <td>55245.457</td>\n",
       "</tr>\n",
       "<tr>\n",
       "  <th></th>                 <td>- 04-05-2013</td>   <th>                     </th>      <td> </td>    \n",
       "</tr>\n",
       "</table>\n",
       "<table class=\"simpletable\">\n",
       "<tr>\n",
       "            <td></td>               <th>coef</th>     <th>std err</th>      <th>z</th>      <th>P>|z|</th>  <th>[0.025</th>    <th>0.975]</th>  \n",
       "</tr>\n",
       "<tr>\n",
       "  <th>const</th>                 <td>   -0.0001</td> <td>    0.001</td> <td>   -0.196</td> <td> 0.845</td> <td>   -0.001</td> <td>    0.001</td>\n",
       "</tr>\n",
       "<tr>\n",
       "  <th>ar.L1.D2.market_value</th> <td>   -0.0178</td> <td>    0.014</td> <td>   -1.263</td> <td> 0.207</td> <td>   -0.045</td> <td>    0.010</td>\n",
       "</tr>\n",
       "<tr>\n",
       "  <th>ma.L1.D2.market_value</th> <td>   -1.0000</td> <td>    0.001</td> <td>-1717.283</td> <td> 0.000</td> <td>   -1.001</td> <td>   -0.999</td>\n",
       "</tr>\n",
       "</table>\n",
       "<table class=\"simpletable\">\n",
       "<caption>Roots</caption>\n",
       "<tr>\n",
       "    <td></td>   <th>            Real</th>  <th>         Imaginary</th> <th>         Modulus</th>  <th>        Frequency</th>\n",
       "</tr>\n",
       "<tr>\n",
       "  <th>AR.1</th> <td>         -56.1053</td> <td>          +0.0000j</td> <td>          56.1053</td> <td>           0.5000</td>\n",
       "</tr>\n",
       "<tr>\n",
       "  <th>MA.1</th> <td>           1.0000</td> <td>          +0.0000j</td> <td>           1.0000</td> <td>           0.0000</td>\n",
       "</tr>\n",
       "</table>"
      ],
      "text/plain": [
       "<class 'statsmodels.iolib.summary.Summary'>\n",
       "\"\"\"\n",
       "                             ARIMA Model Results                              \n",
       "==============================================================================\n",
       "Dep. Variable:        D2.market_value   No. Observations:                 5019\n",
       "Model:                 ARIMA(1, 2, 1)   Log Likelihood              -27614.158\n",
       "Method:                       css-mle   S.D. of innovations             59.272\n",
       "Date:                Mon, 13 Apr 2020   AIC                          55236.316\n",
       "Time:                        00:53:40   BIC                          55262.400\n",
       "Sample:                    01-11-1994   HQIC                         55245.457\n",
       "                         - 04-05-2013                                         \n",
       "=========================================================================================\n",
       "                            coef    std err          z      P>|z|      [0.025      0.975]\n",
       "-----------------------------------------------------------------------------------------\n",
       "const                    -0.0001      0.001     -0.196      0.845      -0.001       0.001\n",
       "ar.L1.D2.market_value    -0.0178      0.014     -1.263      0.207      -0.045       0.010\n",
       "ma.L1.D2.market_value    -1.0000      0.001  -1717.283      0.000      -1.001      -0.999\n",
       "                                    Roots                                    \n",
       "=============================================================================\n",
       "                  Real          Imaginary           Modulus         Frequency\n",
       "-----------------------------------------------------------------------------\n",
       "AR.1          -56.1053           +0.0000j           56.1053            0.5000\n",
       "MA.1            1.0000           +0.0000j            1.0000            0.0000\n",
       "-----------------------------------------------------------------------------\n",
       "\"\"\""
      ]
     },
     "execution_count": 49,
     "metadata": {},
     "output_type": "execute_result"
    }
   ],
   "source": [
    "model_ar1_i2_ma1 = ARIMA(df.market_value, order=(1,2,1))\n",
    "results_ar1_i2_ma1 = model_ar1_i2_ma1.fit(start_ar_lags=10)\n",
    "results_ar1_i2_ma1.summary()"
   ]
  },
  {
   "cell_type": "code",
   "execution_count": 51,
   "metadata": {},
   "outputs": [
    {
     "data": {
      "image/png": "[encoded data removed]",
      "text/plain": [
       "<Figure size 432x288 with 1 Axes>"
      ]
     },
     "metadata": {
      "needs_background": "light"
     },
     "output_type": "display_data"
    }
   ],
   "source": [
    "df['results_ar1_i2_ma1'] = results_ar1_i2_ma1.resid\n",
    "sgt.plot_acf(df.results_ar1_i2_ma1[2:], zero=False, lags=40)\n",
    "plt.title(\"ACF of Residual for ARIMA(1,2,1)\")\n",
    "plt.show()"
   ]
  },
  {
   "cell_type": "markdown",
   "metadata": {},
   "source": [
    "## ARIMAX "
   ]
  },
  {
   "cell_type": "code",
   "execution_count": 53,
   "metadata": {},
   "outputs": [
    {
     "data": {
      "text/html": [
       "<table class=\"simpletable\">\n",
       "<caption>ARIMA Model Results</caption>\n",
       "<tr>\n",
       "  <th>Dep. Variable:</th>  <td>D.market_value</td>  <th>  No. Observations:  </th>    <td>5020</td>   \n",
       "</tr>\n",
       "<tr>\n",
       "  <th>Model:</th>          <td>ARIMA(1, 1, 1)</td>  <th>  Log Likelihood     </th> <td>-27603.556</td>\n",
       "</tr>\n",
       "<tr>\n",
       "  <th>Method:</th>             <td>css-mle</td>     <th>  S.D. of innovations</th>   <td>59.132</td>  \n",
       "</tr>\n",
       "<tr>\n",
       "  <th>Date:</th>          <td>Mon, 13 Apr 2020</td> <th>  AIC                </th>  <td>55217.112</td>\n",
       "</tr>\n",
       "<tr>\n",
       "  <th>Time:</th>              <td>01:26:26</td>     <th>  BIC                </th>  <td>55249.718</td>\n",
       "</tr>\n",
       "<tr>\n",
       "  <th>Sample:</th>           <td>01-10-1994</td>    <th>  HQIC               </th>  <td>55228.538</td>\n",
       "</tr>\n",
       "<tr>\n",
       "  <th></th>                 <td>- 04-05-2013</td>   <th>                     </th>      <td> </td>    \n",
       "</tr>\n",
       "</table>\n",
       "<table class=\"simpletable\">\n",
       "<tr>\n",
       "            <td></td>              <th>coef</th>     <th>std err</th>      <th>z</th>      <th>P>|z|</th>  <th>[0.025</th>    <th>0.975]</th>  \n",
       "</tr>\n",
       "<tr>\n",
       "  <th>const</th>                <td>   -0.5884</td> <td>    2.655</td> <td>   -0.222</td> <td> 0.825</td> <td>   -5.791</td> <td>    4.615</td>\n",
       "</tr>\n",
       "<tr>\n",
       "  <th>spx</th>                  <td>    0.0011</td> <td>    0.002</td> <td>    0.451</td> <td> 0.652</td> <td>   -0.004</td> <td>    0.006</td>\n",
       "</tr>\n",
       "<tr>\n",
       "  <th>ar.L1.D.market_value</th> <td>    0.7462</td> <td>    0.070</td> <td>   10.602</td> <td> 0.000</td> <td>    0.608</td> <td>    0.884</td>\n",
       "</tr>\n",
       "<tr>\n",
       "  <th>ma.L1.D.market_value</th> <td>   -0.7923</td> <td>    0.064</td> <td>  -12.305</td> <td> 0.000</td> <td>   -0.918</td> <td>   -0.666</td>\n",
       "</tr>\n",
       "</table>\n",
       "<table class=\"simpletable\">\n",
       "<caption>Roots</caption>\n",
       "<tr>\n",
       "    <td></td>   <th>            Real</th>  <th>         Imaginary</th> <th>         Modulus</th>  <th>        Frequency</th>\n",
       "</tr>\n",
       "<tr>\n",
       "  <th>AR.1</th> <td>           1.3400</td> <td>          +0.0000j</td> <td>           1.3400</td> <td>           0.0000</td>\n",
       "</tr>\n",
       "<tr>\n",
       "  <th>MA.1</th> <td>           1.2622</td> <td>          +0.0000j</td> <td>           1.2622</td> <td>           0.0000</td>\n",
       "</tr>\n",
       "</table>"
      ],
      "text/plain": [
       "<class 'statsmodels.iolib.summary.Summary'>\n",
       "\"\"\"\n",
       "                             ARIMA Model Results                              \n",
       "==============================================================================\n",
       "Dep. Variable:         D.market_value   No. Observations:                 5020\n",
       "Model:                 ARIMA(1, 1, 1)   Log Likelihood              -27603.556\n",
       "Method:                       css-mle   S.D. of innovations             59.132\n",
       "Date:                Mon, 13 Apr 2020   AIC                          55217.112\n",
       "Time:                        01:26:26   BIC                          55249.718\n",
       "Sample:                    01-10-1994   HQIC                         55228.538\n",
       "                         - 04-05-2013                                         \n",
       "========================================================================================\n",
       "                           coef    std err          z      P>|z|      [0.025      0.975]\n",
       "----------------------------------------------------------------------------------------\n",
       "const                   -0.5884      2.655     -0.222      0.825      -5.791       4.615\n",
       "spx                      0.0011      0.002      0.451      0.652      -0.004       0.006\n",
       "ar.L1.D.market_value     0.7462      0.070     10.602      0.000       0.608       0.884\n",
       "ma.L1.D.market_value    -0.7923      0.064    -12.305      0.000      -0.918      -0.666\n",
       "                                    Roots                                    \n",
       "=============================================================================\n",
       "                  Real          Imaginary           Modulus         Frequency\n",
       "-----------------------------------------------------------------------------\n",
       "AR.1            1.3400           +0.0000j            1.3400            0.0000\n",
       "MA.1            1.2622           +0.0000j            1.2622            0.0000\n",
       "-----------------------------------------------------------------------------\n",
       "\"\"\""
      ]
     },
     "execution_count": 53,
     "metadata": {},
     "output_type": "execute_result"
    }
   ],
   "source": [
    "model_ar1_i1_ma1_xspx = ARIMA(df.market_value,exog=df.spx, order=(1,1,1))\n",
    "results_ar1_i1_ma1_xspx = model_ar1_i1_ma1_xspx.fit()\n",
    "results_ar1_i1_ma1_xspx.summary()"
   ]
  },
  {
   "cell_type": "markdown",
   "metadata": {},
   "source": [
    "## SARIMAX "
   ]
  },
  {
   "cell_type": "code",
   "execution_count": 54,
   "metadata": {},
   "outputs": [],
   "source": [
    "from statsmodels.tsa.statespace.sarimax import SARIMAX"
   ]
  },
  {
   "cell_type": "code",
   "execution_count": 55,
   "metadata": {},
   "outputs": [
    {
     "data": {
      "text/html": [
       "<table class=\"simpletable\">\n",
       "<caption>Statespace Model Results</caption>\n",
       "<tr>\n",
       "  <th>Dep. Variable:</th>           <td>market_value</td>          <th>  No. Observations:  </th>    <td>5021</td>   \n",
       "</tr>\n",
       "<tr>\n",
       "  <th>Model:</th>           <td>SARIMAX(1, 0, 1)x(2, 0, 1, 5)</td> <th>  Log Likelihood     </th> <td>-26712.840</td>\n",
       "</tr>\n",
       "<tr>\n",
       "  <th>Date:</th>                  <td>Mon, 13 Apr 2020</td>        <th>  AIC                </th>  <td>53439.679</td>\n",
       "</tr>\n",
       "<tr>\n",
       "  <th>Time:</th>                      <td>01:48:06</td>            <th>  BIC                </th>  <td>53485.329</td>\n",
       "</tr>\n",
       "<tr>\n",
       "  <th>Sample:</th>                   <td>01-07-1994</td>           <th>  HQIC               </th>  <td>53455.676</td>\n",
       "</tr>\n",
       "<tr>\n",
       "  <th></th>                         <td>- 04-05-2013</td>          <th>                     </th>      <td> </td>    \n",
       "</tr>\n",
       "<tr>\n",
       "  <th>Covariance Type:</th>              <td>opg</td>              <th>                     </th>      <td> </td>    \n",
       "</tr>\n",
       "</table>\n",
       "<table class=\"simpletable\">\n",
       "<tr>\n",
       "      <td></td>        <th>coef</th>     <th>std err</th>      <th>z</th>      <th>P>|z|</th>  <th>[0.025</th>    <th>0.975]</th>  \n",
       "</tr>\n",
       "<tr>\n",
       "  <th>spx</th>      <td>    2.6861</td> <td>    0.035</td> <td>   76.718</td> <td> 0.000</td> <td>    2.618</td> <td>    2.755</td>\n",
       "</tr>\n",
       "<tr>\n",
       "  <th>ar.L1</th>    <td>    0.9999</td> <td>    0.000</td> <td> 2731.338</td> <td> 0.000</td> <td>    0.999</td> <td>    1.001</td>\n",
       "</tr>\n",
       "<tr>\n",
       "  <th>ma.L1</th>    <td>   -0.3091</td> <td>    0.009</td> <td>  -32.935</td> <td> 0.000</td> <td>   -0.328</td> <td>   -0.291</td>\n",
       "</tr>\n",
       "<tr>\n",
       "  <th>ar.S.L5</th>  <td>    0.9597</td> <td>    0.005</td> <td>  187.221</td> <td> 0.000</td> <td>    0.950</td> <td>    0.970</td>\n",
       "</tr>\n",
       "<tr>\n",
       "  <th>ar.S.L10</th> <td>    0.0401</td> <td>    0.004</td> <td>   10.710</td> <td> 0.000</td> <td>    0.033</td> <td>    0.047</td>\n",
       "</tr>\n",
       "<tr>\n",
       "  <th>ma.S.L5</th>  <td>   -0.9991</td> <td>    0.006</td> <td> -157.981</td> <td> 0.000</td> <td>   -1.011</td> <td>   -0.987</td>\n",
       "</tr>\n",
       "<tr>\n",
       "  <th>sigma2</th>   <td> 2415.1227</td> <td>   28.137</td> <td>   85.835</td> <td> 0.000</td> <td> 2359.976</td> <td> 2470.270</td>\n",
       "</tr>\n",
       "</table>\n",
       "<table class=\"simpletable\">\n",
       "<tr>\n",
       "  <th>Ljung-Box (Q):</th>          <td>96.04</td> <th>  Jarque-Bera (JB):  </th> <td>4182.77</td>\n",
       "</tr>\n",
       "<tr>\n",
       "  <th>Prob(Q):</th>                <td>0.00</td>  <th>  Prob(JB):          </th>  <td>0.00</td>  \n",
       "</tr>\n",
       "<tr>\n",
       "  <th>Heteroskedasticity (H):</th> <td>1.24</td>  <th>  Skew:              </th>  <td>-0.52</td> \n",
       "</tr>\n",
       "<tr>\n",
       "  <th>Prob(H) (two-sided):</th>    <td>0.00</td>  <th>  Kurtosis:          </th>  <td>7.35</td>  \n",
       "</tr>\n",
       "</table><br/><br/>Warnings:<br/>[1] Covariance matrix calculated using the outer product of gradients (complex-step)."
      ],
      "text/plain": [
       "<class 'statsmodels.iolib.summary.Summary'>\n",
       "\"\"\"\n",
       "                                 Statespace Model Results                                \n",
       "=========================================================================================\n",
       "Dep. Variable:                      market_value   No. Observations:                 5021\n",
       "Model:             SARIMAX(1, 0, 1)x(2, 0, 1, 5)   Log Likelihood              -26712.840\n",
       "Date:                           Mon, 13 Apr 2020   AIC                          53439.679\n",
       "Time:                                   01:48:06   BIC                          53485.329\n",
       "Sample:                               01-07-1994   HQIC                         53455.676\n",
       "                                    - 04-05-2013                                         \n",
       "Covariance Type:                             opg                                         \n",
       "==============================================================================\n",
       "                 coef    std err          z      P>|z|      [0.025      0.975]\n",
       "------------------------------------------------------------------------------\n",
       "spx            2.6861      0.035     76.718      0.000       2.618       2.755\n",
       "ar.L1          0.9999      0.000   2731.338      0.000       0.999       1.001\n",
       "ma.L1         -0.3091      0.009    -32.935      0.000      -0.328      -0.291\n",
       "ar.S.L5        0.9597      0.005    187.221      0.000       0.950       0.970\n",
       "ar.S.L10       0.0401      0.004     10.710      0.000       0.033       0.047\n",
       "ma.S.L5       -0.9991      0.006   -157.981      0.000      -1.011      -0.987\n",
       "sigma2      2415.1227     28.137     85.835      0.000    2359.976    2470.270\n",
       "===================================================================================\n",
       "Ljung-Box (Q):                       96.04   Jarque-Bera (JB):              4182.77\n",
       "Prob(Q):                              0.00   Prob(JB):                         0.00\n",
       "Heteroskedasticity (H):               1.24   Skew:                            -0.52\n",
       "Prob(H) (two-sided):                  0.00   Kurtosis:                         7.35\n",
       "===================================================================================\n",
       "\n",
       "Warnings:\n",
       "[1] Covariance matrix calculated using the outer product of gradients (complex-step).\n",
       "\"\"\""
      ]
     },
     "execution_count": 55,
     "metadata": {},
     "output_type": "execute_result"
    }
   ],
   "source": [
    "model_sarimax = SARIMAX(df.market_value,exog=df.spx, order=(1,0,1),seasonal_order=(2,0,1,5))\n",
    "results_sarimax = model_sarimax.fit()\n",
    "results_sarimax.summary()"
   ]
  },
  {
   "cell_type": "code",
   "execution_count": null,
   "metadata": {},
   "outputs": [],
   "source": []
  }
 ],
 "metadata": {
  "kernelspec": {
   "display_name": "Python 3",
   "language": "python",
   "name": "python3"
  },
  "language_info": {
   "codemirror_mode": {
    "name": "ipython",
    "version": 3
   },
   "file_extension": ".py",
   "mimetype": "text/x-python",
   "name": "python",
   "nbconvert_exporter": "python",
   "pygments_lexer": "ipython3",
   "version": "3.7.2"
  }
 },
 "nbformat": 4,
 "nbformat_minor": 2
}
